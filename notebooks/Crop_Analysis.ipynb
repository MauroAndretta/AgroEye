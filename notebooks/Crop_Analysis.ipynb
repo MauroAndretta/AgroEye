{
 "cells": [
  {
   "cell_type": "markdown",
   "metadata": {},
   "source": [
    "# Crop Analysis Notebook\n",
    "\n",
    "Welcome to the Weather Data Visualization Notebook! This notebook is designed to help you fetch and visualize weather data for the past N (N>0) days.\n",
    "\n",
    "## Setup Instructions\n",
    "\n",
    "Before you start using this notebook, please follow these steps to set up the Conda environment:\n",
    "\n",
    "1. **Create and Activate the Conda Environment**:\n",
    "   \n",
    "   Ensure you have Conda installed. Open a terminal and navigate to the root directory of the repository. Run the following command to create a new Conda environment based on the `agro_eye_notebooks.yaml` file located in the `conda` folder:\n",
    "\n",
    "   ```bash\n",
    "   conda env create -f conda/agro_eye_notebooks.yaml\n",
    "   ```\n",
    "### Install env variable\n",
    "\n",
    "Put the following env variables in your `~/.env`:\n",
    "- \"URL_OPEN-METEO\"\n",
    "- \"SERVICE_ACCOUNT\"\n",
    "\n",
    "```bash\n",
    "SERVICE_ACCOUNT=my-service-account@...gserviceaccount.com\n",
    "URL_OPEN-METEO=https://open-meteo.com/\n",
    "```"
   ]
  },
  {
   "cell_type": "code",
   "execution_count": 1,
   "metadata": {},
   "outputs": [],
   "source": [
    "# Import the necessary libraries\n",
    "import requests\n",
    "import json\n",
    "from dotenv import load_dotenv\n",
    "import os\n",
    "import openmeteo_requests\n",
    "import requests_cache\n",
    "import numpy as np\n",
    "from retry_requests import retry\n",
    "import matplotlib as mpl\n",
    "from matplotlib import pyplot as plt\n",
    "import plotly.io as pio\n",
    "import plotly.graph_objects as go\n",
    "from plotly.subplots import make_subplots\n",
    "import pandas as pd\n",
    "import ee\n",
    "import geemap\n",
    "from geopy.geocoders import Nominatim\n",
    "# allow images to display in the notebook\n",
    "from IPython.display import Image, display, HTML\n",
    "import ipywidgets as widgets\n",
    "import ipyleaflet\n",
    "import matplotlib.pyplot as plt\n",
    "from matplotlib.widgets import Button\n",
    "from ipywidgets import VBox, HBox\n",
    "import time"
   ]
  },
  {
   "cell_type": "code",
   "execution_count": 2,
   "metadata": {},
   "outputs": [
    {
     "data": {
      "text/html": [
       "\n",
       "            <style>\n",
       "                .geemap-dark {\n",
       "                    --jp-widgets-color: white;\n",
       "                    --jp-widgets-label-color: white;\n",
       "                    --jp-ui-font-color1: white;\n",
       "                    --jp-layout-color2: #454545;\n",
       "                    background-color: #383838;\n",
       "                }\n",
       "\n",
       "                .geemap-dark .jupyter-button {\n",
       "                    --jp-layout-color3: #383838;\n",
       "                }\n",
       "\n",
       "                .geemap-colab {\n",
       "                    background-color: var(--colab-primary-surface-color, white);\n",
       "                }\n",
       "\n",
       "                .geemap-colab .jupyter-button {\n",
       "                    --jp-layout-color3: var(--colab-primary-surface-color, white);\n",
       "                }\n",
       "            </style>\n",
       "            "
      ],
      "text/plain": [
       "<IPython.core.display.HTML object>"
      ]
     },
     "metadata": {},
     "output_type": "display_data"
    },
    {
     "data": {
      "text/plain": [
       "True"
      ]
     },
     "execution_count": 2,
     "metadata": {},
     "output_type": "execute_result"
    }
   ],
   "source": [
    "load_dotenv(dotenv_path=os.path.expanduser(\"~/.env\"))"
   ]
  },
  {
   "cell_type": "code",
   "execution_count": 3,
   "metadata": {},
   "outputs": [
    {
     "data": {
      "text/html": [
       "\n",
       "            <style>\n",
       "                .geemap-dark {\n",
       "                    --jp-widgets-color: white;\n",
       "                    --jp-widgets-label-color: white;\n",
       "                    --jp-ui-font-color1: white;\n",
       "                    --jp-layout-color2: #454545;\n",
       "                    background-color: #383838;\n",
       "                }\n",
       "\n",
       "                .geemap-dark .jupyter-button {\n",
       "                    --jp-layout-color3: #383838;\n",
       "                }\n",
       "\n",
       "                .geemap-colab {\n",
       "                    background-color: var(--colab-primary-surface-color, white);\n",
       "                }\n",
       "\n",
       "                .geemap-colab .jupyter-button {\n",
       "                    --jp-layout-color3: var(--colab-primary-surface-color, white);\n",
       "                }\n",
       "            </style>\n",
       "            "
      ],
      "text/plain": [
       "<IPython.core.display.HTML object>"
      ]
     },
     "metadata": {},
     "output_type": "display_data"
    }
   ],
   "source": [
    "default_env = {\n",
    "    \"URL_OPEN-METEO\", \n",
    "    \"SERVICE_ACCOUNT\"\n",
    "}"
   ]
  },
  {
   "cell_type": "code",
   "execution_count": 4,
   "metadata": {},
   "outputs": [
    {
     "data": {
      "text/html": [
       "\n",
       "            <style>\n",
       "                .geemap-dark {\n",
       "                    --jp-widgets-color: white;\n",
       "                    --jp-widgets-label-color: white;\n",
       "                    --jp-ui-font-color1: white;\n",
       "                    --jp-layout-color2: #454545;\n",
       "                    background-color: #383838;\n",
       "                }\n",
       "\n",
       "                .geemap-dark .jupyter-button {\n",
       "                    --jp-layout-color3: #383838;\n",
       "                }\n",
       "\n",
       "                .geemap-colab {\n",
       "                    background-color: var(--colab-primary-surface-color, white);\n",
       "                }\n",
       "\n",
       "                .geemap-colab .jupyter-button {\n",
       "                    --jp-layout-color3: var(--colab-primary-surface-color, white);\n",
       "                }\n",
       "            </style>\n",
       "            "
      ],
      "text/plain": [
       "<IPython.core.display.HTML object>"
      ]
     },
     "metadata": {},
     "output_type": "display_data"
    }
   ],
   "source": [
    "for env in default_env:\n",
    "    if env not in os.environ:\n",
    "        raise Exception(f\"Missing environment variable: {env}. Please add it to your ~/.env file\")"
   ]
  },
  {
   "cell_type": "markdown",
   "metadata": {},
   "source": [
    "### Define the input variables:\n",
    "- Start date of the analysis\n",
    "- End date of the analysis\n",
    "- Address of the analysis\n",
    "    - which'll be geocoded to get Lat and Long"
   ]
  },
  {
   "cell_type": "code",
   "execution_count": 23,
   "metadata": {},
   "outputs": [
    {
     "data": {
      "text/html": [
       "\n",
       "            <style>\n",
       "                .geemap-dark {\n",
       "                    --jp-widgets-color: white;\n",
       "                    --jp-widgets-label-color: white;\n",
       "                    --jp-ui-font-color1: white;\n",
       "                    --jp-layout-color2: #454545;\n",
       "                    background-color: #383838;\n",
       "                }\n",
       "\n",
       "                .geemap-dark .jupyter-button {\n",
       "                    --jp-layout-color3: #383838;\n",
       "                }\n",
       "\n",
       "                .geemap-colab {\n",
       "                    background-color: var(--colab-primary-surface-color, white);\n",
       "                }\n",
       "\n",
       "                .geemap-colab .jupyter-button {\n",
       "                    --jp-layout-color3: var(--colab-primary-surface-color, white);\n",
       "                }\n",
       "            </style>\n",
       "            "
      ],
      "text/plain": [
       "<IPython.core.display.HTML object>"
      ]
     },
     "metadata": {},
     "output_type": "display_data"
    }
   ],
   "source": [
    "# Define the start and end date of the analysis\n",
    "start_date = \"2024-06-01\"\n",
    "end_date = \"2024-07-25\"\n",
    "current_date = time.strftime(\"%Y-%m-%d\")\n",
    "\n",
    "# Check if the end data is lower than the start date and currrent date\n",
    "if end_date < start_date:\n",
    "    raise Exception(\"End date must be greater than start date\")\n",
    "\n",
    "if current_date < end_date:\n",
    "    raise Exception(\"End date must be lower than the current date\")"
   ]
  },
  {
   "cell_type": "code",
   "execution_count": 28,
   "metadata": {},
   "outputs": [
    {
     "data": {
      "text/html": [
       "\n",
       "            <style>\n",
       "                .geemap-dark {\n",
       "                    --jp-widgets-color: white;\n",
       "                    --jp-widgets-label-color: white;\n",
       "                    --jp-ui-font-color1: white;\n",
       "                    --jp-layout-color2: #454545;\n",
       "                    background-color: #383838;\n",
       "                }\n",
       "\n",
       "                .geemap-dark .jupyter-button {\n",
       "                    --jp-layout-color3: #383838;\n",
       "                }\n",
       "\n",
       "                .geemap-colab {\n",
       "                    background-color: var(--colab-primary-surface-color, white);\n",
       "                }\n",
       "\n",
       "                .geemap-colab .jupyter-button {\n",
       "                    --jp-layout-color3: var(--colab-primary-surface-color, white);\n",
       "                }\n",
       "            </style>\n",
       "            "
      ],
      "text/plain": [
       "<IPython.core.display.HTML object>"
      ]
     },
     "metadata": {},
     "output_type": "display_data"
    },
    {
     "name": "stdout",
     "output_type": "stream",
     "text": [
      "Address \"Rome, Italy\" geocoded successfully!\n"
     ]
    }
   ],
   "source": [
    "# Function to geocode an address and get lat and lon\n",
    "def geocode(address: str, attemps: int, sleep_time: int = 1) -> tuple:\n",
    "\n",
    "    for attempt in range(attemps):\n",
    "        # try to geocode the address\n",
    "        try:\n",
    "            geolocator = Nominatim(user_agent=\"agro-eye\")\n",
    "            location = geolocator.geocode(address)\n",
    "\n",
    "            print(f'Address \"{address}\" geocoded successfully!')\n",
    "\n",
    "            # check if we got a valid location\n",
    "            if location:\n",
    "                return location.latitude, location.longitude\n",
    "            else:\n",
    "                print(\n",
    "                    f\"Attempt {attempt + 1} failed, trying again in {sleep_time} seconds...\"\n",
    "                )\n",
    "                time.sleep(sleep_time)\n",
    "\n",
    "        except Exception as e:\n",
    "            print(\n",
    "                f\"Attempt {attempt + 1} failed, trying again in {sleep_time} seconds...\"\n",
    "            )\n",
    "            time.sleep(sleep_time)\n",
    "            location = geocode(address, attemps, sleep_time)\n",
    "            return location\n",
    "\n",
    "\n",
    "# Import the satellite data from Google Earth Engine for the defined study area and the\n",
    "# specified start and end date\n",
    "lat, lon = geocode(\"Rome, Italy\", attemps=3)"
   ]
  },
  {
   "cell_type": "markdown",
   "metadata": {},
   "source": [
    "Fetch historical Weather Forcast. The information has been fecthed from [here](https://open-meteo.com/en/docs#hourly=&daily=weather_code,temperature_2m_max,temperature_2m_min,apparent_temperature_max,apparent_temperature_min,sunrise,sunset,daylight_duration,uv_index_max,precipitation_sum,rain_sum,snowfall_sum,precipitation_hours,wind_speed_10m_max,shortwave_radiation_sum,et0_fao_evapotranspiration&start_date=2024-07-01&end_date=2024-07-09&time_mode=time_interval)"
   ]
  },
  {
   "cell_type": "code",
   "execution_count": 29,
   "metadata": {},
   "outputs": [
    {
     "data": {
      "text/html": [
       "\n",
       "            <style>\n",
       "                .geemap-dark {\n",
       "                    --jp-widgets-color: white;\n",
       "                    --jp-widgets-label-color: white;\n",
       "                    --jp-ui-font-color1: white;\n",
       "                    --jp-layout-color2: #454545;\n",
       "                    background-color: #383838;\n",
       "                }\n",
       "\n",
       "                .geemap-dark .jupyter-button {\n",
       "                    --jp-layout-color3: #383838;\n",
       "                }\n",
       "\n",
       "                .geemap-colab {\n",
       "                    background-color: var(--colab-primary-surface-color, white);\n",
       "                }\n",
       "\n",
       "                .geemap-colab .jupyter-button {\n",
       "                    --jp-layout-color3: var(--colab-primary-surface-color, white);\n",
       "                }\n",
       "            </style>\n",
       "            "
      ],
      "text/plain": [
       "<IPython.core.display.HTML object>"
      ]
     },
     "metadata": {},
     "output_type": "display_data"
    }
   ],
   "source": [
    "# Setup the Open-Meteo API client with cache and retry on error\n",
    "cache_session = requests_cache.CachedSession('.cache', expire_after = 3600)\n",
    "retry_session = retry(cache_session, retries = 5, backoff_factor = 0.2)\n",
    "openmeteo = openmeteo_requests.Client(session = retry_session)"
   ]
  },
  {
   "cell_type": "markdown",
   "metadata": {},
   "source": [
    "#### Query for daily information"
   ]
  },
  {
   "cell_type": "code",
   "execution_count": 30,
   "metadata": {},
   "outputs": [
    {
     "data": {
      "text/html": [
       "\n",
       "            <style>\n",
       "                .geemap-dark {\n",
       "                    --jp-widgets-color: white;\n",
       "                    --jp-widgets-label-color: white;\n",
       "                    --jp-ui-font-color1: white;\n",
       "                    --jp-layout-color2: #454545;\n",
       "                    background-color: #383838;\n",
       "                }\n",
       "\n",
       "                .geemap-dark .jupyter-button {\n",
       "                    --jp-layout-color3: #383838;\n",
       "                }\n",
       "\n",
       "                .geemap-colab {\n",
       "                    background-color: var(--colab-primary-surface-color, white);\n",
       "                }\n",
       "\n",
       "                .geemap-colab .jupyter-button {\n",
       "                    --jp-layout-color3: var(--colab-primary-surface-color, white);\n",
       "                }\n",
       "            </style>\n",
       "            "
      ],
      "text/plain": [
       "<IPython.core.display.HTML object>"
      ]
     },
     "metadata": {},
     "output_type": "display_data"
    }
   ],
   "source": [
    "# Make sure all required weather variables are listed here\n",
    "# The order of variables in hourly or daily is important to assign them correctly below\n",
    "params = {\n",
    "    \"latitude\": lat,\n",
    "    \"longitude\": lon,\n",
    "    \"start_date\": start_date,\n",
    "    \"end_date\": end_date,\n",
    "    \"daily\": [\n",
    "        \"temperature_2m_max\",\n",
    "        \"temperature_2m_min\",\n",
    "        \"precipitation_sum\",\n",
    "        \"rain_sum\",\n",
    "        \"snowfall_sum\",\n",
    "        \"precipitation_hours\",\n",
    "        \"wind_speed_10m_max\",\n",
    "        \"shortwave_radiation_sum\",\n",
    "        \"et0_fao_evapotranspiration\",\n",
    "    ],\n",
    "}\n",
    "# try to get the weather data from the Open-Meteo API\n",
    "responses = openmeteo.weather_api(os.environ[\"URL_OPEN-METEO\"], params=params)"
   ]
  },
  {
   "cell_type": "code",
   "execution_count": 31,
   "metadata": {},
   "outputs": [
    {
     "data": {
      "text/html": [
       "\n",
       "            <style>\n",
       "                .geemap-dark {\n",
       "                    --jp-widgets-color: white;\n",
       "                    --jp-widgets-label-color: white;\n",
       "                    --jp-ui-font-color1: white;\n",
       "                    --jp-layout-color2: #454545;\n",
       "                    background-color: #383838;\n",
       "                }\n",
       "\n",
       "                .geemap-dark .jupyter-button {\n",
       "                    --jp-layout-color3: #383838;\n",
       "                }\n",
       "\n",
       "                .geemap-colab {\n",
       "                    background-color: var(--colab-primary-surface-color, white);\n",
       "                }\n",
       "\n",
       "                .geemap-colab .jupyter-button {\n",
       "                    --jp-layout-color3: var(--colab-primary-surface-color, white);\n",
       "                }\n",
       "            </style>\n",
       "            "
      ],
      "text/plain": [
       "<IPython.core.display.HTML object>"
      ]
     },
     "metadata": {},
     "output_type": "display_data"
    },
    {
     "name": "stdout",
     "output_type": "stream",
     "text": [
      "Coordinates 41.8629150390625°N 12.539912223815918°E\n",
      "Elevation 42.0 m asl\n",
      "Timezone None None\n",
      "Timezone difference to GMT+0 0 s\n"
     ]
    }
   ],
   "source": [
    "\n",
    "# Process first location. Add a for-loop for multiple locations or weather models\n",
    "response = responses[0]\n",
    "print(f\"Coordinates {response.Latitude()}°N {response.Longitude()}°E\")\n",
    "print(f\"Elevation {response.Elevation()} m asl\")\n",
    "print(f\"Timezone {response.Timezone()} {response.TimezoneAbbreviation()}\")\n",
    "print(f\"Timezone difference to GMT+0 {response.UtcOffsetSeconds()} s\")"
   ]
  },
  {
   "cell_type": "code",
   "execution_count": 32,
   "metadata": {},
   "outputs": [
    {
     "data": {
      "text/html": [
       "\n",
       "            <style>\n",
       "                .geemap-dark {\n",
       "                    --jp-widgets-color: white;\n",
       "                    --jp-widgets-label-color: white;\n",
       "                    --jp-ui-font-color1: white;\n",
       "                    --jp-layout-color2: #454545;\n",
       "                    background-color: #383838;\n",
       "                }\n",
       "\n",
       "                .geemap-dark .jupyter-button {\n",
       "                    --jp-layout-color3: #383838;\n",
       "                }\n",
       "\n",
       "                .geemap-colab {\n",
       "                    background-color: var(--colab-primary-surface-color, white);\n",
       "                }\n",
       "\n",
       "                .geemap-colab .jupyter-button {\n",
       "                    --jp-layout-color3: var(--colab-primary-surface-color, white);\n",
       "                }\n",
       "            </style>\n",
       "            "
      ],
      "text/plain": [
       "<IPython.core.display.HTML object>"
      ]
     },
     "metadata": {},
     "output_type": "display_data"
    }
   ],
   "source": [
    "# Process daily data. The order of variables needs to be the same as requested.\n",
    "daily = response.Daily()\n",
    "daily_temperature_2m_max = daily.Variables(0).ValuesAsNumpy()\n",
    "daily_temperature_2m_min = daily.Variables(1).ValuesAsNumpy()\n",
    "daily_precipitation_sum = daily.Variables(2).ValuesAsNumpy()\n",
    "daily_rain_sum = daily.Variables(3).ValuesAsNumpy()\n",
    "daily_snowfall_sum = daily.Variables(4).ValuesAsNumpy()\n",
    "daily_precipitation_hours = daily.Variables(5).ValuesAsNumpy()\n",
    "daily_wind_speed_10m_max = daily.Variables(6).ValuesAsNumpy()\n",
    "daily_shortwave_radiation_sum = daily.Variables(7).ValuesAsNumpy()\n",
    "daily_et0_fao_evapotranspiration = daily.Variables(8).ValuesAsNumpy()"
   ]
  },
  {
   "cell_type": "code",
   "execution_count": 33,
   "metadata": {},
   "outputs": [
    {
     "data": {
      "text/html": [
       "\n",
       "            <style>\n",
       "                .geemap-dark {\n",
       "                    --jp-widgets-color: white;\n",
       "                    --jp-widgets-label-color: white;\n",
       "                    --jp-ui-font-color1: white;\n",
       "                    --jp-layout-color2: #454545;\n",
       "                    background-color: #383838;\n",
       "                }\n",
       "\n",
       "                .geemap-dark .jupyter-button {\n",
       "                    --jp-layout-color3: #383838;\n",
       "                }\n",
       "\n",
       "                .geemap-colab {\n",
       "                    background-color: var(--colab-primary-surface-color, white);\n",
       "                }\n",
       "\n",
       "                .geemap-colab .jupyter-button {\n",
       "                    --jp-layout-color3: var(--colab-primary-surface-color, white);\n",
       "                }\n",
       "            </style>\n",
       "            "
      ],
      "text/plain": [
       "<IPython.core.display.HTML object>"
      ]
     },
     "metadata": {},
     "output_type": "display_data"
    }
   ],
   "source": [
    "# Create a pandas DataFrame with the daily data\n",
    "daily_data = {\"date\": pd.date_range(\n",
    "\tstart = pd.to_datetime(daily.Time(), unit = \"s\", utc = True),\n",
    "\tend = pd.to_datetime(daily.TimeEnd(), unit = \"s\", utc = True),\n",
    "\tfreq = pd.Timedelta(seconds = daily.Interval()),\n",
    "\tinclusive = \"left\"\n",
    ")}\n",
    "\n",
    "\n",
    "daily_data[\"temperature_2m_max\"] = daily_temperature_2m_max\n",
    "daily_data[\"temperature_2m_min\"] = daily_temperature_2m_min\n",
    "daily_data[\"precipitation_sum\"] = daily_precipitation_sum\n",
    "daily_data[\"rain_sum\"] = daily_rain_sum\n",
    "daily_data[\"snowfall_sum\"] = daily_snowfall_sum\n",
    "daily_data[\"precipitation_hours\"] = daily_precipitation_hours\n",
    "daily_data[\"wind_speed_10m_max\"] = daily_wind_speed_10m_max\n",
    "daily_data[\"shortwave_radiation_sum\"] = daily_shortwave_radiation_sum\n",
    "daily_data[\"et0_fao_evapotranspiration\"] = daily_et0_fao_evapotranspiration\n",
    "\n",
    "\n",
    "daily_data = pd.DataFrame(data = daily_data)"
   ]
  },
  {
   "cell_type": "code",
   "execution_count": 34,
   "metadata": {},
   "outputs": [
    {
     "data": {
      "text/html": [
       "\n",
       "            <style>\n",
       "                .geemap-dark {\n",
       "                    --jp-widgets-color: white;\n",
       "                    --jp-widgets-label-color: white;\n",
       "                    --jp-ui-font-color1: white;\n",
       "                    --jp-layout-color2: #454545;\n",
       "                    background-color: #383838;\n",
       "                }\n",
       "\n",
       "                .geemap-dark .jupyter-button {\n",
       "                    --jp-layout-color3: #383838;\n",
       "                }\n",
       "\n",
       "                .geemap-colab {\n",
       "                    background-color: var(--colab-primary-surface-color, white);\n",
       "                }\n",
       "\n",
       "                .geemap-colab .jupyter-button {\n",
       "                    --jp-layout-color3: var(--colab-primary-surface-color, white);\n",
       "                }\n",
       "            </style>\n",
       "            "
      ],
      "text/plain": [
       "<IPython.core.display.HTML object>"
      ]
     },
     "metadata": {},
     "output_type": "display_data"
    },
    {
     "data": {
      "text/html": [
       "<div>\n",
       "<style scoped>\n",
       "    .dataframe tbody tr th:only-of-type {\n",
       "        vertical-align: middle;\n",
       "    }\n",
       "\n",
       "    .dataframe tbody tr th {\n",
       "        vertical-align: top;\n",
       "    }\n",
       "\n",
       "    .dataframe thead th {\n",
       "        text-align: right;\n",
       "    }\n",
       "</style>\n",
       "<table border=\"1\" class=\"dataframe\">\n",
       "  <thead>\n",
       "    <tr style=\"text-align: right;\">\n",
       "      <th></th>\n",
       "      <th>date</th>\n",
       "      <th>temperature_2m_max</th>\n",
       "      <th>temperature_2m_min</th>\n",
       "      <th>precipitation_sum</th>\n",
       "      <th>rain_sum</th>\n",
       "      <th>snowfall_sum</th>\n",
       "      <th>precipitation_hours</th>\n",
       "      <th>wind_speed_10m_max</th>\n",
       "      <th>shortwave_radiation_sum</th>\n",
       "      <th>et0_fao_evapotranspiration</th>\n",
       "    </tr>\n",
       "  </thead>\n",
       "  <tbody>\n",
       "    <tr>\n",
       "      <th>0</th>\n",
       "      <td>2024-06-01 00:00:00+00:00</td>\n",
       "      <td>25.088999</td>\n",
       "      <td>14.089000</td>\n",
       "      <td>0.0</td>\n",
       "      <td>0.0</td>\n",
       "      <td>0.0</td>\n",
       "      <td>0.0</td>\n",
       "      <td>18.584511</td>\n",
       "      <td>28.020000</td>\n",
       "      <td>5.488565</td>\n",
       "    </tr>\n",
       "    <tr>\n",
       "      <th>1</th>\n",
       "      <td>2024-06-02 00:00:00+00:00</td>\n",
       "      <td>22.088999</td>\n",
       "      <td>14.339000</td>\n",
       "      <td>8.0</td>\n",
       "      <td>8.0</td>\n",
       "      <td>0.0</td>\n",
       "      <td>8.0</td>\n",
       "      <td>8.942214</td>\n",
       "      <td>14.470000</td>\n",
       "      <td>2.665000</td>\n",
       "    </tr>\n",
       "    <tr>\n",
       "      <th>2</th>\n",
       "      <td>2024-06-03 00:00:00+00:00</td>\n",
       "      <td>23.989000</td>\n",
       "      <td>14.188999</td>\n",
       "      <td>0.0</td>\n",
       "      <td>0.0</td>\n",
       "      <td>0.0</td>\n",
       "      <td>0.0</td>\n",
       "      <td>14.205182</td>\n",
       "      <td>26.379999</td>\n",
       "      <td>4.742328</td>\n",
       "    </tr>\n",
       "    <tr>\n",
       "      <th>3</th>\n",
       "      <td>2024-06-04 00:00:00+00:00</td>\n",
       "      <td>25.789000</td>\n",
       "      <td>13.488999</td>\n",
       "      <td>0.0</td>\n",
       "      <td>0.0</td>\n",
       "      <td>0.0</td>\n",
       "      <td>0.0</td>\n",
       "      <td>16.700275</td>\n",
       "      <td>25.660000</td>\n",
       "      <td>4.932992</td>\n",
       "    </tr>\n",
       "    <tr>\n",
       "      <th>4</th>\n",
       "      <td>2024-06-05 00:00:00+00:00</td>\n",
       "      <td>26.639000</td>\n",
       "      <td>14.539000</td>\n",
       "      <td>0.0</td>\n",
       "      <td>0.0</td>\n",
       "      <td>0.0</td>\n",
       "      <td>0.0</td>\n",
       "      <td>15.893093</td>\n",
       "      <td>28.350000</td>\n",
       "      <td>5.400963</td>\n",
       "    </tr>\n",
       "  </tbody>\n",
       "</table>\n",
       "</div>"
      ],
      "text/plain": [
       "                       date  temperature_2m_max  temperature_2m_min  \\\n",
       "0 2024-06-01 00:00:00+00:00           25.088999           14.089000   \n",
       "1 2024-06-02 00:00:00+00:00           22.088999           14.339000   \n",
       "2 2024-06-03 00:00:00+00:00           23.989000           14.188999   \n",
       "3 2024-06-04 00:00:00+00:00           25.789000           13.488999   \n",
       "4 2024-06-05 00:00:00+00:00           26.639000           14.539000   \n",
       "\n",
       "   precipitation_sum  rain_sum  snowfall_sum  precipitation_hours  \\\n",
       "0                0.0       0.0           0.0                  0.0   \n",
       "1                8.0       8.0           0.0                  8.0   \n",
       "2                0.0       0.0           0.0                  0.0   \n",
       "3                0.0       0.0           0.0                  0.0   \n",
       "4                0.0       0.0           0.0                  0.0   \n",
       "\n",
       "   wind_speed_10m_max  shortwave_radiation_sum  et0_fao_evapotranspiration  \n",
       "0           18.584511                28.020000                    5.488565  \n",
       "1            8.942214                14.470000                    2.665000  \n",
       "2           14.205182                26.379999                    4.742328  \n",
       "3           16.700275                25.660000                    4.932992  \n",
       "4           15.893093                28.350000                    5.400963  "
      ]
     },
     "execution_count": 34,
     "metadata": {},
     "output_type": "execute_result"
    }
   ],
   "source": [
    "daily_data.head()"
   ]
  },
  {
   "cell_type": "code",
   "execution_count": 36,
   "metadata": {},
   "outputs": [
    {
     "data": {
      "text/html": [
       "\n",
       "            <style>\n",
       "                .geemap-dark {\n",
       "                    --jp-widgets-color: white;\n",
       "                    --jp-widgets-label-color: white;\n",
       "                    --jp-ui-font-color1: white;\n",
       "                    --jp-layout-color2: #454545;\n",
       "                    background-color: #383838;\n",
       "                }\n",
       "\n",
       "                .geemap-dark .jupyter-button {\n",
       "                    --jp-layout-color3: #383838;\n",
       "                }\n",
       "\n",
       "                .geemap-colab {\n",
       "                    background-color: var(--colab-primary-surface-color, white);\n",
       "                }\n",
       "\n",
       "                .geemap-colab .jupyter-button {\n",
       "                    --jp-layout-color3: var(--colab-primary-surface-color, white);\n",
       "                }\n",
       "            </style>\n",
       "            "
      ],
      "text/plain": [
       "<IPython.core.display.HTML object>"
      ]
     },
     "metadata": {},
     "output_type": "display_data"
    },
    {
     "data": {
      "application/vnd.plotly.v1+json": {
       "config": {
        "plotlyServerURL": "https://plot.ly"
       },
       "data": [
        {
         "hoverinfo": "x+y",
         "hovertemplate": "Date: %{x}<br>MaxTemperature: %{y}°C<extra></extra>",
         "line": {
          "color": "red",
          "width": 3
         },
         "mode": "lines+markers",
         "name": "Max Temperature",
         "showlegend": true,
         "type": "scatter",
         "x": [
          "2024-06-01T00:00:00+00:00",
          "2024-06-02T00:00:00+00:00",
          "2024-06-03T00:00:00+00:00",
          "2024-06-04T00:00:00+00:00",
          "2024-06-05T00:00:00+00:00",
          "2024-06-06T00:00:00+00:00",
          "2024-06-07T00:00:00+00:00",
          "2024-06-08T00:00:00+00:00",
          "2024-06-09T00:00:00+00:00",
          "2024-06-10T00:00:00+00:00",
          "2024-06-11T00:00:00+00:00",
          "2024-06-12T00:00:00+00:00",
          "2024-06-13T00:00:00+00:00",
          "2024-06-14T00:00:00+00:00",
          "2024-06-15T00:00:00+00:00",
          "2024-06-16T00:00:00+00:00",
          "2024-06-17T00:00:00+00:00",
          "2024-06-18T00:00:00+00:00",
          "2024-06-19T00:00:00+00:00",
          "2024-06-20T00:00:00+00:00",
          "2024-06-21T00:00:00+00:00",
          "2024-06-22T00:00:00+00:00",
          "2024-06-23T00:00:00+00:00",
          "2024-06-24T00:00:00+00:00",
          "2024-06-25T00:00:00+00:00",
          "2024-06-26T00:00:00+00:00",
          "2024-06-27T00:00:00+00:00",
          "2024-06-28T00:00:00+00:00",
          "2024-06-29T00:00:00+00:00",
          "2024-06-30T00:00:00+00:00",
          "2024-07-01T00:00:00+00:00",
          "2024-07-02T00:00:00+00:00",
          "2024-07-03T00:00:00+00:00",
          "2024-07-04T00:00:00+00:00",
          "2024-07-05T00:00:00+00:00",
          "2024-07-06T00:00:00+00:00",
          "2024-07-07T00:00:00+00:00",
          "2024-07-08T00:00:00+00:00",
          "2024-07-09T00:00:00+00:00",
          "2024-07-10T00:00:00+00:00",
          "2024-07-11T00:00:00+00:00",
          "2024-07-12T00:00:00+00:00",
          "2024-07-13T00:00:00+00:00",
          "2024-07-14T00:00:00+00:00",
          "2024-07-15T00:00:00+00:00",
          "2024-07-16T00:00:00+00:00",
          "2024-07-17T00:00:00+00:00",
          "2024-07-18T00:00:00+00:00",
          "2024-07-19T00:00:00+00:00",
          "2024-07-20T00:00:00+00:00",
          "2024-07-21T00:00:00+00:00",
          "2024-07-22T00:00:00+00:00",
          "2024-07-23T00:00:00+00:00",
          "2024-07-24T00:00:00+00:00",
          "2024-07-25T00:00:00+00:00"
         ],
         "xaxis": "x",
         "y": [
          25.09000015258789,
          22.09000015258789,
          23.989999771118164,
          25.790000915527344,
          26.639999389648438,
          30.239999771118164,
          31.190000534057617,
          33.13999938964844,
          32.4900016784668,
          26.639999389648438,
          26.84000015258789,
          26.59000015258789,
          24.040000915527344,
          27.489999771118164,
          27.940000534057617,
          28.540000915527344,
          29.989999771118164,
          33.7400016784668,
          34.4900016784668,
          38.790000915527344,
          37.790000915527344,
          32.290000915527344,
          26.489999771118164,
          26.84000015258789,
          28.09000015258789,
          28.190000534057617,
          31.489999771118164,
          33.13999938964844,
          35.59000015258789,
          32.09000015258789,
          31.59000015258789,
          32.09000015258789,
          24.739999771118164,
          28.290000915527344,
          30.239999771118164,
          31.139999389648438,
          31.989999771118164,
          32.9900016784668,
          36.040000915527344,
          37.09000015258789,
          38.63999938964844,
          35.290000915527344,
          35.2400016784668,
          36.040000915527344,
          37.939998626708984,
          36.689998626708984,
          38.88999938964844,
          36.540000915527344,
          38.13999938964844,
          34.939998626708984,
          35.4900016784668,
          35.38999938964844,
          36.689998626708984,
          36.13999938964844,
          24.440000534057617
         ],
         "yaxis": "y"
        },
        {
         "hoverinfo": "x+y",
         "hovertemplate": "Date: %{x}<br>Min Temperature: %{y}°C<extra></extra>",
         "line": {
          "color": "blue",
          "width": 3
         },
         "mode": "lines+markers",
         "name": "Min Temperature",
         "showlegend": true,
         "type": "scatter",
         "x": [
          "2024-06-01T00:00:00+00:00",
          "2024-06-02T00:00:00+00:00",
          "2024-06-03T00:00:00+00:00",
          "2024-06-04T00:00:00+00:00",
          "2024-06-05T00:00:00+00:00",
          "2024-06-06T00:00:00+00:00",
          "2024-06-07T00:00:00+00:00",
          "2024-06-08T00:00:00+00:00",
          "2024-06-09T00:00:00+00:00",
          "2024-06-10T00:00:00+00:00",
          "2024-06-11T00:00:00+00:00",
          "2024-06-12T00:00:00+00:00",
          "2024-06-13T00:00:00+00:00",
          "2024-06-14T00:00:00+00:00",
          "2024-06-15T00:00:00+00:00",
          "2024-06-16T00:00:00+00:00",
          "2024-06-17T00:00:00+00:00",
          "2024-06-18T00:00:00+00:00",
          "2024-06-19T00:00:00+00:00",
          "2024-06-20T00:00:00+00:00",
          "2024-06-21T00:00:00+00:00",
          "2024-06-22T00:00:00+00:00",
          "2024-06-23T00:00:00+00:00",
          "2024-06-24T00:00:00+00:00",
          "2024-06-25T00:00:00+00:00",
          "2024-06-26T00:00:00+00:00",
          "2024-06-27T00:00:00+00:00",
          "2024-06-28T00:00:00+00:00",
          "2024-06-29T00:00:00+00:00",
          "2024-06-30T00:00:00+00:00",
          "2024-07-01T00:00:00+00:00",
          "2024-07-02T00:00:00+00:00",
          "2024-07-03T00:00:00+00:00",
          "2024-07-04T00:00:00+00:00",
          "2024-07-05T00:00:00+00:00",
          "2024-07-06T00:00:00+00:00",
          "2024-07-07T00:00:00+00:00",
          "2024-07-08T00:00:00+00:00",
          "2024-07-09T00:00:00+00:00",
          "2024-07-10T00:00:00+00:00",
          "2024-07-11T00:00:00+00:00",
          "2024-07-12T00:00:00+00:00",
          "2024-07-13T00:00:00+00:00",
          "2024-07-14T00:00:00+00:00",
          "2024-07-15T00:00:00+00:00",
          "2024-07-16T00:00:00+00:00",
          "2024-07-17T00:00:00+00:00",
          "2024-07-18T00:00:00+00:00",
          "2024-07-19T00:00:00+00:00",
          "2024-07-20T00:00:00+00:00",
          "2024-07-21T00:00:00+00:00",
          "2024-07-22T00:00:00+00:00",
          "2024-07-23T00:00:00+00:00",
          "2024-07-24T00:00:00+00:00",
          "2024-07-25T00:00:00+00:00"
         ],
         "xaxis": "x",
         "y": [
          14.09000015258789,
          14.34000015258789,
          14.1899995803833,
          13.489999771118164,
          14.539999961853027,
          16.940000534057617,
          17.239999771118164,
          18.440000534057617,
          19.440000534057617,
          19.690000534057617,
          19.09000015258789,
          17.09000015258789,
          15.9399995803833,
          15.09000015258789,
          15.390000343322754,
          17.190000534057617,
          16.84000015258789,
          17.639999389648438,
          19.84000015258789,
          21.389999389648438,
          22.34000015258789,
          20.389999389648438,
          19.489999771118164,
          18.690000534057617,
          17.040000915527344,
          17.690000534057617,
          17.889999389648438,
          19.239999771118164,
          20.639999389648438,
          21.139999389648438,
          20.290000915527344,
          21.389999389648438,
          19.190000534057617,
          18.489999771118164,
          19.190000534057617,
          18.440000534057617,
          19.989999771118164,
          20.940000534057617,
          22.239999771118164,
          21.989999771118164,
          23.639999389648438,
          21.889999389648438,
          21.84000015258789,
          21.889999389648438,
          22.540000915527344,
          22.09000015258789,
          22.940000534057617,
          23.239999771118164,
          21.889999389648438,
          23.489999771118164,
          21.489999771118164,
          24.190000534057617,
          22.34000015258789,
          24.239999771118164,
          24.440000534057617
         ],
         "yaxis": "y"
        },
        {
         "hoverinfo": "x+y",
         "hovertemplate": "Date: %{x}<br>Precipitation: %{y}mm<extra></extra>",
         "line": {
          "color": "brown",
          "width": 3
         },
         "mode": "lines+markers",
         "name": "Precipitation Sum",
         "type": "scatter",
         "x": [
          "2024-06-01T00:00:00+00:00",
          "2024-06-02T00:00:00+00:00",
          "2024-06-03T00:00:00+00:00",
          "2024-06-04T00:00:00+00:00",
          "2024-06-05T00:00:00+00:00",
          "2024-06-06T00:00:00+00:00",
          "2024-06-07T00:00:00+00:00",
          "2024-06-08T00:00:00+00:00",
          "2024-06-09T00:00:00+00:00",
          "2024-06-10T00:00:00+00:00",
          "2024-06-11T00:00:00+00:00",
          "2024-06-12T00:00:00+00:00",
          "2024-06-13T00:00:00+00:00",
          "2024-06-14T00:00:00+00:00",
          "2024-06-15T00:00:00+00:00",
          "2024-06-16T00:00:00+00:00",
          "2024-06-17T00:00:00+00:00",
          "2024-06-18T00:00:00+00:00",
          "2024-06-19T00:00:00+00:00",
          "2024-06-20T00:00:00+00:00",
          "2024-06-21T00:00:00+00:00",
          "2024-06-22T00:00:00+00:00",
          "2024-06-23T00:00:00+00:00",
          "2024-06-24T00:00:00+00:00",
          "2024-06-25T00:00:00+00:00",
          "2024-06-26T00:00:00+00:00",
          "2024-06-27T00:00:00+00:00",
          "2024-06-28T00:00:00+00:00",
          "2024-06-29T00:00:00+00:00",
          "2024-06-30T00:00:00+00:00",
          "2024-07-01T00:00:00+00:00",
          "2024-07-02T00:00:00+00:00",
          "2024-07-03T00:00:00+00:00",
          "2024-07-04T00:00:00+00:00",
          "2024-07-05T00:00:00+00:00",
          "2024-07-06T00:00:00+00:00",
          "2024-07-07T00:00:00+00:00",
          "2024-07-08T00:00:00+00:00",
          "2024-07-09T00:00:00+00:00",
          "2024-07-10T00:00:00+00:00",
          "2024-07-11T00:00:00+00:00",
          "2024-07-12T00:00:00+00:00",
          "2024-07-13T00:00:00+00:00",
          "2024-07-14T00:00:00+00:00",
          "2024-07-15T00:00:00+00:00",
          "2024-07-16T00:00:00+00:00",
          "2024-07-17T00:00:00+00:00",
          "2024-07-18T00:00:00+00:00",
          "2024-07-19T00:00:00+00:00",
          "2024-07-20T00:00:00+00:00",
          "2024-07-21T00:00:00+00:00",
          "2024-07-22T00:00:00+00:00",
          "2024-07-23T00:00:00+00:00",
          "2024-07-24T00:00:00+00:00",
          "2024-07-25T00:00:00+00:00"
         ],
         "xaxis": "x2",
         "y": [
          0,
          8,
          0,
          0,
          0,
          0,
          0,
          0,
          1.4000000953674316,
          1.5000001192092896,
          2.200000047683716,
          0.699999988079071,
          1,
          0,
          0,
          0,
          0,
          0,
          0,
          0,
          0,
          0,
          0,
          5.400000095367432,
          3.4000000953674316,
          0.20000000298023224,
          0,
          0,
          0,
          0,
          1.2000000476837158,
          0,
          12.40000057220459,
          0.800000011920929,
          0,
          0,
          0.10000000149011612,
          0,
          0,
          0,
          0,
          0,
          0,
          0,
          0,
          0,
          0,
          0,
          0,
          0,
          0,
          0.7000000476837158,
          0,
          0,
          null
         ],
         "yaxis": "y2"
        },
        {
         "hoverinfo": "x+y",
         "hovertemplate": "Date: %{x}<br>Wind Speed: %{y}Km/h<extra></extra>",
         "line": {
          "color": "green",
          "width": 3
         },
         "mode": "lines+markers",
         "name": "Wind Speed Max (10m)",
         "type": "scatter",
         "x": [
          "2024-06-01T00:00:00+00:00",
          "2024-06-02T00:00:00+00:00",
          "2024-06-03T00:00:00+00:00",
          "2024-06-04T00:00:00+00:00",
          "2024-06-05T00:00:00+00:00",
          "2024-06-06T00:00:00+00:00",
          "2024-06-07T00:00:00+00:00",
          "2024-06-08T00:00:00+00:00",
          "2024-06-09T00:00:00+00:00",
          "2024-06-10T00:00:00+00:00",
          "2024-06-11T00:00:00+00:00",
          "2024-06-12T00:00:00+00:00",
          "2024-06-13T00:00:00+00:00",
          "2024-06-14T00:00:00+00:00",
          "2024-06-15T00:00:00+00:00",
          "2024-06-16T00:00:00+00:00",
          "2024-06-17T00:00:00+00:00",
          "2024-06-18T00:00:00+00:00",
          "2024-06-19T00:00:00+00:00",
          "2024-06-20T00:00:00+00:00",
          "2024-06-21T00:00:00+00:00",
          "2024-06-22T00:00:00+00:00",
          "2024-06-23T00:00:00+00:00",
          "2024-06-24T00:00:00+00:00",
          "2024-06-25T00:00:00+00:00",
          "2024-06-26T00:00:00+00:00",
          "2024-06-27T00:00:00+00:00",
          "2024-06-28T00:00:00+00:00",
          "2024-06-29T00:00:00+00:00",
          "2024-06-30T00:00:00+00:00",
          "2024-07-01T00:00:00+00:00",
          "2024-07-02T00:00:00+00:00",
          "2024-07-03T00:00:00+00:00",
          "2024-07-04T00:00:00+00:00",
          "2024-07-05T00:00:00+00:00",
          "2024-07-06T00:00:00+00:00",
          "2024-07-07T00:00:00+00:00",
          "2024-07-08T00:00:00+00:00",
          "2024-07-09T00:00:00+00:00",
          "2024-07-10T00:00:00+00:00",
          "2024-07-11T00:00:00+00:00",
          "2024-07-12T00:00:00+00:00",
          "2024-07-13T00:00:00+00:00",
          "2024-07-14T00:00:00+00:00",
          "2024-07-15T00:00:00+00:00",
          "2024-07-16T00:00:00+00:00",
          "2024-07-17T00:00:00+00:00",
          "2024-07-18T00:00:00+00:00",
          "2024-07-19T00:00:00+00:00",
          "2024-07-20T00:00:00+00:00",
          "2024-07-21T00:00:00+00:00",
          "2024-07-22T00:00:00+00:00",
          "2024-07-23T00:00:00+00:00",
          "2024-07-24T00:00:00+00:00",
          "2024-07-25T00:00:00+00:00"
         ],
         "xaxis": "x3",
         "y": [
          18.579999923706055,
          8.9399995803833,
          14.210000038146973,
          16.700000762939453,
          15.890000343322754,
          20.700000762939453,
          17.299999237060547,
          16.899999618530273,
          30.299999237060547,
          21.989999771118164,
          17.729999542236328,
          17.579999923706055,
          20.56999969482422,
          15.829999923706055,
          15.789999961853027,
          19.079999923706055,
          14.8100004196167,
          17.31999969482422,
          20.530000686645508,
          14.199999809265137,
          20.549999237060547,
          21.40999984741211,
          20.6200008392334,
          19.799999237060547,
          11.569999694824219,
          18.420000076293945,
          21.489999771118164,
          17.649999618530273,
          20.459999084472656,
          21.09000015258789,
          17.56999969482422,
          15.140000343322754,
          14.109999656677246,
          19.260000228881836,
          15.5,
          18.559999465942383,
          24.479999542236328,
          15.890000343322754,
          17.399999618530273,
          19.809999465942383,
          19.15999984741211,
          16.280000686645508,
          20.010000228881836,
          15.5,
          16.270000457763672,
          19.860000610351562,
          18.040000915527344,
          16.75,
          18.25,
          18.3700008392334,
          16.200000762939453,
          22.899999618530273,
          19.489999771118164,
          18.950000762939453,
          8.649999618530273
         ],
         "yaxis": "y3"
        }
       ],
       "layout": {
        "height": 1000,
        "template": {
         "data": {
          "bar": [
           {
            "error_x": {
             "color": "#2a3f5f"
            },
            "error_y": {
             "color": "#2a3f5f"
            },
            "marker": {
             "line": {
              "color": "#E5ECF6",
              "width": 0.5
             },
             "pattern": {
              "fillmode": "overlay",
              "size": 10,
              "solidity": 0.2
             }
            },
            "type": "bar"
           }
          ],
          "barpolar": [
           {
            "marker": {
             "line": {
              "color": "#E5ECF6",
              "width": 0.5
             },
             "pattern": {
              "fillmode": "overlay",
              "size": 10,
              "solidity": 0.2
             }
            },
            "type": "barpolar"
           }
          ],
          "carpet": [
           {
            "aaxis": {
             "endlinecolor": "#2a3f5f",
             "gridcolor": "white",
             "linecolor": "white",
             "minorgridcolor": "white",
             "startlinecolor": "#2a3f5f"
            },
            "baxis": {
             "endlinecolor": "#2a3f5f",
             "gridcolor": "white",
             "linecolor": "white",
             "minorgridcolor": "white",
             "startlinecolor": "#2a3f5f"
            },
            "type": "carpet"
           }
          ],
          "choropleth": [
           {
            "colorbar": {
             "outlinewidth": 0,
             "ticks": ""
            },
            "type": "choropleth"
           }
          ],
          "contour": [
           {
            "colorbar": {
             "outlinewidth": 0,
             "ticks": ""
            },
            "colorscale": [
             [
              0,
              "#0d0887"
             ],
             [
              0.1111111111111111,
              "#46039f"
             ],
             [
              0.2222222222222222,
              "#7201a8"
             ],
             [
              0.3333333333333333,
              "#9c179e"
             ],
             [
              0.4444444444444444,
              "#bd3786"
             ],
             [
              0.5555555555555556,
              "#d8576b"
             ],
             [
              0.6666666666666666,
              "#ed7953"
             ],
             [
              0.7777777777777778,
              "#fb9f3a"
             ],
             [
              0.8888888888888888,
              "#fdca26"
             ],
             [
              1,
              "#f0f921"
             ]
            ],
            "type": "contour"
           }
          ],
          "contourcarpet": [
           {
            "colorbar": {
             "outlinewidth": 0,
             "ticks": ""
            },
            "type": "contourcarpet"
           }
          ],
          "heatmap": [
           {
            "colorbar": {
             "outlinewidth": 0,
             "ticks": ""
            },
            "colorscale": [
             [
              0,
              "#0d0887"
             ],
             [
              0.1111111111111111,
              "#46039f"
             ],
             [
              0.2222222222222222,
              "#7201a8"
             ],
             [
              0.3333333333333333,
              "#9c179e"
             ],
             [
              0.4444444444444444,
              "#bd3786"
             ],
             [
              0.5555555555555556,
              "#d8576b"
             ],
             [
              0.6666666666666666,
              "#ed7953"
             ],
             [
              0.7777777777777778,
              "#fb9f3a"
             ],
             [
              0.8888888888888888,
              "#fdca26"
             ],
             [
              1,
              "#f0f921"
             ]
            ],
            "type": "heatmap"
           }
          ],
          "heatmapgl": [
           {
            "colorbar": {
             "outlinewidth": 0,
             "ticks": ""
            },
            "colorscale": [
             [
              0,
              "#0d0887"
             ],
             [
              0.1111111111111111,
              "#46039f"
             ],
             [
              0.2222222222222222,
              "#7201a8"
             ],
             [
              0.3333333333333333,
              "#9c179e"
             ],
             [
              0.4444444444444444,
              "#bd3786"
             ],
             [
              0.5555555555555556,
              "#d8576b"
             ],
             [
              0.6666666666666666,
              "#ed7953"
             ],
             [
              0.7777777777777778,
              "#fb9f3a"
             ],
             [
              0.8888888888888888,
              "#fdca26"
             ],
             [
              1,
              "#f0f921"
             ]
            ],
            "type": "heatmapgl"
           }
          ],
          "histogram": [
           {
            "marker": {
             "pattern": {
              "fillmode": "overlay",
              "size": 10,
              "solidity": 0.2
             }
            },
            "type": "histogram"
           }
          ],
          "histogram2d": [
           {
            "colorbar": {
             "outlinewidth": 0,
             "ticks": ""
            },
            "colorscale": [
             [
              0,
              "#0d0887"
             ],
             [
              0.1111111111111111,
              "#46039f"
             ],
             [
              0.2222222222222222,
              "#7201a8"
             ],
             [
              0.3333333333333333,
              "#9c179e"
             ],
             [
              0.4444444444444444,
              "#bd3786"
             ],
             [
              0.5555555555555556,
              "#d8576b"
             ],
             [
              0.6666666666666666,
              "#ed7953"
             ],
             [
              0.7777777777777778,
              "#fb9f3a"
             ],
             [
              0.8888888888888888,
              "#fdca26"
             ],
             [
              1,
              "#f0f921"
             ]
            ],
            "type": "histogram2d"
           }
          ],
          "histogram2dcontour": [
           {
            "colorbar": {
             "outlinewidth": 0,
             "ticks": ""
            },
            "colorscale": [
             [
              0,
              "#0d0887"
             ],
             [
              0.1111111111111111,
              "#46039f"
             ],
             [
              0.2222222222222222,
              "#7201a8"
             ],
             [
              0.3333333333333333,
              "#9c179e"
             ],
             [
              0.4444444444444444,
              "#bd3786"
             ],
             [
              0.5555555555555556,
              "#d8576b"
             ],
             [
              0.6666666666666666,
              "#ed7953"
             ],
             [
              0.7777777777777778,
              "#fb9f3a"
             ],
             [
              0.8888888888888888,
              "#fdca26"
             ],
             [
              1,
              "#f0f921"
             ]
            ],
            "type": "histogram2dcontour"
           }
          ],
          "mesh3d": [
           {
            "colorbar": {
             "outlinewidth": 0,
             "ticks": ""
            },
            "type": "mesh3d"
           }
          ],
          "parcoords": [
           {
            "line": {
             "colorbar": {
              "outlinewidth": 0,
              "ticks": ""
             }
            },
            "type": "parcoords"
           }
          ],
          "pie": [
           {
            "automargin": true,
            "type": "pie"
           }
          ],
          "scatter": [
           {
            "fillpattern": {
             "fillmode": "overlay",
             "size": 10,
             "solidity": 0.2
            },
            "type": "scatter"
           }
          ],
          "scatter3d": [
           {
            "line": {
             "colorbar": {
              "outlinewidth": 0,
              "ticks": ""
             }
            },
            "marker": {
             "colorbar": {
              "outlinewidth": 0,
              "ticks": ""
             }
            },
            "type": "scatter3d"
           }
          ],
          "scattercarpet": [
           {
            "marker": {
             "colorbar": {
              "outlinewidth": 0,
              "ticks": ""
             }
            },
            "type": "scattercarpet"
           }
          ],
          "scattergeo": [
           {
            "marker": {
             "colorbar": {
              "outlinewidth": 0,
              "ticks": ""
             }
            },
            "type": "scattergeo"
           }
          ],
          "scattergl": [
           {
            "marker": {
             "colorbar": {
              "outlinewidth": 0,
              "ticks": ""
             }
            },
            "type": "scattergl"
           }
          ],
          "scattermapbox": [
           {
            "marker": {
             "colorbar": {
              "outlinewidth": 0,
              "ticks": ""
             }
            },
            "type": "scattermapbox"
           }
          ],
          "scatterpolar": [
           {
            "marker": {
             "colorbar": {
              "outlinewidth": 0,
              "ticks": ""
             }
            },
            "type": "scatterpolar"
           }
          ],
          "scatterpolargl": [
           {
            "marker": {
             "colorbar": {
              "outlinewidth": 0,
              "ticks": ""
             }
            },
            "type": "scatterpolargl"
           }
          ],
          "scatterternary": [
           {
            "marker": {
             "colorbar": {
              "outlinewidth": 0,
              "ticks": ""
             }
            },
            "type": "scatterternary"
           }
          ],
          "surface": [
           {
            "colorbar": {
             "outlinewidth": 0,
             "ticks": ""
            },
            "colorscale": [
             [
              0,
              "#0d0887"
             ],
             [
              0.1111111111111111,
              "#46039f"
             ],
             [
              0.2222222222222222,
              "#7201a8"
             ],
             [
              0.3333333333333333,
              "#9c179e"
             ],
             [
              0.4444444444444444,
              "#bd3786"
             ],
             [
              0.5555555555555556,
              "#d8576b"
             ],
             [
              0.6666666666666666,
              "#ed7953"
             ],
             [
              0.7777777777777778,
              "#fb9f3a"
             ],
             [
              0.8888888888888888,
              "#fdca26"
             ],
             [
              1,
              "#f0f921"
             ]
            ],
            "type": "surface"
           }
          ],
          "table": [
           {
            "cells": {
             "fill": {
              "color": "#EBF0F8"
             },
             "line": {
              "color": "white"
             }
            },
            "header": {
             "fill": {
              "color": "#C8D4E3"
             },
             "line": {
              "color": "white"
             }
            },
            "type": "table"
           }
          ]
         },
         "layout": {
          "annotationdefaults": {
           "arrowcolor": "#2a3f5f",
           "arrowhead": 0,
           "arrowwidth": 1
          },
          "autotypenumbers": "strict",
          "coloraxis": {
           "colorbar": {
            "outlinewidth": 0,
            "ticks": ""
           }
          },
          "colorscale": {
           "diverging": [
            [
             0,
             "#8e0152"
            ],
            [
             0.1,
             "#c51b7d"
            ],
            [
             0.2,
             "#de77ae"
            ],
            [
             0.3,
             "#f1b6da"
            ],
            [
             0.4,
             "#fde0ef"
            ],
            [
             0.5,
             "#f7f7f7"
            ],
            [
             0.6,
             "#e6f5d0"
            ],
            [
             0.7,
             "#b8e186"
            ],
            [
             0.8,
             "#7fbc41"
            ],
            [
             0.9,
             "#4d9221"
            ],
            [
             1,
             "#276419"
            ]
           ],
           "sequential": [
            [
             0,
             "#0d0887"
            ],
            [
             0.1111111111111111,
             "#46039f"
            ],
            [
             0.2222222222222222,
             "#7201a8"
            ],
            [
             0.3333333333333333,
             "#9c179e"
            ],
            [
             0.4444444444444444,
             "#bd3786"
            ],
            [
             0.5555555555555556,
             "#d8576b"
            ],
            [
             0.6666666666666666,
             "#ed7953"
            ],
            [
             0.7777777777777778,
             "#fb9f3a"
            ],
            [
             0.8888888888888888,
             "#fdca26"
            ],
            [
             1,
             "#f0f921"
            ]
           ],
           "sequentialminus": [
            [
             0,
             "#0d0887"
            ],
            [
             0.1111111111111111,
             "#46039f"
            ],
            [
             0.2222222222222222,
             "#7201a8"
            ],
            [
             0.3333333333333333,
             "#9c179e"
            ],
            [
             0.4444444444444444,
             "#bd3786"
            ],
            [
             0.5555555555555556,
             "#d8576b"
            ],
            [
             0.6666666666666666,
             "#ed7953"
            ],
            [
             0.7777777777777778,
             "#fb9f3a"
            ],
            [
             0.8888888888888888,
             "#fdca26"
            ],
            [
             1,
             "#f0f921"
            ]
           ]
          },
          "colorway": [
           "#636efa",
           "#EF553B",
           "#00cc96",
           "#ab63fa",
           "#FFA15A",
           "#19d3f3",
           "#FF6692",
           "#B6E880",
           "#FF97FF",
           "#FECB52"
          ],
          "font": {
           "color": "#2a3f5f"
          },
          "geo": {
           "bgcolor": "white",
           "lakecolor": "white",
           "landcolor": "#E5ECF6",
           "showlakes": true,
           "showland": true,
           "subunitcolor": "white"
          },
          "hoverlabel": {
           "align": "left"
          },
          "hovermode": "closest",
          "mapbox": {
           "style": "light"
          },
          "paper_bgcolor": "white",
          "plot_bgcolor": "#E5ECF6",
          "polar": {
           "angularaxis": {
            "gridcolor": "white",
            "linecolor": "white",
            "ticks": ""
           },
           "bgcolor": "#E5ECF6",
           "radialaxis": {
            "gridcolor": "white",
            "linecolor": "white",
            "ticks": ""
           }
          },
          "scene": {
           "xaxis": {
            "backgroundcolor": "#E5ECF6",
            "gridcolor": "white",
            "gridwidth": 2,
            "linecolor": "white",
            "showbackground": true,
            "ticks": "",
            "zerolinecolor": "white"
           },
           "yaxis": {
            "backgroundcolor": "#E5ECF6",
            "gridcolor": "white",
            "gridwidth": 2,
            "linecolor": "white",
            "showbackground": true,
            "ticks": "",
            "zerolinecolor": "white"
           },
           "zaxis": {
            "backgroundcolor": "#E5ECF6",
            "gridcolor": "white",
            "gridwidth": 2,
            "linecolor": "white",
            "showbackground": true,
            "ticks": "",
            "zerolinecolor": "white"
           }
          },
          "shapedefaults": {
           "line": {
            "color": "#2a3f5f"
           }
          },
          "ternary": {
           "aaxis": {
            "gridcolor": "white",
            "linecolor": "white",
            "ticks": ""
           },
           "baxis": {
            "gridcolor": "white",
            "linecolor": "white",
            "ticks": ""
           },
           "bgcolor": "#E5ECF6",
           "caxis": {
            "gridcolor": "white",
            "linecolor": "white",
            "ticks": ""
           }
          },
          "title": {
           "x": 0.05
          },
          "xaxis": {
           "automargin": true,
           "gridcolor": "white",
           "linecolor": "white",
           "ticks": "",
           "title": {
            "standoff": 15
           },
           "zerolinecolor": "white",
           "zerolinewidth": 2
          },
          "yaxis": {
           "automargin": true,
           "gridcolor": "white",
           "linecolor": "white",
           "ticks": "",
           "title": {
            "standoff": 15
           },
           "zerolinecolor": "white",
           "zerolinewidth": 2
          }
         }
        },
        "title": {
         "font": {
          "size": 30,
          "weight": "bold"
         },
         "text": "Weather Forecast Daily",
         "x": 0.5
        },
        "width": 1400,
        "xaxis": {
         "anchor": "y",
         "domain": [
          0,
          1
         ],
         "matches": "x3",
         "showticklabels": false
        },
        "xaxis2": {
         "anchor": "y2",
         "domain": [
          0,
          1
         ],
         "matches": "x3",
         "showticklabels": false
        },
        "xaxis3": {
         "anchor": "y3",
         "domain": [
          0,
          1
         ],
         "tickfont": {
          "size": 12,
          "weight": "bold"
         }
        },
        "yaxis": {
         "anchor": "x",
         "domain": [
          0.6733333333333333,
          1
         ],
         "tickfont": {
          "size": 12,
          "weight": "bold"
         },
         "title": {
          "font": {
           "size": 18,
           "weight": "bold"
          },
          "text": "Temperature Min & Max (°C)"
         }
        },
        "yaxis2": {
         "anchor": "x2",
         "domain": [
          0.33666666666666667,
          0.6633333333333333
         ],
         "tickfont": {
          "size": 12,
          "weight": "bold"
         },
         "title": {
          "font": {
           "size": 18,
           "weight": "bold"
          },
          "text": "Precipitations Sum (mm)"
         }
        },
        "yaxis3": {
         "anchor": "x3",
         "domain": [
          0,
          0.32666666666666666
         ],
         "tickfont": {
          "size": 12,
          "weight": "bold"
         },
         "title": {
          "font": {
           "size": 18,
           "weight": "bold"
          },
          "text": "Max Wind Speed (km/h)"
         }
        }
       }
      }
     },
     "metadata": {},
     "output_type": "display_data"
    }
   ],
   "source": [
    "fig = go.Figure()\n",
    "\n",
    "# Create a subplot layout: 4 rows, 1 column, shared x-axis\n",
    "fig = make_subplots(rows=3, cols=1, shared_xaxes=True, vertical_spacing=0.01)\n",
    "\n",
    "# Add the max temperature line with hover info\n",
    "fig.add_trace(go.Scatter(x=daily_data['date'], y=daily_data['temperature_2m_max'].round(2),\n",
    "                         mode='lines+markers',  # Added markers for better visibility on hover\n",
    "                         name='Max Temperature',\n",
    "                         line=dict(color='red', width=3),\n",
    "                         hoverinfo='x+y',  # Shows both date and temperature on hover\n",
    "                         hovertemplate='Date: %{x}<br>MaxTemperature: %{y}°C<extra></extra>',  # Custom hover text\n",
    "                         showlegend=True  # Show the legend\n",
    "                        ), row=1, col=1)\n",
    "\n",
    "# Add the min temperature line with hover info\n",
    "fig.add_trace(go.Scatter(x=daily_data['date'], y=daily_data['temperature_2m_min'].round(2),\n",
    "                         mode='lines+markers',  # Added markers for better visibility on hover\n",
    "                         name='Min Temperature',\n",
    "                         line=dict(color='blue', width=3),\n",
    "                         hoverinfo='x+y',  # Shows both date and temperature on hover\n",
    "                         hovertemplate='Date: %{x}<br>Min Temperature: %{y}°C<extra></extra>',  # Custom hover text\n",
    "                         showlegend=True  # Show the legend\n",
    "                        ), row=1, col=1)\n",
    "\n",
    "\n",
    "fig.add_trace(go.Scatter(x=daily_data['date'], y=daily_data['precipitation_sum'],\n",
    "                         mode='lines+markers',\n",
    "                         name='Precipitation Sum',\n",
    "                         line=dict(color='brown', width=3),\n",
    "                         hoverinfo='x+y',\n",
    "                         hovertemplate='Date: %{x}<br>Precipitation: %{y}mm<extra></extra>'),\n",
    "              row=2, col=1)\n",
    "\n",
    "fig.add_trace(go.Scatter(x=daily_data['date'], y=daily_data['wind_speed_10m_max'].round(2),\n",
    "                         mode='lines+markers',\n",
    "                         name='Wind Speed Max (10m)',\n",
    "                         line=dict(color='green', width=3),\n",
    "                         hoverinfo='x+y',\n",
    "                         hovertemplate='Date: %{x}<br>Wind Speed: %{y}Km/h<extra></extra>'),\n",
    "              row=3, col=1)\n",
    "\n",
    "# Update y-axes titles\n",
    "fig.update_yaxes(tickfont=dict(size=12, weight='bold'), title_text=\"Temperature Min & Max (°C)\", title_font=dict(size=18, weight='bold'), row=1, col=1)\n",
    "fig.update_yaxes(tickfont=dict(size=12, weight='bold'), title_text=\"Precipitations Sum (mm)\", title_font=dict(size=18, weight='bold'), row=2, col=1)\n",
    "fig.update_yaxes(tickfont=dict(size=12, weight='bold'), title_text=\"Max Wind Speed (km/h)\", title_font=dict(size=18, weight='bold'), row=3, col=1)\n",
    "fig.update_xaxes(tickfont=dict(size=12, weight='bold'), row=3, col=1)\n",
    "\n",
    "# Update layout (optional adjustments)\n",
    "fig.update_layout(height=1000, width=1400, title_text=\"Weather Forecast Daily\", title_font=dict(size=30, weight='bold'), title_x=0.5)\n",
    "\n",
    "# Show the plot\n",
    "fig.show()"
   ]
  },
  {
   "cell_type": "code",
   "execution_count": null,
   "metadata": {},
   "outputs": [],
   "source": [
    "#fig.write_image(\"../images/weather_forecast_daily.png\")"
   ]
  },
  {
   "cell_type": "markdown",
   "metadata": {},
   "source": [
    "#### Query for hourly information "
   ]
  },
  {
   "cell_type": "code",
   "execution_count": 44,
   "metadata": {},
   "outputs": [
    {
     "data": {
      "text/html": [
       "\n",
       "            <style>\n",
       "                .geemap-dark {\n",
       "                    --jp-widgets-color: white;\n",
       "                    --jp-widgets-label-color: white;\n",
       "                    --jp-ui-font-color1: white;\n",
       "                    --jp-layout-color2: #454545;\n",
       "                    background-color: #383838;\n",
       "                }\n",
       "\n",
       "                .geemap-dark .jupyter-button {\n",
       "                    --jp-layout-color3: #383838;\n",
       "                }\n",
       "\n",
       "                .geemap-colab {\n",
       "                    background-color: var(--colab-primary-surface-color, white);\n",
       "                }\n",
       "\n",
       "                .geemap-colab .jupyter-button {\n",
       "                    --jp-layout-color3: var(--colab-primary-surface-color, white);\n",
       "                }\n",
       "            </style>\n",
       "            "
      ],
      "text/plain": [
       "<IPython.core.display.HTML object>"
      ]
     },
     "metadata": {},
     "output_type": "display_data"
    }
   ],
   "source": [
    "params_hourly = {\n",
    "    \"latitude\": lat,\n",
    "    \"longitude\": lon,\n",
    "    \"start_date\": start_date,\n",
    "    \"end_date\": end_date,\n",
    "    \"hourly\": [\n",
    "        \"temperature_2m\",\n",
    "        \"relative_humidity_2m\",\n",
    "        \"precipitation\",\n",
    "        \"rain\",\n",
    "        \"snowfall\",\n",
    "        \"cloud_cover\",\n",
    "        \"et0_fao_evapotranspiration\",\n",
    "        \"vapour_pressure_deficit\",\n",
    "        \"wind_speed_10m\",\n",
    "        \"soil_temperature_0_to_7cm\",\n",
    "        \"soil_temperature_7_to_28cm\",\n",
    "        \"soil_temperature_28_to_100cm\",\n",
    "        \"soil_moisture_0_to_7cm\",\n",
    "        \"soil_moisture_7_to_28cm\",\n",
    "        \"is_day\",\n",
    "    ],\n",
    "}"
   ]
  },
  {
   "cell_type": "code",
   "execution_count": 45,
   "metadata": {},
   "outputs": [
    {
     "data": {
      "text/html": [
       "\n",
       "            <style>\n",
       "                .geemap-dark {\n",
       "                    --jp-widgets-color: white;\n",
       "                    --jp-widgets-label-color: white;\n",
       "                    --jp-ui-font-color1: white;\n",
       "                    --jp-layout-color2: #454545;\n",
       "                    background-color: #383838;\n",
       "                }\n",
       "\n",
       "                .geemap-dark .jupyter-button {\n",
       "                    --jp-layout-color3: #383838;\n",
       "                }\n",
       "\n",
       "                .geemap-colab {\n",
       "                    background-color: var(--colab-primary-surface-color, white);\n",
       "                }\n",
       "\n",
       "                .geemap-colab .jupyter-button {\n",
       "                    --jp-layout-color3: var(--colab-primary-surface-color, white);\n",
       "                }\n",
       "            </style>\n",
       "            "
      ],
      "text/plain": [
       "<IPython.core.display.HTML object>"
      ]
     },
     "metadata": {},
     "output_type": "display_data"
    },
    {
     "name": "stdout",
     "output_type": "stream",
     "text": [
      "Coordinates 41.8629150390625°N 12.539912223815918°E\n",
      "Elevation 42.0 m asl\n",
      "Timezone None None\n",
      "Timezone difference to GMT+0 0 s\n"
     ]
    }
   ],
   "source": [
    "responses = openmeteo.weather_api(os.environ[\"URL_OPEN-METEO\"], params=params_hourly)\n",
    "\n",
    "# Process first location. Add a for-loop for multiple locations or weather models\n",
    "response = responses[0]\n",
    "print(f\"Coordinates {response.Latitude()}°N {response.Longitude()}°E\")\n",
    "print(f\"Elevation {response.Elevation()} m asl\")\n",
    "print(f\"Timezone {response.Timezone()} {response.TimezoneAbbreviation()}\")\n",
    "print(f\"Timezone difference to GMT+0 {response.UtcOffsetSeconds()} s\")\n"
   ]
  },
  {
   "cell_type": "code",
   "execution_count": 46,
   "metadata": {},
   "outputs": [
    {
     "data": {
      "text/html": [
       "\n",
       "            <style>\n",
       "                .geemap-dark {\n",
       "                    --jp-widgets-color: white;\n",
       "                    --jp-widgets-label-color: white;\n",
       "                    --jp-ui-font-color1: white;\n",
       "                    --jp-layout-color2: #454545;\n",
       "                    background-color: #383838;\n",
       "                }\n",
       "\n",
       "                .geemap-dark .jupyter-button {\n",
       "                    --jp-layout-color3: #383838;\n",
       "                }\n",
       "\n",
       "                .geemap-colab {\n",
       "                    background-color: var(--colab-primary-surface-color, white);\n",
       "                }\n",
       "\n",
       "                .geemap-colab .jupyter-button {\n",
       "                    --jp-layout-color3: var(--colab-primary-surface-color, white);\n",
       "                }\n",
       "            </style>\n",
       "            "
      ],
      "text/plain": [
       "<IPython.core.display.HTML object>"
      ]
     },
     "metadata": {},
     "output_type": "display_data"
    }
   ],
   "source": [
    "# Process hourly data. The order of variables needs to be the same as requested.\n",
    "hourly = response.Hourly()\n",
    "hourly_temperature_2m = hourly.Variables(0).ValuesAsNumpy()\n",
    "hourly_relative_humidity_2m = hourly.Variables(1).ValuesAsNumpy()\n",
    "hourly_precipitation = hourly.Variables(2).ValuesAsNumpy()\n",
    "hourly_rain = hourly.Variables(3).ValuesAsNumpy()\n",
    "hourly_snowfall = hourly.Variables(4).ValuesAsNumpy()\n",
    "hourly_cloud_cover = hourly.Variables(5).ValuesAsNumpy()\n",
    "hourly_et0_fao_evapotranspiration = hourly.Variables(6).ValuesAsNumpy()\n",
    "hourly_vapour_pressure_deficit = hourly.Variables(7).ValuesAsNumpy()\n",
    "hourly_wind_speed_10m = hourly.Variables(8).ValuesAsNumpy()\n",
    "hourly_soil_temperature_0_to_7cm = hourly.Variables(9).ValuesAsNumpy()\n",
    "hourly_soil_temperature_7_to_28cm = hourly.Variables(10).ValuesAsNumpy()\n",
    "hourly_soil_temperature_28_to_100cm = hourly.Variables(11).ValuesAsNumpy()\n",
    "hourly_soil_moisture_0_to_7cm = hourly.Variables(12).ValuesAsNumpy()\n",
    "hourly_soil_moisture_7_to_28cm = hourly.Variables(13).ValuesAsNumpy()\n",
    "hourly_is_day = hourly.Variables(14).ValuesAsNumpy()\n",
    "\n",
    "hourly_data = {\n",
    "    \"date\": pd.date_range(\n",
    "        start=pd.to_datetime(hourly.Time(), unit=\"s\", utc=True),\n",
    "        end=pd.to_datetime(hourly.TimeEnd(), unit=\"s\", utc=True),\n",
    "        freq=pd.Timedelta(seconds=hourly.Interval()),\n",
    "        inclusive=\"left\",\n",
    "    )\n",
    "}\n",
    "hourly_data[\"temperature_2m\"] = hourly_temperature_2m\n",
    "hourly_data[\"relative_humidity_2m\"] = hourly_relative_humidity_2m\n",
    "hourly_data[\"precipitation\"] = hourly_precipitation\n",
    "hourly_data[\"rain\"] = hourly_rain\n",
    "hourly_data[\"snowfall\"] = hourly_snowfall\n",
    "hourly_data[\"cloud_cover\"] = hourly_cloud_cover\n",
    "hourly_data[\"et0_fao_evapotranspiration\"] = hourly_et0_fao_evapotranspiration\n",
    "hourly_data[\"vapour_pressure_deficit\"] = hourly_vapour_pressure_deficit\n",
    "hourly_data[\"wind_speed_10m\"] = hourly_wind_speed_10m\n",
    "hourly_data[\"soil_temperature_0_to_7cm\"] = hourly_soil_temperature_0_to_7cm\n",
    "hourly_data[\"soil_temperature_7_to_28cm\"] = hourly_soil_temperature_7_to_28cm\n",
    "hourly_data[\"soil_temperature_28_to_100cm\"] = hourly_soil_temperature_28_to_100cm\n",
    "hourly_data[\"soil_moisture_0_to_7cm\"] = hourly_soil_moisture_0_to_7cm\n",
    "hourly_data[\"soil_moisture_7_to_28cm\"] = hourly_soil_moisture_7_to_28cm\n",
    "hourly_data[\"is_day\"] = hourly_is_day"
   ]
  },
  {
   "cell_type": "code",
   "execution_count": 47,
   "metadata": {},
   "outputs": [
    {
     "data": {
      "text/html": [
       "\n",
       "            <style>\n",
       "                .geemap-dark {\n",
       "                    --jp-widgets-color: white;\n",
       "                    --jp-widgets-label-color: white;\n",
       "                    --jp-ui-font-color1: white;\n",
       "                    --jp-layout-color2: #454545;\n",
       "                    background-color: #383838;\n",
       "                }\n",
       "\n",
       "                .geemap-dark .jupyter-button {\n",
       "                    --jp-layout-color3: #383838;\n",
       "                }\n",
       "\n",
       "                .geemap-colab {\n",
       "                    background-color: var(--colab-primary-surface-color, white);\n",
       "                }\n",
       "\n",
       "                .geemap-colab .jupyter-button {\n",
       "                    --jp-layout-color3: var(--colab-primary-surface-color, white);\n",
       "                }\n",
       "            </style>\n",
       "            "
      ],
      "text/plain": [
       "<IPython.core.display.HTML object>"
      ]
     },
     "metadata": {},
     "output_type": "display_data"
    }
   ],
   "source": [
    "hourly_dataframe = pd.DataFrame(data = hourly_data)"
   ]
  },
  {
   "cell_type": "code",
   "execution_count": 48,
   "metadata": {},
   "outputs": [
    {
     "data": {
      "text/html": [
       "\n",
       "            <style>\n",
       "                .geemap-dark {\n",
       "                    --jp-widgets-color: white;\n",
       "                    --jp-widgets-label-color: white;\n",
       "                    --jp-ui-font-color1: white;\n",
       "                    --jp-layout-color2: #454545;\n",
       "                    background-color: #383838;\n",
       "                }\n",
       "\n",
       "                .geemap-dark .jupyter-button {\n",
       "                    --jp-layout-color3: #383838;\n",
       "                }\n",
       "\n",
       "                .geemap-colab {\n",
       "                    background-color: var(--colab-primary-surface-color, white);\n",
       "                }\n",
       "\n",
       "                .geemap-colab .jupyter-button {\n",
       "                    --jp-layout-color3: var(--colab-primary-surface-color, white);\n",
       "                }\n",
       "            </style>\n",
       "            "
      ],
      "text/plain": [
       "<IPython.core.display.HTML object>"
      ]
     },
     "metadata": {},
     "output_type": "display_data"
    },
    {
     "data": {
      "text/html": [
       "<div>\n",
       "<style scoped>\n",
       "    .dataframe tbody tr th:only-of-type {\n",
       "        vertical-align: middle;\n",
       "    }\n",
       "\n",
       "    .dataframe tbody tr th {\n",
       "        vertical-align: top;\n",
       "    }\n",
       "\n",
       "    .dataframe thead th {\n",
       "        text-align: right;\n",
       "    }\n",
       "</style>\n",
       "<table border=\"1\" class=\"dataframe\">\n",
       "  <thead>\n",
       "    <tr style=\"text-align: right;\">\n",
       "      <th></th>\n",
       "      <th>date</th>\n",
       "      <th>temperature_2m</th>\n",
       "      <th>relative_humidity_2m</th>\n",
       "      <th>precipitation</th>\n",
       "      <th>rain</th>\n",
       "      <th>snowfall</th>\n",
       "      <th>cloud_cover</th>\n",
       "      <th>et0_fao_evapotranspiration</th>\n",
       "      <th>vapour_pressure_deficit</th>\n",
       "      <th>wind_speed_10m</th>\n",
       "      <th>soil_temperature_0_to_7cm</th>\n",
       "      <th>soil_temperature_7_to_28cm</th>\n",
       "      <th>soil_temperature_28_to_100cm</th>\n",
       "      <th>soil_moisture_0_to_7cm</th>\n",
       "      <th>soil_moisture_7_to_28cm</th>\n",
       "      <th>is_day</th>\n",
       "    </tr>\n",
       "  </thead>\n",
       "  <tbody>\n",
       "    <tr>\n",
       "      <th>0</th>\n",
       "      <td>2024-06-01 00:00:00+00:00</td>\n",
       "      <td>15.938999</td>\n",
       "      <td>83.734444</td>\n",
       "      <td>0.0</td>\n",
       "      <td>0.0</td>\n",
       "      <td>0.0</td>\n",
       "      <td>27.0</td>\n",
       "      <td>0.012230</td>\n",
       "      <td>0.294825</td>\n",
       "      <td>12.538134</td>\n",
       "      <td>18.039000</td>\n",
       "      <td>20.588999</td>\n",
       "      <td>18.688999</td>\n",
       "      <td>0.216</td>\n",
       "      <td>0.232</td>\n",
       "      <td>0.0</td>\n",
       "    </tr>\n",
       "    <tr>\n",
       "      <th>1</th>\n",
       "      <td>2024-06-01 01:00:00+00:00</td>\n",
       "      <td>14.488999</td>\n",
       "      <td>87.218773</td>\n",
       "      <td>0.0</td>\n",
       "      <td>0.0</td>\n",
       "      <td>0.0</td>\n",
       "      <td>1.8</td>\n",
       "      <td>0.002590</td>\n",
       "      <td>0.211097</td>\n",
       "      <td>10.691453</td>\n",
       "      <td>16.989000</td>\n",
       "      <td>20.338999</td>\n",
       "      <td>18.688999</td>\n",
       "      <td>0.214</td>\n",
       "      <td>0.231</td>\n",
       "      <td>0.0</td>\n",
       "    </tr>\n",
       "    <tr>\n",
       "      <th>2</th>\n",
       "      <td>2024-06-01 02:00:00+00:00</td>\n",
       "      <td>14.139000</td>\n",
       "      <td>85.479065</td>\n",
       "      <td>0.0</td>\n",
       "      <td>0.0</td>\n",
       "      <td>0.0</td>\n",
       "      <td>0.9</td>\n",
       "      <td>0.003304</td>\n",
       "      <td>0.234475</td>\n",
       "      <td>9.793059</td>\n",
       "      <td>16.588999</td>\n",
       "      <td>20.088999</td>\n",
       "      <td>18.688999</td>\n",
       "      <td>0.214</td>\n",
       "      <td>0.231</td>\n",
       "      <td>0.0</td>\n",
       "    </tr>\n",
       "    <tr>\n",
       "      <th>3</th>\n",
       "      <td>2024-06-01 03:00:00+00:00</td>\n",
       "      <td>14.089000</td>\n",
       "      <td>79.992592</td>\n",
       "      <td>0.0</td>\n",
       "      <td>0.0</td>\n",
       "      <td>0.0</td>\n",
       "      <td>3.6</td>\n",
       "      <td>0.008566</td>\n",
       "      <td>0.322039</td>\n",
       "      <td>8.942214</td>\n",
       "      <td>16.188999</td>\n",
       "      <td>19.838999</td>\n",
       "      <td>18.688999</td>\n",
       "      <td>0.214</td>\n",
       "      <td>0.231</td>\n",
       "      <td>0.0</td>\n",
       "    </tr>\n",
       "    <tr>\n",
       "      <th>4</th>\n",
       "      <td>2024-06-01 04:00:00+00:00</td>\n",
       "      <td>14.339000</td>\n",
       "      <td>75.874245</td>\n",
       "      <td>0.0</td>\n",
       "      <td>0.0</td>\n",
       "      <td>0.0</td>\n",
       "      <td>13.5</td>\n",
       "      <td>0.038347</td>\n",
       "      <td>0.394666</td>\n",
       "      <td>9.686609</td>\n",
       "      <td>15.938999</td>\n",
       "      <td>19.639000</td>\n",
       "      <td>18.688999</td>\n",
       "      <td>0.214</td>\n",
       "      <td>0.231</td>\n",
       "      <td>1.0</td>\n",
       "    </tr>\n",
       "  </tbody>\n",
       "</table>\n",
       "</div>"
      ],
      "text/plain": [
       "                       date  temperature_2m  relative_humidity_2m  \\\n",
       "0 2024-06-01 00:00:00+00:00       15.938999             83.734444   \n",
       "1 2024-06-01 01:00:00+00:00       14.488999             87.218773   \n",
       "2 2024-06-01 02:00:00+00:00       14.139000             85.479065   \n",
       "3 2024-06-01 03:00:00+00:00       14.089000             79.992592   \n",
       "4 2024-06-01 04:00:00+00:00       14.339000             75.874245   \n",
       "\n",
       "   precipitation  rain  snowfall  cloud_cover  et0_fao_evapotranspiration  \\\n",
       "0            0.0   0.0       0.0         27.0                    0.012230   \n",
       "1            0.0   0.0       0.0          1.8                    0.002590   \n",
       "2            0.0   0.0       0.0          0.9                    0.003304   \n",
       "3            0.0   0.0       0.0          3.6                    0.008566   \n",
       "4            0.0   0.0       0.0         13.5                    0.038347   \n",
       "\n",
       "   vapour_pressure_deficit  wind_speed_10m  soil_temperature_0_to_7cm  \\\n",
       "0                 0.294825       12.538134                  18.039000   \n",
       "1                 0.211097       10.691453                  16.989000   \n",
       "2                 0.234475        9.793059                  16.588999   \n",
       "3                 0.322039        8.942214                  16.188999   \n",
       "4                 0.394666        9.686609                  15.938999   \n",
       "\n",
       "   soil_temperature_7_to_28cm  soil_temperature_28_to_100cm  \\\n",
       "0                   20.588999                     18.688999   \n",
       "1                   20.338999                     18.688999   \n",
       "2                   20.088999                     18.688999   \n",
       "3                   19.838999                     18.688999   \n",
       "4                   19.639000                     18.688999   \n",
       "\n",
       "   soil_moisture_0_to_7cm  soil_moisture_7_to_28cm  is_day  \n",
       "0                   0.216                    0.232     0.0  \n",
       "1                   0.214                    0.231     0.0  \n",
       "2                   0.214                    0.231     0.0  \n",
       "3                   0.214                    0.231     0.0  \n",
       "4                   0.214                    0.231     1.0  "
      ]
     },
     "execution_count": 48,
     "metadata": {},
     "output_type": "execute_result"
    }
   ],
   "source": [
    "hourly_dataframe.head()"
   ]
  },
  {
   "cell_type": "code",
   "execution_count": 49,
   "metadata": {},
   "outputs": [
    {
     "data": {
      "text/html": [
       "\n",
       "            <style>\n",
       "                .geemap-dark {\n",
       "                    --jp-widgets-color: white;\n",
       "                    --jp-widgets-label-color: white;\n",
       "                    --jp-ui-font-color1: white;\n",
       "                    --jp-layout-color2: #454545;\n",
       "                    background-color: #383838;\n",
       "                }\n",
       "\n",
       "                .geemap-dark .jupyter-button {\n",
       "                    --jp-layout-color3: #383838;\n",
       "                }\n",
       "\n",
       "                .geemap-colab {\n",
       "                    background-color: var(--colab-primary-surface-color, white);\n",
       "                }\n",
       "\n",
       "                .geemap-colab .jupyter-button {\n",
       "                    --jp-layout-color3: var(--colab-primary-surface-color, white);\n",
       "                }\n",
       "            </style>\n",
       "            "
      ],
      "text/plain": [
       "<IPython.core.display.HTML object>"
      ]
     },
     "metadata": {},
     "output_type": "display_data"
    }
   ],
   "source": [
    "fig = go.Figure()\n",
    "\n",
    "# Create a subplot layout: 4 rows, 1 column, shared x-axis\n",
    "fig = make_subplots(rows=4, cols=1, shared_xaxes=True, vertical_spacing=0.01)\n",
    "\n",
    "# Add the temperature trace to the first subplot\n",
    "fig.add_trace(go.Scatter(x=hourly_dataframe['date'], y=hourly_dataframe['temperature_2m'].round(2),\n",
    "                         mode='lines+markers',\n",
    "                         name='Temperature',\n",
    "                         line=dict(color='red', width=2),\n",
    "                         hoverinfo='x+y',\n",
    "                         hovertemplate='Date: %{x}<br>Temperature: %{y}°C<extra></extra>'),\n",
    "              row=1, col=1)\n",
    "\n",
    "# Add the humidity trace to the second subplot\n",
    "fig.add_trace(go.Scatter(x=hourly_dataframe['date'], y=hourly_dataframe['relative_humidity_2m'],\n",
    "                         mode='lines+markers',\n",
    "                         name='Humidity',\n",
    "                         line=dict(color='brown', width=2),\n",
    "                         hoverinfo='x+y',\n",
    "                         hovertemplate='Date: %{x}<br>Humidity: %{y}%<extra></extra>'),\n",
    "              row=2, col=1)\n",
    "\n",
    "# Add the wind speed trace to the third subplot\n",
    "fig.add_trace(go.Scatter(x=hourly_dataframe['date'], y=hourly_dataframe['wind_speed_10m'].round(2),\n",
    "                         mode='lines+markers',\n",
    "                         name='Wind Speed',\n",
    "                         line=dict(color='green', width=2),\n",
    "                         hoverinfo='x+y',\n",
    "                         hovertemplate='Date: %{x}<br>Wind Speed:%{y} Km/h <extra></extra>'),\n",
    "              row=3, col=1)\n",
    "\n",
    "# Add the precipitation trace to the third subplot\n",
    "fig.add_trace(go.Scatter(x=hourly_dataframe['date'], y=hourly_dataframe['precipitation'].round(2),\n",
    "                         mode='lines+markers',\n",
    "                         name='Precipitations',\n",
    "                         line=dict(color='blue', width=2),\n",
    "                         hoverinfo='x+y',\n",
    "                         hovertemplate='Date: %{x}<br>Precipitation:%{y} mm <extra></extra>'),\n",
    "              row=4, col=1)\n",
    "\n",
    "#offset of the figure with respect to the point\n",
    "fixed_offset = 3\n",
    "\n",
    "# Iterate through the dataframe and add annotations\n",
    "for index, row in hourly_dataframe.iterrows():\n",
    "    is_day = row['is_day']\n",
    "    # Determine if it's day (6 AM to 6 PM) or night\n",
    "    if is_day == 1:\n",
    "        symbol = '☀️'  # Sun symbol for day\n",
    "    else:\n",
    "        symbol = '🌑'  # Moon symbol for night\n",
    "    \n",
    "    # Add annotation for each point\n",
    "    fig.add_annotation(x=row['date'], y=round(row['temperature_2m'], 2) + 2,  # Adjust Y to place the symbol above the point\n",
    "                       text=symbol,\n",
    "                       showarrow=False,\n",
    "                       font=dict(size=10),  # Adjust font size as needed\n",
    "                       row=1, col=1)\n",
    "\n",
    "# Update y-axes titles\n",
    "fig.update_yaxes(title_text=\"Temperature (°C)\", title_font=dict(weight='bold'), row=1, col=1)\n",
    "fig.update_yaxes(title_text=\"Humidity (%)\", title_font=dict(weight='bold'), row=2, col=1)\n",
    "fig.update_yaxes(title_text=\"Wind Speed (Km/h)\", title_font=dict(weight='bold'), row=3, col=1)\n",
    "fig.update_yaxes(title_text=\"Precipitations (mm)\", title_font=dict(weight='bold'), row=4, col=1)\n",
    "\n",
    "# Update layout (optional adjustments)\n",
    "fig.update_layout(height=800, width=1200, title_text=\"Weather Forecast Hourly\", title_font=dict(size=30, weight='bold'), title_x=0.5)\n",
    "\n",
    "# Show the plot\n",
    "fig.show()"
   ]
  },
  {
   "cell_type": "code",
   "execution_count": null,
   "metadata": {},
   "outputs": [],
   "source": [
    "#fig.write_html(\"../images/weather_forecast_hourly.html\")"
   ]
  },
  {
   "cell_type": "markdown",
   "metadata": {},
   "source": [
    "### Compute the crop analysis"
   ]
  },
  {
   "cell_type": "markdown",
   "metadata": {},
   "source": [
    "Gather satellite images from the `Sentinel-2`, from 2 input dates and a coordinate point, and from those images generate all the crop metrics.\n",
    "\n",
    "First it is necessary to set up a Cloud Project, see instruction [here](https://developers.google.com/earth-engine/cloud/earthengine_cloud_project_setup)\n",
    "\n",
    "Also to smooth the auth for the Google Earth Engine, and to be future proof in case of an app deployment, is it possible to configure a [Service Account](https://developers.google.com/earth-engine/guides/service_account). \n",
    "\n",
    "Once the Service Account is created, is possible to create KEY, using a JSON format. The key file is a special file that allows programs to access Google APIs on behalf of your service account. Ensure it is not possible for anyone to gain unauthorized access to it, since they would be able to access Google APIs on your behalf."
   ]
  },
  {
   "cell_type": "code",
   "execution_count": 58,
   "metadata": {},
   "outputs": [
    {
     "data": {
      "text/html": [
       "\n",
       "            <style>\n",
       "                .geemap-dark {\n",
       "                    --jp-widgets-color: white;\n",
       "                    --jp-widgets-label-color: white;\n",
       "                    --jp-ui-font-color1: white;\n",
       "                    --jp-layout-color2: #454545;\n",
       "                    background-color: #383838;\n",
       "                }\n",
       "\n",
       "                .geemap-dark .jupyter-button {\n",
       "                    --jp-layout-color3: #383838;\n",
       "                }\n",
       "\n",
       "                .geemap-colab {\n",
       "                    background-color: var(--colab-primary-surface-color, white);\n",
       "                }\n",
       "\n",
       "                .geemap-colab .jupyter-button {\n",
       "                    --jp-layout-color3: var(--colab-primary-surface-color, white);\n",
       "                }\n",
       "            </style>\n",
       "            "
      ],
      "text/plain": [
       "<IPython.core.display.HTML object>"
      ]
     },
     "metadata": {},
     "output_type": "display_data"
    }
   ],
   "source": [
    "# import Google earth engine module\n",
    "service_account = os.environ[\"SERVICE_ACCOUNT\"]\n",
    "credentials = ee.ServiceAccountCredentials(\n",
    "    service_account, \"../.agro-eye-daa28181e1a7.json\"\n",
    ")\n",
    "ee.Initialize(credentials, project=\"agro-eye\")"
   ]
  },
  {
   "cell_type": "markdown",
   "metadata": {},
   "source": [
    "Create an interactive map\n",
    "\n",
    "Once the interactive map is created, to proceed with the code, is necessary to define a Polygon geometry, see example below:\n",
    "\n",
    "![Capture Polygon](../images/Capture_Polygon.PNG)\n",
    "\n",
    "After you clicked on the *Draw a Polygon* widget, you can define your polygons of interest, which be the base of the analysis.\n",
    "\n",
    "![Drawn Polygon](../images/Capture_Drawn_Polygon.PNG)"
   ]
  },
  {
   "cell_type": "code",
   "execution_count": 86,
   "metadata": {},
   "outputs": [
    {
     "data": {
      "text/html": [
       "\n",
       "            <style>\n",
       "                .geemap-dark {\n",
       "                    --jp-widgets-color: white;\n",
       "                    --jp-widgets-label-color: white;\n",
       "                    --jp-ui-font-color1: white;\n",
       "                    --jp-layout-color2: #454545;\n",
       "                    background-color: #383838;\n",
       "                }\n",
       "\n",
       "                .geemap-dark .jupyter-button {\n",
       "                    --jp-layout-color3: #383838;\n",
       "                }\n",
       "\n",
       "                .geemap-colab {\n",
       "                    background-color: var(--colab-primary-surface-color, white);\n",
       "                }\n",
       "\n",
       "                .geemap-colab .jupyter-button {\n",
       "                    --jp-layout-color3: var(--colab-primary-surface-color, white);\n",
       "                }\n",
       "            </style>\n",
       "            "
      ],
      "text/plain": [
       "<IPython.core.display.HTML object>"
      ]
     },
     "metadata": {},
     "output_type": "display_data"
    },
    {
     "data": {
      "application/vnd.jupyter.widget-view+json": {
       "model_id": "cc4c3c8aa1194f358d4e6ecf85253c61",
       "version_major": 2,
       "version_minor": 0
      },
      "text/plain": [
       "Map(center=[41.8933203, 12.4829321], controls=(WidgetControl(options=['position', 'transparent_bg'], widget=Se…"
      ]
     },
     "execution_count": 86,
     "metadata": {},
     "output_type": "execute_result"
    }
   ],
   "source": [
    "if lat is None or lon is None:\n",
    "    raise Exception(\"Invalid coordinates! Please check the address and try again.\")\n",
    "else:\n",
    "    # toolbar_ctrl = False removes the toolbar from the Map\n",
    "    Map = geemap.Map(center=[lat, lon], zoom=12, toolbar_ctrl=False)\n",
    "    Map.add_layer_control(\"topright\")\n",
    "    Map.add_basemap(\"HYBRID\")\n",
    "Map"
   ]
  },
  {
   "cell_type": "code",
   "execution_count": 87,
   "metadata": {},
   "outputs": [
    {
     "data": {
      "text/html": [
       "\n",
       "            <style>\n",
       "                .geemap-dark {\n",
       "                    --jp-widgets-color: white;\n",
       "                    --jp-widgets-label-color: white;\n",
       "                    --jp-ui-font-color1: white;\n",
       "                    --jp-layout-color2: #454545;\n",
       "                    background-color: #383838;\n",
       "                }\n",
       "\n",
       "                .geemap-dark .jupyter-button {\n",
       "                    --jp-layout-color3: #383838;\n",
       "                }\n",
       "\n",
       "                .geemap-colab {\n",
       "                    background-color: var(--colab-primary-surface-color, white);\n",
       "                }\n",
       "\n",
       "                .geemap-colab .jupyter-button {\n",
       "                    --jp-layout-color3: var(--colab-primary-surface-color, white);\n",
       "                }\n",
       "            </style>\n",
       "            "
      ],
      "text/plain": [
       "<IPython.core.display.HTML object>"
      ]
     },
     "metadata": {},
     "output_type": "display_data"
    },
    {
     "name": "stdout",
     "output_type": "stream",
     "text": [
      "Information about the area of interest acquired correctly!\n"
     ]
    }
   ],
   "source": [
    "# Define a ee.Geometry object of your polygon\n",
    "geometries_list = []\n",
    "\n",
    "if len(Map.draw_features) == 0:\n",
    "    print(\"Please draw at least one polygon of interest first!\")\n",
    "    print(\"For more detailed information, read the README.md file.\")\n",
    "else:\n",
    "    # Get all the area of interest for the analysis\n",
    "    for feature in Map.draw_features:          \n",
    "        geometry = ee.Geometry(feature.geometry())\n",
    "        geometries_list.append(geometry)\n",
    "        print(\"Information about the area of interest acquired correctly!\")\n",
    "\n",
    "# Combine the geometries into a single geometry (e.g., a MultiPolygon if they are polygons)\n",
    "combined_geometry = ee.Geometry.MultiPolygon(geometries_list)"
   ]
  },
  {
   "cell_type": "code",
   "execution_count": 88,
   "metadata": {},
   "outputs": [
    {
     "data": {
      "text/html": [
       "\n",
       "            <style>\n",
       "                .geemap-dark {\n",
       "                    --jp-widgets-color: white;\n",
       "                    --jp-widgets-label-color: white;\n",
       "                    --jp-ui-font-color1: white;\n",
       "                    --jp-layout-color2: #454545;\n",
       "                    background-color: #383838;\n",
       "                }\n",
       "\n",
       "                .geemap-dark .jupyter-button {\n",
       "                    --jp-layout-color3: #383838;\n",
       "                }\n",
       "\n",
       "                .geemap-colab {\n",
       "                    background-color: var(--colab-primary-surface-color, white);\n",
       "                }\n",
       "\n",
       "                .geemap-colab .jupyter-button {\n",
       "                    --jp-layout-color3: var(--colab-primary-surface-color, white);\n",
       "                }\n",
       "            </style>\n",
       "            "
      ],
      "text/plain": [
       "<IPython.core.display.HTML object>"
      ]
     },
     "metadata": {},
     "output_type": "display_data"
    },
    {
     "name": "stdout",
     "output_type": "stream",
     "text": [
      "Sentinel-2 images acquired correctly!\n"
     ]
    }
   ],
   "source": [
    "# Filter Sentinel-2 image collection\n",
    "try:\n",
    "    sentinel_images = (\n",
    "        ee.ImageCollection(\"COPERNICUS/S2_SR_HARMONIZED\")\n",
    "        .filterDate(start_date, end_date)\n",
    "        .filterBounds(combined_geometry)\n",
    "        .filter(ee.Filter.lt(\"CLOUDY_PIXEL_PERCENTAGE\", 20))\n",
    "    )\n",
    "    print(\"Sentinel-2 images acquired correctly!\")\n",
    "\n",
    "except Exception as e:\n",
    "    print(\"An error occurred while trying to acquire the Sentinel-2 images.\")\n",
    "    print(f\"Error: {e}\")"
   ]
  },
  {
   "cell_type": "markdown",
   "metadata": {},
   "source": [
    "#### NDVI\n",
    "\n",
    "NDVI value ranges between -1.0 and +1.0. Generally speaking, NDVI shows a functional relationship with vegetation properties (e.g. biomass). NDVI is directly related to the photosynthetic capacity and energy absorption of plant canopies. The NDVI is calculated from these individual measurements as follows:\n",
    "\n",
    "`NDVI= (NIR-Red) \\ (NIR+Red)`"
   ]
  },
  {
   "cell_type": "code",
   "execution_count": 89,
   "metadata": {},
   "outputs": [
    {
     "data": {
      "text/html": [
       "\n",
       "            <style>\n",
       "                .geemap-dark {\n",
       "                    --jp-widgets-color: white;\n",
       "                    --jp-widgets-label-color: white;\n",
       "                    --jp-ui-font-color1: white;\n",
       "                    --jp-layout-color2: #454545;\n",
       "                    background-color: #383838;\n",
       "                }\n",
       "\n",
       "                .geemap-dark .jupyter-button {\n",
       "                    --jp-layout-color3: #383838;\n",
       "                }\n",
       "\n",
       "                .geemap-colab {\n",
       "                    background-color: var(--colab-primary-surface-color, white);\n",
       "                }\n",
       "\n",
       "                .geemap-colab .jupyter-button {\n",
       "                    --jp-layout-color3: var(--colab-primary-surface-color, white);\n",
       "                }\n",
       "            </style>\n",
       "            "
      ],
      "text/plain": [
       "<IPython.core.display.HTML object>"
      ]
     },
     "metadata": {},
     "output_type": "display_data"
    }
   ],
   "source": [
    "# Function to calculate NDVI using NIR (B8) and Red (B4) bands\n",
    "def calculate_ndvi(image):\n",
    "    ndvi = image.normalizedDifference([\"B8\", \"B4\"]).rename(\"NDVI\")\n",
    "    return ndvi"
   ]
  },
  {
   "cell_type": "code",
   "execution_count": 90,
   "metadata": {},
   "outputs": [
    {
     "data": {
      "text/html": [
       "\n",
       "            <style>\n",
       "                .geemap-dark {\n",
       "                    --jp-widgets-color: white;\n",
       "                    --jp-widgets-label-color: white;\n",
       "                    --jp-ui-font-color1: white;\n",
       "                    --jp-layout-color2: #454545;\n",
       "                    background-color: #383838;\n",
       "                }\n",
       "\n",
       "                .geemap-dark .jupyter-button {\n",
       "                    --jp-layout-color3: #383838;\n",
       "                }\n",
       "\n",
       "                .geemap-colab {\n",
       "                    background-color: var(--colab-primary-surface-color, white);\n",
       "                }\n",
       "\n",
       "                .geemap-colab .jupyter-button {\n",
       "                    --jp-layout-color3: var(--colab-primary-surface-color, white);\n",
       "                }\n",
       "            </style>\n",
       "            "
      ],
      "text/plain": [
       "<IPython.core.display.HTML object>"
      ]
     },
     "metadata": {},
     "output_type": "display_data"
    },
    {
     "name": "stdout",
     "output_type": "stream",
     "text": [
      "Unique dates: ['2024-06-03', '2024-06-08', '2024-06-18', '2024-06-28', '2024-07-08', '2024-07-13', '2024-07-18']\n",
      "Formatted dates: ['03 Jun', '08 Jun', '18 Jun', '28 Jun', '08 Jul', '13 Jul', '18 Jul']\n"
     ]
    }
   ],
   "source": [
    "# Get the list of dates from the image collection\n",
    "dates = sentinel_images.aggregate_array(\"system:time_start\").getInfo()\n",
    "dates = [ee.Date(date).format(\"YYYY-MM-dd\").getInfo() for date in dates]\n",
    "unique_dates = sorted(set(dates))\n",
    "# unique_dates[0] = \"2024-07-01\"\n",
    "print(f\"Unique dates: {unique_dates}\")\n",
    "\n",
    "\n",
    "# Function to convert date format\n",
    "def convert_date_format(date):\n",
    "    year, month, day = date.split(\"-\")\n",
    "    months = [\"Jan\", \"Feb\", \"Mar\", \"Apr\", \"May\", \"Jun\", \"Jul\", \"Aug\", \"Sep\", \"Oct\", \"Nov\", \"Dec\"]\n",
    "    month_abbr = months[int(month) - 1]\n",
    "    return f\"{day} {month_abbr}\"\n",
    "\n",
    "# Create a mapping from original date format to formatted date\n",
    "# Needed because we want to visualize DD-MMM format on the slider, but\n",
    "# the Earth Engine date format is YYYY-MM-DD\n",
    "date_mapping= {convert_date_format(date): date for date in unique_dates}\n",
    "\n",
    "# Apply the conversion to the unique_dates list\n",
    "formatted_dates = list(date_mapping.keys())\n",
    "# formatted_dates[0] = \"01 Jul\"\n",
    "print(f\"Formatted dates: {formatted_dates}\")\n",
    "\n",
    "date_slider = widgets.SelectionSlider(\n",
    "    options=formatted_dates,\n",
    "    value=formatted_dates[0],  # default value\n",
    "    description=\"\",\n",
    "    continuous_update=False,\n",
    "    orientation=\"horizontal\",\n",
    "    readout=False,  # Hide the default readout\n",
    "    style={\"description_width\": \"initial\"},\n",
    "    layout=widgets.Layout(width=\"100%\"),\n",
    ")"
   ]
  },
  {
   "cell_type": "code",
   "execution_count": 92,
   "metadata": {},
   "outputs": [
    {
     "data": {
      "text/html": [
       "\n",
       "            <style>\n",
       "                .geemap-dark {\n",
       "                    --jp-widgets-color: white;\n",
       "                    --jp-widgets-label-color: white;\n",
       "                    --jp-ui-font-color1: white;\n",
       "                    --jp-layout-color2: #454545;\n",
       "                    background-color: #383838;\n",
       "                }\n",
       "\n",
       "                .geemap-dark .jupyter-button {\n",
       "                    --jp-layout-color3: #383838;\n",
       "                }\n",
       "\n",
       "                .geemap-colab {\n",
       "                    background-color: var(--colab-primary-surface-color, white);\n",
       "                }\n",
       "\n",
       "                .geemap-colab .jupyter-button {\n",
       "                    --jp-layout-color3: var(--colab-primary-surface-color, white);\n",
       "                }\n",
       "            </style>\n",
       "            "
      ],
      "text/plain": [
       "<IPython.core.display.HTML object>"
      ]
     },
     "metadata": {},
     "output_type": "display_data"
    }
   ],
   "source": [
    "import ipywidgets as widgets\n",
    "from IPython.display import display\n",
    "\n",
    "# Checkboxes to control NDVI and NDMI layer visibility\n",
    "ndvi_checkbox = widgets.Checkbox(\n",
    "    value=False, description=\"NDVI\", disabled=False, indent=False\n",
    ")\n",
    "\n",
    "ndmi_checkbox = widgets.Checkbox(\n",
    "    value=False, description=\"NDMI\", disabled=False, indent=False\n",
    ")\n",
    "\n",
    "# Descriptions above the checkboxes\n",
    "ndvi_label = widgets.HTML(\"<b>Health Indices</b>\")\n",
    "ndmi_label = widgets.HTML(\"<b>Water Stress Indices</b>\")\n",
    "\n",
    "# Combine labels and checkboxes in a VBox for each\n",
    "ndvi_container = widgets.VBox([ndvi_label, ndvi_checkbox])\n",
    "ndmi_container = widgets.VBox([ndmi_label, ndmi_checkbox])\n",
    "\n",
    "# Display checkboxes in a single line\n",
    "checkbox_crop_filter_container = widgets.HBox(\n",
    "    [ndvi_container, ndmi_container]\n",
    ")\n"
   ]
  },
  {
   "cell_type": "code",
   "execution_count": 93,
   "metadata": {},
   "outputs": [
    {
     "data": {
      "text/html": [
       "\n",
       "            <style>\n",
       "                .geemap-dark {\n",
       "                    --jp-widgets-color: white;\n",
       "                    --jp-widgets-label-color: white;\n",
       "                    --jp-ui-font-color1: white;\n",
       "                    --jp-layout-color2: #454545;\n",
       "                    background-color: #383838;\n",
       "                }\n",
       "\n",
       "                .geemap-dark .jupyter-button {\n",
       "                    --jp-layout-color3: #383838;\n",
       "                }\n",
       "\n",
       "                .geemap-colab {\n",
       "                    background-color: var(--colab-primary-surface-color, white);\n",
       "                }\n",
       "\n",
       "                .geemap-colab .jupyter-button {\n",
       "                    --jp-layout-color3: var(--colab-primary-surface-color, white);\n",
       "                }\n",
       "            </style>\n",
       "            "
      ],
      "text/plain": [
       "<IPython.core.display.HTML object>"
      ]
     },
     "metadata": {},
     "output_type": "display_data"
    }
   ],
   "source": [
    "# Callback function to update the map layer based on selected date\n",
    "def on_date_change(change):\n",
    "    \n",
    "    if change[\"new\"]:\n",
    "\n",
    "        # Get the value of the selected date from the widget\n",
    "        selected_date = date_slider.value\n",
    "\n",
    "        if ndvi_checkbox.value:\n",
    "            # get the date in the format YYYY-MM-DD for the Earth Engine filter\n",
    "            date_ee_format = date_mapping[selected_date]\n",
    "\n",
    "            selected_image = sentinel_images.filterDate(\n",
    "                date_ee_format, ee.Date(date_ee_format).advance(1, \"day\")\n",
    "            ).first()\n",
    "            # clip the image to the combined geometry\n",
    "            selected_image = selected_image.clip(combined_geometry)\n",
    "            # compute the ndvi for the selected image\n",
    "            ndvi_image = calculate_ndvi(selected_image)\n",
    "\n",
    "            Map.remove_layer(\"NDVI\")\n",
    "\n",
    "            ndvi_params = {\"min\": 0, \"max\": 1, \"palette\": [\"red\", \"yellow\", \"green\"]}\n",
    "            Map.addLayer(ndvi_image, ndvi_params, \"NDVI\")\n",
    "\n",
    "            #Map.centerObject(combined_geometry)\n",
    "\n",
    "            Map.add_colorbar(ndvi_params, label=\"Vegetation Health Index\", layer_name=\"NDVI\")\n",
    "\n",
    "        else:\n",
    "            Map.remove_layer(\"NDVI\")\n",
    "\n",
    "        #TODO: Add NDMI layer\n",
    "\n",
    "# Create date marker divs\n",
    "date_marker_divs = [widgets.HTML(value=f\"<div>{date}</div>\") for date in formatted_dates]\n",
    "\n",
    "# Callback function to monitor the ndvi_checkbox checkbox status\n",
    "def on_ndvi_checkbox_change(change):\n",
    "    if change[\"new\"] == True:\n",
    "        # check if the checkbox is checked\n",
    "        if date_slider.value:\n",
    "            # take the date from the slider\n",
    "            selected_date = date_slider.value\n",
    "            date_ee_format = date_mapping[selected_date]\n",
    "\n",
    "            selected_image = sentinel_images.filterDate(\n",
    "                date_ee_format, ee.Date(date_ee_format).advance(1, \"day\")\n",
    "            ).first()\n",
    "            # clip the image to the combined geometry\n",
    "            selected_image = selected_image.clip(combined_geometry)\n",
    "            # compute the ndvi for the selected image\n",
    "            ndvi_image = calculate_ndvi(selected_image)\n",
    "\n",
    "            Map.remove_layer(\"NDVI\")\n",
    "\n",
    "            ndvi_params = {\"min\": 0, \"max\": 1, \"palette\": [\"red\", \"yellow\", \"green\"]}\n",
    "            Map.addLayer(ndvi_image, ndvi_params, \"NDVI\")\n",
    "\n",
    "            #Map.centerObject(object=combined_geometry)\n",
    "\n",
    "            Map.add_colorbar(ndvi_params, label=\"Vegetation Health Index\", layer_name=\"NDVI\")\n",
    "\n",
    "    else:\n",
    "        Map.remove_layer(\"NDVI\")"
   ]
  },
  {
   "cell_type": "code",
   "execution_count": 96,
   "metadata": {},
   "outputs": [
    {
     "data": {
      "text/html": [
       "\n",
       "            <style>\n",
       "                .geemap-dark {\n",
       "                    --jp-widgets-color: white;\n",
       "                    --jp-widgets-label-color: white;\n",
       "                    --jp-ui-font-color1: white;\n",
       "                    --jp-layout-color2: #454545;\n",
       "                    background-color: #383838;\n",
       "                }\n",
       "\n",
       "                .geemap-dark .jupyter-button {\n",
       "                    --jp-layout-color3: #383838;\n",
       "                }\n",
       "\n",
       "                .geemap-colab {\n",
       "                    background-color: var(--colab-primary-surface-color, white);\n",
       "                }\n",
       "\n",
       "                .geemap-colab .jupyter-button {\n",
       "                    --jp-layout-color3: var(--colab-primary-surface-color, white);\n",
       "                }\n",
       "            </style>\n",
       "            "
      ],
      "text/plain": [
       "<IPython.core.display.HTML object>"
      ]
     },
     "metadata": {},
     "output_type": "display_data"
    }
   ],
   "source": [
    "# Observe the change in dropdown value\n",
    "date_slider.observe(on_date_change, names=\"value\")\n",
    "ndvi_checkbox.observe(on_ndvi_checkbox_change, names=\"value\")\n",
    "\n",
    "# Create a container for the slider and date markers\n",
    "date_slider_container = widgets.VBox(\n",
    "    [\n",
    "        widgets.HBox([date_slider], layout=widgets.Layout(width=\"100%\")),\n",
    "        widgets.HBox(\n",
    "            date_marker_divs,\n",
    "            layout=widgets.Layout(justify_content=\"space-between\", width=\"100%\"),\n",
    "        ),\n",
    "    ]\n",
    ")\n",
    "\n",
    "# Trigger the initial update to set the active date marker\n",
    "# update_date_markers({\"new\": date_slider.value})\n",
    "\n",
    "# Create a container for the map and the slider\n",
    "container = widgets.VBox(\n",
    "    [checkbox_crop_filter_container, Map, date_slider_container]\n",
    ")"
   ]
  },
  {
   "cell_type": "code",
   "execution_count": 97,
   "metadata": {},
   "outputs": [
    {
     "data": {
      "text/html": [
       "\n",
       "            <style>\n",
       "                .geemap-dark {\n",
       "                    --jp-widgets-color: white;\n",
       "                    --jp-widgets-label-color: white;\n",
       "                    --jp-ui-font-color1: white;\n",
       "                    --jp-layout-color2: #454545;\n",
       "                    background-color: #383838;\n",
       "                }\n",
       "\n",
       "                .geemap-dark .jupyter-button {\n",
       "                    --jp-layout-color3: #383838;\n",
       "                }\n",
       "\n",
       "                .geemap-colab {\n",
       "                    background-color: var(--colab-primary-surface-color, white);\n",
       "                }\n",
       "\n",
       "                .geemap-colab .jupyter-button {\n",
       "                    --jp-layout-color3: var(--colab-primary-surface-color, white);\n",
       "                }\n",
       "            </style>\n",
       "            "
      ],
      "text/plain": [
       "<IPython.core.display.HTML object>"
      ]
     },
     "metadata": {},
     "output_type": "display_data"
    },
    {
     "data": {
      "application/vnd.jupyter.widget-view+json": {
       "model_id": "9745f6d2ffcb4f9d86dd65e77ed0d380",
       "version_major": 2,
       "version_minor": 0
      },
      "text/plain": [
       "VBox(children=(HBox(children=(VBox(children=(HTML(value='<b>Health Indices</b>'), Checkbox(value=False, descri…"
      ]
     },
     "metadata": {},
     "output_type": "display_data"
    }
   ],
   "source": [
    "display(container)"
   ]
  }
 ],
 "metadata": {
  "kernelspec": {
   "display_name": "agro_eye_notebooks",
   "language": "python",
   "name": "python3"
  },
  "language_info": {
   "codemirror_mode": {
    "name": "ipython",
    "version": 3
   },
   "file_extension": ".py",
   "mimetype": "text/x-python",
   "name": "python",
   "nbconvert_exporter": "python",
   "pygments_lexer": "ipython3",
   "version": "3.11.5"
  }
 },
 "nbformat": 4,
 "nbformat_minor": 2
}
