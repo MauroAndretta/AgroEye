{
 "cells": [
  {
   "cell_type": "markdown",
   "metadata": {},
   "source": [
    "# Weather Data Visualization Notebook\n",
    "\n",
    "Welcome to the Weather Data Visualization Notebook! This notebook is designed to help you fetch and visualize weather data for the past N (N>0) days.\n",
    "\n",
    "## Setup Instructions\n",
    "\n",
    "Before you start using this notebook, please follow these steps to set up the Conda environment:\n",
    "\n",
    "1. **Create and Activate the Conda Environment**:\n",
    "   \n",
    "   Ensure you have Conda installed. Open a terminal and navigate to the root directory of the repository. Run the following command to create a new Conda environment based on the `agro_eye_notebooks.yaml` file located in the `conda` folder:\n",
    "\n",
    "   ```bash\n",
    "   conda env create -f conda/agro_eye_notebooks.yaml\n",
    "   ```\n",
    "### Install env variable\n",
    "\n",
    "Put the following env variables in your `~/.env`:\n",
    "- \"URL_OPEN-METEO\"\n"
   ]
  },
  {
   "cell_type": "code",
   "execution_count": 1,
   "metadata": {},
   "outputs": [],
   "source": [
    "# Import the necessary libraries\n",
    "import requests\n",
    "import json\n",
    "from dotenv import load_dotenv\n",
    "import os\n",
    "import openmeteo_requests\n",
    "import requests_cache\n",
    "import pandas as pd\n",
    "import numpy as np\n",
    "from retry_requests import retry\n",
    "import matplotlib as mpl\n",
    "from matplotlib import pyplot as plt\n",
    "import plotly.io as pio\n",
    "import plotly.graph_objects as go\n",
    "from plotly.subplots import make_subplots"
   ]
  },
  {
   "cell_type": "code",
   "execution_count": 2,
   "metadata": {},
   "outputs": [
    {
     "data": {
      "text/plain": [
       "True"
      ]
     },
     "execution_count": 2,
     "metadata": {},
     "output_type": "execute_result"
    }
   ],
   "source": [
    "load_dotenv(dotenv_path=os.path.expanduser(\"~/.env\"))"
   ]
  },
  {
   "cell_type": "code",
   "execution_count": 3,
   "metadata": {},
   "outputs": [],
   "source": [
    "default_env = {\n",
    "    \"URL_OPEN-METEO\",\n",
    "}"
   ]
  },
  {
   "cell_type": "code",
   "execution_count": 4,
   "metadata": {},
   "outputs": [],
   "source": [
    "for env in default_env:\n",
    "    if env not in os.environ:\n",
    "        raise Exception(f\"Missing environment variable: {env}. Please add it to your ~/.env file\")"
   ]
  },
  {
   "cell_type": "markdown",
   "metadata": {},
   "source": [
    "Fetch historical Weather Forcast. The information has been fecthed from [here](https://open-meteo.com/en/docs#hourly=&daily=weather_code,temperature_2m_max,temperature_2m_min,apparent_temperature_max,apparent_temperature_min,sunrise,sunset,daylight_duration,uv_index_max,precipitation_sum,rain_sum,snowfall_sum,precipitation_hours,wind_speed_10m_max,shortwave_radiation_sum,et0_fao_evapotranspiration&start_date=2024-07-01&end_date=2024-07-09&time_mode=time_interval)"
   ]
  },
  {
   "cell_type": "code",
   "execution_count": 5,
   "metadata": {},
   "outputs": [],
   "source": [
    "# Setup the Open-Meteo API client with cache and retry on error\n",
    "cache_session = requests_cache.CachedSession('.cache', expire_after = 3600)\n",
    "retry_session = retry(cache_session, retries = 5, backoff_factor = 0.2)\n",
    "openmeteo = openmeteo_requests.Client(session = retry_session)"
   ]
  },
  {
   "cell_type": "markdown",
   "metadata": {},
   "source": [
    "#### Query for daily information"
   ]
  },
  {
   "cell_type": "code",
   "execution_count": 6,
   "metadata": {},
   "outputs": [],
   "source": [
    "\n",
    "# Make sure all required weather variables are listed here\n",
    "# The order of variables in hourly or daily is important to assign them correctly below\n",
    "params = {\n",
    "\t\"latitude\": 52.52,\n",
    "\t\"longitude\": 13.41,\n",
    "\t\"daily\": [\"weather_code\", \"temperature_2m_max\", \"temperature_2m_min\", \"apparent_temperature_max\", \"apparent_temperature_min\", \"sunrise\", \"sunset\", \"daylight_duration\", \"uv_index_max\", \"precipitation_sum\", \"rain_sum\", \"snowfall_sum\", \"precipitation_hours\", \"wind_speed_10m_max\", \"shortwave_radiation_sum\", \"et0_fao_evapotranspiration\"],\n",
    "\t\"start_date\": \"2024-07-01\",\n",
    "\t\"end_date\": \"2024-07-09\"\n",
    "}\n",
    "responses = openmeteo.weather_api(os.environ[\"URL_OPEN-METEO\"], params=params)"
   ]
  },
  {
   "cell_type": "code",
   "execution_count": 7,
   "metadata": {},
   "outputs": [
    {
     "name": "stdout",
     "output_type": "stream",
     "text": [
      "Coordinates 52.52000045776367°N 13.419998168945312°E\n",
      "Elevation 38.0 m asl\n",
      "Timezone None None\n",
      "Timezone difference to GMT+0 0 s\n"
     ]
    }
   ],
   "source": [
    "\n",
    "# Process first location. Add a for-loop for multiple locations or weather models\n",
    "response = responses[0]\n",
    "print(f\"Coordinates {response.Latitude()}°N {response.Longitude()}°E\")\n",
    "print(f\"Elevation {response.Elevation()} m asl\")\n",
    "print(f\"Timezone {response.Timezone()} {response.TimezoneAbbreviation()}\")\n",
    "print(f\"Timezone difference to GMT+0 {response.UtcOffsetSeconds()} s\")"
   ]
  },
  {
   "cell_type": "code",
   "execution_count": 8,
   "metadata": {},
   "outputs": [],
   "source": [
    "# Process daily data. The order of variables needs to be the same as requested.\n",
    "\n",
    "daily = response.Daily()\n",
    "daily_weather_code = daily.Variables(0).ValuesAsNumpy()\n",
    "daily_temperature_2m_max = daily.Variables(1).ValuesAsNumpy()\n",
    "daily_temperature_2m_min = daily.Variables(2).ValuesAsNumpy()\n",
    "#daily_apparent_temperature_max = daily.Variables(3).ValuesAsNumpy()\n",
    "#daily_apparent_temperature_min = daily.Variables(4).ValuesAsNumpy()\n",
    "#daily_sunrise = daily.Variables(5).ValuesAsNumpy()\n",
    "#daily_sunset = daily.Variables(6).ValuesAsNumpy()\n",
    "daily_daylight_duration = daily.Variables(7).ValuesAsNumpy()\n",
    "daily_uv_index_max = daily.Variables(8).ValuesAsNumpy()\n",
    "daily_precipitation_sum = daily.Variables(9).ValuesAsNumpy()\n",
    "daily_rain_sum = daily.Variables(10).ValuesAsNumpy()\n",
    "daily_snowfall_sum = daily.Variables(11).ValuesAsNumpy()\n",
    "daily_precipitation_hours = daily.Variables(12).ValuesAsNumpy()\n",
    "daily_wind_speed_10m_max = daily.Variables(13).ValuesAsNumpy()\n",
    "daily_shortwave_radiation_sum = daily.Variables(14).ValuesAsNumpy()\n",
    "daily_et0_fao_evapotranspiration = daily.Variables(15).ValuesAsNumpy()\n"
   ]
  },
  {
   "cell_type": "code",
   "execution_count": 31,
   "metadata": {},
   "outputs": [],
   "source": [
    "# Create a pandas DataFrame with the daily data\n",
    "daily_data = {\"date\": pd.date_range(\n",
    "\tstart = pd.to_datetime(daily.Time(), unit = \"s\", utc = True),\n",
    "\tend = pd.to_datetime(daily.TimeEnd(), unit = \"s\", utc = True),\n",
    "\tfreq = pd.Timedelta(seconds = daily.Interval()),\n",
    "\tinclusive = \"left\"\n",
    ")}\n",
    "\n",
    "#daily_data[\"weather_code\"] = daily_weather_code\n",
    "daily_data[\"temperature_2m_max\"] = daily_temperature_2m_max\n",
    "daily_data[\"temperature_2m_min\"] = daily_temperature_2m_min\n",
    "#daily_data[\"apparent_temperature_max\"] = daily_apparent_temperature_max\n",
    "#daily_data[\"apparent_temperature_min\"] = daily_apparent_temperature_min\n",
    "#daily_data[\"sunrise\"] = daily_sunrise\n",
    "#daily_data[\"sunset\"] = daily_sunset\n",
    "daily_data[\"daylight_duration\"] = daily_daylight_duration\n",
    "daily_data[\"uv_index_max\"] = daily_uv_index_max\n",
    "daily_data[\"precipitation_sum\"] = daily_precipitation_sum\n",
    "daily_data[\"rain_sum\"] = daily_rain_sum\n",
    "daily_data[\"snowfall_sum\"] = daily_snowfall_sum\n",
    "daily_data[\"precipitation_hours\"] = daily_precipitation_hours\n",
    "daily_data[\"wind_speed_10m_max\"] = daily_wind_speed_10m_max\n",
    "daily_data[\"shortwave_radiation_sum\"] = daily_shortwave_radiation_sum\n",
    "daily_data[\"et0_fao_evapotranspiration\"] = daily_et0_fao_evapotranspiration\n",
    "\n",
    "\n",
    "daily_data = pd.DataFrame(data = daily_data)"
   ]
  },
  {
   "cell_type": "code",
   "execution_count": 10,
   "metadata": {},
   "outputs": [
    {
     "data": {
      "text/html": [
       "<div>\n",
       "<style scoped>\n",
       "    .dataframe tbody tr th:only-of-type {\n",
       "        vertical-align: middle;\n",
       "    }\n",
       "\n",
       "    .dataframe tbody tr th {\n",
       "        vertical-align: top;\n",
       "    }\n",
       "\n",
       "    .dataframe thead th {\n",
       "        text-align: right;\n",
       "    }\n",
       "</style>\n",
       "<table border=\"1\" class=\"dataframe\">\n",
       "  <thead>\n",
       "    <tr style=\"text-align: right;\">\n",
       "      <th></th>\n",
       "      <th>date</th>\n",
       "      <th>temperature_2m_max</th>\n",
       "      <th>temperature_2m_min</th>\n",
       "      <th>daylight_duration</th>\n",
       "      <th>uv_index_max</th>\n",
       "      <th>precipitation_sum</th>\n",
       "      <th>rain_sum</th>\n",
       "      <th>snowfall_sum</th>\n",
       "      <th>precipitation_hours</th>\n",
       "      <th>wind_speed_10m_max</th>\n",
       "      <th>shortwave_radiation_sum</th>\n",
       "      <th>et0_fao_evapotranspiration</th>\n",
       "    </tr>\n",
       "  </thead>\n",
       "  <tbody>\n",
       "    <tr>\n",
       "      <th>0</th>\n",
       "      <td>2024-07-01 00:00:00+00:00</td>\n",
       "      <td>19.995501</td>\n",
       "      <td>14.345500</td>\n",
       "      <td>60238.945312</td>\n",
       "      <td>5.45</td>\n",
       "      <td>5.0</td>\n",
       "      <td>4.5</td>\n",
       "      <td>0.0</td>\n",
       "      <td>6.0</td>\n",
       "      <td>15.077082</td>\n",
       "      <td>10.270000</td>\n",
       "      <td>2.063751</td>\n",
       "    </tr>\n",
       "    <tr>\n",
       "      <th>1</th>\n",
       "      <td>2024-07-02 00:00:00+00:00</td>\n",
       "      <td>17.295500</td>\n",
       "      <td>13.045500</td>\n",
       "      <td>60169.015625</td>\n",
       "      <td>3.95</td>\n",
       "      <td>1.4</td>\n",
       "      <td>1.4</td>\n",
       "      <td>0.0</td>\n",
       "      <td>6.0</td>\n",
       "      <td>16.171976</td>\n",
       "      <td>8.470000</td>\n",
       "      <td>1.728294</td>\n",
       "    </tr>\n",
       "    <tr>\n",
       "      <th>2</th>\n",
       "      <td>2024-07-03 00:00:00+00:00</td>\n",
       "      <td>17.345499</td>\n",
       "      <td>12.645500</td>\n",
       "      <td>60093.476562</td>\n",
       "      <td>5.35</td>\n",
       "      <td>0.0</td>\n",
       "      <td>0.0</td>\n",
       "      <td>0.0</td>\n",
       "      <td>0.0</td>\n",
       "      <td>12.287555</td>\n",
       "      <td>12.530000</td>\n",
       "      <td>2.457802</td>\n",
       "    </tr>\n",
       "    <tr>\n",
       "      <th>3</th>\n",
       "      <td>2024-07-04 00:00:00+00:00</td>\n",
       "      <td>18.895500</td>\n",
       "      <td>12.445499</td>\n",
       "      <td>60012.460938</td>\n",
       "      <td>4.35</td>\n",
       "      <td>2.8</td>\n",
       "      <td>2.7</td>\n",
       "      <td>0.0</td>\n",
       "      <td>6.0</td>\n",
       "      <td>20.380579</td>\n",
       "      <td>13.180000</td>\n",
       "      <td>2.446703</td>\n",
       "    </tr>\n",
       "    <tr>\n",
       "      <th>4</th>\n",
       "      <td>2024-07-05 00:00:00+00:00</td>\n",
       "      <td>21.395500</td>\n",
       "      <td>10.795500</td>\n",
       "      <td>59926.093750</td>\n",
       "      <td>5.75</td>\n",
       "      <td>0.0</td>\n",
       "      <td>0.0</td>\n",
       "      <td>0.0</td>\n",
       "      <td>0.0</td>\n",
       "      <td>17.906157</td>\n",
       "      <td>19.959999</td>\n",
       "      <td>4.121593</td>\n",
       "    </tr>\n",
       "  </tbody>\n",
       "</table>\n",
       "</div>"
      ],
      "text/plain": [
       "                       date  temperature_2m_max  temperature_2m_min  \\\n",
       "0 2024-07-01 00:00:00+00:00           19.995501           14.345500   \n",
       "1 2024-07-02 00:00:00+00:00           17.295500           13.045500   \n",
       "2 2024-07-03 00:00:00+00:00           17.345499           12.645500   \n",
       "3 2024-07-04 00:00:00+00:00           18.895500           12.445499   \n",
       "4 2024-07-05 00:00:00+00:00           21.395500           10.795500   \n",
       "\n",
       "   daylight_duration  uv_index_max  precipitation_sum  rain_sum  snowfall_sum  \\\n",
       "0       60238.945312          5.45                5.0       4.5           0.0   \n",
       "1       60169.015625          3.95                1.4       1.4           0.0   \n",
       "2       60093.476562          5.35                0.0       0.0           0.0   \n",
       "3       60012.460938          4.35                2.8       2.7           0.0   \n",
       "4       59926.093750          5.75                0.0       0.0           0.0   \n",
       "\n",
       "   precipitation_hours  wind_speed_10m_max  shortwave_radiation_sum  \\\n",
       "0                  6.0           15.077082                10.270000   \n",
       "1                  6.0           16.171976                 8.470000   \n",
       "2                  0.0           12.287555                12.530000   \n",
       "3                  6.0           20.380579                13.180000   \n",
       "4                  0.0           17.906157                19.959999   \n",
       "\n",
       "   et0_fao_evapotranspiration  \n",
       "0                    2.063751  \n",
       "1                    1.728294  \n",
       "2                    2.457802  \n",
       "3                    2.446703  \n",
       "4                    4.121593  "
      ]
     },
     "execution_count": 10,
     "metadata": {},
     "output_type": "execute_result"
    }
   ],
   "source": [
    "daily_data.head()"
   ]
  },
  {
   "cell_type": "code",
   "execution_count": 64,
   "metadata": {},
   "outputs": [
    {
     "data": {
      "application/vnd.plotly.v1+json": {
       "config": {
        "plotlyServerURL": "https://plot.ly"
       },
       "data": [
        {
         "hoverinfo": "x+y",
         "hovertemplate": "Date: %{x}<br>MaxTemperature: %{y}°C<extra></extra>",
         "line": {
          "color": "red",
          "width": 4
         },
         "mode": "lines+markers",
         "name": "Max Temperature",
         "showlegend": true,
         "type": "scatter",
         "x": [
          "2024-07-01T00:00:00+00:00",
          "2024-07-02T00:00:00+00:00",
          "2024-07-03T00:00:00+00:00",
          "2024-07-04T00:00:00+00:00",
          "2024-07-05T00:00:00+00:00",
          "2024-07-06T00:00:00+00:00",
          "2024-07-07T00:00:00+00:00",
          "2024-07-08T00:00:00+00:00",
          "2024-07-09T00:00:00+00:00"
         ],
         "xaxis": "x",
         "y": [
          20,
          17.299999237060547,
          17.350000381469727,
          18.899999618530273,
          21.399999618530273,
          31.100000381469727,
          22.600000381469727,
          26.200000762939453,
          31.100000381469727
         ],
         "yaxis": "y"
        },
        {
         "hoverinfo": "x+y",
         "hovertemplate": "Date: %{x}<br>Min Temperature: %{y}°C<extra></extra>",
         "line": {
          "color": "blue",
          "width": 4
         },
         "mode": "lines+markers",
         "name": "Min Temperature",
         "showlegend": true,
         "type": "scatter",
         "x": [
          "2024-07-01T00:00:00+00:00",
          "2024-07-02T00:00:00+00:00",
          "2024-07-03T00:00:00+00:00",
          "2024-07-04T00:00:00+00:00",
          "2024-07-05T00:00:00+00:00",
          "2024-07-06T00:00:00+00:00",
          "2024-07-07T00:00:00+00:00",
          "2024-07-08T00:00:00+00:00",
          "2024-07-09T00:00:00+00:00"
         ],
         "xaxis": "x",
         "y": [
          14.350000381469727,
          13.050000190734863,
          12.649999618530273,
          12.449999809265137,
          10.800000190734863,
          14.649999618530273,
          15.149999618530273,
          12.899999618530273,
          17.600000381469727
         ],
         "yaxis": "y"
        },
        {
         "hoverinfo": "x+y",
         "hovertemplate": "Date: %{x}<br>Precipitation: %{y}mm<extra></extra>",
         "line": {
          "color": "brown",
          "width": 4
         },
         "mode": "lines+markers",
         "name": "Precipitation Sum",
         "type": "scatter",
         "x": [
          "2024-07-01T00:00:00+00:00",
          "2024-07-02T00:00:00+00:00",
          "2024-07-03T00:00:00+00:00",
          "2024-07-04T00:00:00+00:00",
          "2024-07-05T00:00:00+00:00",
          "2024-07-06T00:00:00+00:00",
          "2024-07-07T00:00:00+00:00",
          "2024-07-08T00:00:00+00:00",
          "2024-07-09T00:00:00+00:00"
         ],
         "xaxis": "x2",
         "y": [
          4.999999523162842,
          1.4000000953674316,
          0,
          2.8000001907348633,
          0,
          0.9000000357627869,
          0,
          0,
          0
         ],
         "yaxis": "y2"
        },
        {
         "hoverinfo": "x+y",
         "hovertemplate": "Date: %{x}<br>Wind Speed: %{y}Km/h<extra></extra>",
         "line": {
          "color": "green",
          "width": 4
         },
         "mode": "lines+markers",
         "name": "Wind Speed Max (10m)",
         "type": "scatter",
         "x": [
          "2024-07-01T00:00:00+00:00",
          "2024-07-02T00:00:00+00:00",
          "2024-07-03T00:00:00+00:00",
          "2024-07-04T00:00:00+00:00",
          "2024-07-05T00:00:00+00:00",
          "2024-07-06T00:00:00+00:00",
          "2024-07-07T00:00:00+00:00",
          "2024-07-08T00:00:00+00:00",
          "2024-07-09T00:00:00+00:00"
         ],
         "xaxis": "x3",
         "y": [
          15.079999923706055,
          16.170000076293945,
          12.289999961853027,
          20.3799991607666,
          17.90999984741211,
          31.450000762939453,
          15.630000114440918,
          12.680000305175781,
          12.960000038146973
         ],
         "yaxis": "y3"
        }
       ],
       "layout": {
        "height": 1000,
        "template": {
         "data": {
          "bar": [
           {
            "error_x": {
             "color": "#2a3f5f"
            },
            "error_y": {
             "color": "#2a3f5f"
            },
            "marker": {
             "line": {
              "color": "#E5ECF6",
              "width": 0.5
             },
             "pattern": {
              "fillmode": "overlay",
              "size": 10,
              "solidity": 0.2
             }
            },
            "type": "bar"
           }
          ],
          "barpolar": [
           {
            "marker": {
             "line": {
              "color": "#E5ECF6",
              "width": 0.5
             },
             "pattern": {
              "fillmode": "overlay",
              "size": 10,
              "solidity": 0.2
             }
            },
            "type": "barpolar"
           }
          ],
          "carpet": [
           {
            "aaxis": {
             "endlinecolor": "#2a3f5f",
             "gridcolor": "white",
             "linecolor": "white",
             "minorgridcolor": "white",
             "startlinecolor": "#2a3f5f"
            },
            "baxis": {
             "endlinecolor": "#2a3f5f",
             "gridcolor": "white",
             "linecolor": "white",
             "minorgridcolor": "white",
             "startlinecolor": "#2a3f5f"
            },
            "type": "carpet"
           }
          ],
          "choropleth": [
           {
            "colorbar": {
             "outlinewidth": 0,
             "ticks": ""
            },
            "type": "choropleth"
           }
          ],
          "contour": [
           {
            "colorbar": {
             "outlinewidth": 0,
             "ticks": ""
            },
            "colorscale": [
             [
              0,
              "#0d0887"
             ],
             [
              0.1111111111111111,
              "#46039f"
             ],
             [
              0.2222222222222222,
              "#7201a8"
             ],
             [
              0.3333333333333333,
              "#9c179e"
             ],
             [
              0.4444444444444444,
              "#bd3786"
             ],
             [
              0.5555555555555556,
              "#d8576b"
             ],
             [
              0.6666666666666666,
              "#ed7953"
             ],
             [
              0.7777777777777778,
              "#fb9f3a"
             ],
             [
              0.8888888888888888,
              "#fdca26"
             ],
             [
              1,
              "#f0f921"
             ]
            ],
            "type": "contour"
           }
          ],
          "contourcarpet": [
           {
            "colorbar": {
             "outlinewidth": 0,
             "ticks": ""
            },
            "type": "contourcarpet"
           }
          ],
          "heatmap": [
           {
            "colorbar": {
             "outlinewidth": 0,
             "ticks": ""
            },
            "colorscale": [
             [
              0,
              "#0d0887"
             ],
             [
              0.1111111111111111,
              "#46039f"
             ],
             [
              0.2222222222222222,
              "#7201a8"
             ],
             [
              0.3333333333333333,
              "#9c179e"
             ],
             [
              0.4444444444444444,
              "#bd3786"
             ],
             [
              0.5555555555555556,
              "#d8576b"
             ],
             [
              0.6666666666666666,
              "#ed7953"
             ],
             [
              0.7777777777777778,
              "#fb9f3a"
             ],
             [
              0.8888888888888888,
              "#fdca26"
             ],
             [
              1,
              "#f0f921"
             ]
            ],
            "type": "heatmap"
           }
          ],
          "heatmapgl": [
           {
            "colorbar": {
             "outlinewidth": 0,
             "ticks": ""
            },
            "colorscale": [
             [
              0,
              "#0d0887"
             ],
             [
              0.1111111111111111,
              "#46039f"
             ],
             [
              0.2222222222222222,
              "#7201a8"
             ],
             [
              0.3333333333333333,
              "#9c179e"
             ],
             [
              0.4444444444444444,
              "#bd3786"
             ],
             [
              0.5555555555555556,
              "#d8576b"
             ],
             [
              0.6666666666666666,
              "#ed7953"
             ],
             [
              0.7777777777777778,
              "#fb9f3a"
             ],
             [
              0.8888888888888888,
              "#fdca26"
             ],
             [
              1,
              "#f0f921"
             ]
            ],
            "type": "heatmapgl"
           }
          ],
          "histogram": [
           {
            "marker": {
             "pattern": {
              "fillmode": "overlay",
              "size": 10,
              "solidity": 0.2
             }
            },
            "type": "histogram"
           }
          ],
          "histogram2d": [
           {
            "colorbar": {
             "outlinewidth": 0,
             "ticks": ""
            },
            "colorscale": [
             [
              0,
              "#0d0887"
             ],
             [
              0.1111111111111111,
              "#46039f"
             ],
             [
              0.2222222222222222,
              "#7201a8"
             ],
             [
              0.3333333333333333,
              "#9c179e"
             ],
             [
              0.4444444444444444,
              "#bd3786"
             ],
             [
              0.5555555555555556,
              "#d8576b"
             ],
             [
              0.6666666666666666,
              "#ed7953"
             ],
             [
              0.7777777777777778,
              "#fb9f3a"
             ],
             [
              0.8888888888888888,
              "#fdca26"
             ],
             [
              1,
              "#f0f921"
             ]
            ],
            "type": "histogram2d"
           }
          ],
          "histogram2dcontour": [
           {
            "colorbar": {
             "outlinewidth": 0,
             "ticks": ""
            },
            "colorscale": [
             [
              0,
              "#0d0887"
             ],
             [
              0.1111111111111111,
              "#46039f"
             ],
             [
              0.2222222222222222,
              "#7201a8"
             ],
             [
              0.3333333333333333,
              "#9c179e"
             ],
             [
              0.4444444444444444,
              "#bd3786"
             ],
             [
              0.5555555555555556,
              "#d8576b"
             ],
             [
              0.6666666666666666,
              "#ed7953"
             ],
             [
              0.7777777777777778,
              "#fb9f3a"
             ],
             [
              0.8888888888888888,
              "#fdca26"
             ],
             [
              1,
              "#f0f921"
             ]
            ],
            "type": "histogram2dcontour"
           }
          ],
          "mesh3d": [
           {
            "colorbar": {
             "outlinewidth": 0,
             "ticks": ""
            },
            "type": "mesh3d"
           }
          ],
          "parcoords": [
           {
            "line": {
             "colorbar": {
              "outlinewidth": 0,
              "ticks": ""
             }
            },
            "type": "parcoords"
           }
          ],
          "pie": [
           {
            "automargin": true,
            "type": "pie"
           }
          ],
          "scatter": [
           {
            "fillpattern": {
             "fillmode": "overlay",
             "size": 10,
             "solidity": 0.2
            },
            "type": "scatter"
           }
          ],
          "scatter3d": [
           {
            "line": {
             "colorbar": {
              "outlinewidth": 0,
              "ticks": ""
             }
            },
            "marker": {
             "colorbar": {
              "outlinewidth": 0,
              "ticks": ""
             }
            },
            "type": "scatter3d"
           }
          ],
          "scattercarpet": [
           {
            "marker": {
             "colorbar": {
              "outlinewidth": 0,
              "ticks": ""
             }
            },
            "type": "scattercarpet"
           }
          ],
          "scattergeo": [
           {
            "marker": {
             "colorbar": {
              "outlinewidth": 0,
              "ticks": ""
             }
            },
            "type": "scattergeo"
           }
          ],
          "scattergl": [
           {
            "marker": {
             "colorbar": {
              "outlinewidth": 0,
              "ticks": ""
             }
            },
            "type": "scattergl"
           }
          ],
          "scattermapbox": [
           {
            "marker": {
             "colorbar": {
              "outlinewidth": 0,
              "ticks": ""
             }
            },
            "type": "scattermapbox"
           }
          ],
          "scatterpolar": [
           {
            "marker": {
             "colorbar": {
              "outlinewidth": 0,
              "ticks": ""
             }
            },
            "type": "scatterpolar"
           }
          ],
          "scatterpolargl": [
           {
            "marker": {
             "colorbar": {
              "outlinewidth": 0,
              "ticks": ""
             }
            },
            "type": "scatterpolargl"
           }
          ],
          "scatterternary": [
           {
            "marker": {
             "colorbar": {
              "outlinewidth": 0,
              "ticks": ""
             }
            },
            "type": "scatterternary"
           }
          ],
          "surface": [
           {
            "colorbar": {
             "outlinewidth": 0,
             "ticks": ""
            },
            "colorscale": [
             [
              0,
              "#0d0887"
             ],
             [
              0.1111111111111111,
              "#46039f"
             ],
             [
              0.2222222222222222,
              "#7201a8"
             ],
             [
              0.3333333333333333,
              "#9c179e"
             ],
             [
              0.4444444444444444,
              "#bd3786"
             ],
             [
              0.5555555555555556,
              "#d8576b"
             ],
             [
              0.6666666666666666,
              "#ed7953"
             ],
             [
              0.7777777777777778,
              "#fb9f3a"
             ],
             [
              0.8888888888888888,
              "#fdca26"
             ],
             [
              1,
              "#f0f921"
             ]
            ],
            "type": "surface"
           }
          ],
          "table": [
           {
            "cells": {
             "fill": {
              "color": "#EBF0F8"
             },
             "line": {
              "color": "white"
             }
            },
            "header": {
             "fill": {
              "color": "#C8D4E3"
             },
             "line": {
              "color": "white"
             }
            },
            "type": "table"
           }
          ]
         },
         "layout": {
          "annotationdefaults": {
           "arrowcolor": "#2a3f5f",
           "arrowhead": 0,
           "arrowwidth": 1
          },
          "autotypenumbers": "strict",
          "coloraxis": {
           "colorbar": {
            "outlinewidth": 0,
            "ticks": ""
           }
          },
          "colorscale": {
           "diverging": [
            [
             0,
             "#8e0152"
            ],
            [
             0.1,
             "#c51b7d"
            ],
            [
             0.2,
             "#de77ae"
            ],
            [
             0.3,
             "#f1b6da"
            ],
            [
             0.4,
             "#fde0ef"
            ],
            [
             0.5,
             "#f7f7f7"
            ],
            [
             0.6,
             "#e6f5d0"
            ],
            [
             0.7,
             "#b8e186"
            ],
            [
             0.8,
             "#7fbc41"
            ],
            [
             0.9,
             "#4d9221"
            ],
            [
             1,
             "#276419"
            ]
           ],
           "sequential": [
            [
             0,
             "#0d0887"
            ],
            [
             0.1111111111111111,
             "#46039f"
            ],
            [
             0.2222222222222222,
             "#7201a8"
            ],
            [
             0.3333333333333333,
             "#9c179e"
            ],
            [
             0.4444444444444444,
             "#bd3786"
            ],
            [
             0.5555555555555556,
             "#d8576b"
            ],
            [
             0.6666666666666666,
             "#ed7953"
            ],
            [
             0.7777777777777778,
             "#fb9f3a"
            ],
            [
             0.8888888888888888,
             "#fdca26"
            ],
            [
             1,
             "#f0f921"
            ]
           ],
           "sequentialminus": [
            [
             0,
             "#0d0887"
            ],
            [
             0.1111111111111111,
             "#46039f"
            ],
            [
             0.2222222222222222,
             "#7201a8"
            ],
            [
             0.3333333333333333,
             "#9c179e"
            ],
            [
             0.4444444444444444,
             "#bd3786"
            ],
            [
             0.5555555555555556,
             "#d8576b"
            ],
            [
             0.6666666666666666,
             "#ed7953"
            ],
            [
             0.7777777777777778,
             "#fb9f3a"
            ],
            [
             0.8888888888888888,
             "#fdca26"
            ],
            [
             1,
             "#f0f921"
            ]
           ]
          },
          "colorway": [
           "#636efa",
           "#EF553B",
           "#00cc96",
           "#ab63fa",
           "#FFA15A",
           "#19d3f3",
           "#FF6692",
           "#B6E880",
           "#FF97FF",
           "#FECB52"
          ],
          "font": {
           "color": "#2a3f5f"
          },
          "geo": {
           "bgcolor": "white",
           "lakecolor": "white",
           "landcolor": "#E5ECF6",
           "showlakes": true,
           "showland": true,
           "subunitcolor": "white"
          },
          "hoverlabel": {
           "align": "left"
          },
          "hovermode": "closest",
          "mapbox": {
           "style": "light"
          },
          "paper_bgcolor": "white",
          "plot_bgcolor": "#E5ECF6",
          "polar": {
           "angularaxis": {
            "gridcolor": "white",
            "linecolor": "white",
            "ticks": ""
           },
           "bgcolor": "#E5ECF6",
           "radialaxis": {
            "gridcolor": "white",
            "linecolor": "white",
            "ticks": ""
           }
          },
          "scene": {
           "xaxis": {
            "backgroundcolor": "#E5ECF6",
            "gridcolor": "white",
            "gridwidth": 2,
            "linecolor": "white",
            "showbackground": true,
            "ticks": "",
            "zerolinecolor": "white"
           },
           "yaxis": {
            "backgroundcolor": "#E5ECF6",
            "gridcolor": "white",
            "gridwidth": 2,
            "linecolor": "white",
            "showbackground": true,
            "ticks": "",
            "zerolinecolor": "white"
           },
           "zaxis": {
            "backgroundcolor": "#E5ECF6",
            "gridcolor": "white",
            "gridwidth": 2,
            "linecolor": "white",
            "showbackground": true,
            "ticks": "",
            "zerolinecolor": "white"
           }
          },
          "shapedefaults": {
           "line": {
            "color": "#2a3f5f"
           }
          },
          "ternary": {
           "aaxis": {
            "gridcolor": "white",
            "linecolor": "white",
            "ticks": ""
           },
           "baxis": {
            "gridcolor": "white",
            "linecolor": "white",
            "ticks": ""
           },
           "bgcolor": "#E5ECF6",
           "caxis": {
            "gridcolor": "white",
            "linecolor": "white",
            "ticks": ""
           }
          },
          "title": {
           "x": 0.05
          },
          "xaxis": {
           "automargin": true,
           "gridcolor": "white",
           "linecolor": "white",
           "ticks": "",
           "title": {
            "standoff": 15
           },
           "zerolinecolor": "white",
           "zerolinewidth": 2
          },
          "yaxis": {
           "automargin": true,
           "gridcolor": "white",
           "linecolor": "white",
           "ticks": "",
           "title": {
            "standoff": 15
           },
           "zerolinecolor": "white",
           "zerolinewidth": 2
          }
         }
        },
        "title": {
         "font": {
          "size": 30,
          "weight": "bold"
         },
         "text": "Weather Forecast Daily",
         "x": 0.5
        },
        "width": 1400,
        "xaxis": {
         "anchor": "y",
         "domain": [
          0,
          1
         ],
         "matches": "x3",
         "showticklabels": false
        },
        "xaxis2": {
         "anchor": "y2",
         "domain": [
          0,
          1
         ],
         "matches": "x3",
         "showticklabels": false
        },
        "xaxis3": {
         "anchor": "y3",
         "domain": [
          0,
          1
         ],
         "tickfont": {
          "size": 12,
          "weight": "bold"
         }
        },
        "yaxis": {
         "anchor": "x",
         "domain": [
          0.6733333333333333,
          1
         ],
         "tickfont": {
          "size": 12,
          "weight": "bold"
         },
         "title": {
          "font": {
           "size": 18,
           "weight": "bold"
          },
          "text": "Temperature Min & Max (°C)"
         }
        },
        "yaxis2": {
         "anchor": "x2",
         "domain": [
          0.33666666666666667,
          0.6633333333333333
         ],
         "tickfont": {
          "size": 12,
          "weight": "bold"
         },
         "title": {
          "font": {
           "size": 18,
           "weight": "bold"
          },
          "text": "Precipitations Sum (mm)"
         }
        },
        "yaxis3": {
         "anchor": "x3",
         "domain": [
          0,
          0.32666666666666666
         ],
         "tickfont": {
          "size": 12,
          "weight": "bold"
         },
         "title": {
          "font": {
           "size": 18,
           "weight": "bold"
          },
          "text": "Max Wind Speed (km/h)"
         }
        }
       }
      }
     },
     "metadata": {},
     "output_type": "display_data"
    }
   ],
   "source": [
    "fig = go.Figure()\n",
    "\n",
    "# Create a subplot layout: 4 rows, 1 column, shared x-axis\n",
    "fig = make_subplots(rows=3, cols=1, shared_xaxes=True, vertical_spacing=0.01)\n",
    "\n",
    "# Add the max temperature line with hover info\n",
    "fig.add_trace(go.Scatter(x=daily_data['date'], y=daily_data['temperature_2m_max'].round(2),\n",
    "                         mode='lines+markers',  # Added markers for better visibility on hover\n",
    "                         name='Max Temperature',\n",
    "                         line=dict(color='red', width=4),\n",
    "                         hoverinfo='x+y',  # Shows both date and temperature on hover\n",
    "                         hovertemplate='Date: %{x}<br>MaxTemperature: %{y}°C<extra></extra>',  # Custom hover text\n",
    "                         showlegend=True  # Show the legend\n",
    "                        ), row=1, col=1)\n",
    "\n",
    "# Add the min temperature line with hover info\n",
    "fig.add_trace(go.Scatter(x=daily_data['date'], y=daily_data['temperature_2m_min'].round(2),\n",
    "                         mode='lines+markers',  # Added markers for better visibility on hover\n",
    "                         name='Min Temperature',\n",
    "                         line=dict(color='blue', width=4),\n",
    "                         hoverinfo='x+y',  # Shows both date and temperature on hover\n",
    "                         hovertemplate='Date: %{x}<br>Min Temperature: %{y}°C<extra></extra>',  # Custom hover text\n",
    "                         showlegend=True  # Show the legend\n",
    "                        ), row=1, col=1)\n",
    "\n",
    "\n",
    "fig.add_trace(go.Scatter(x=daily_data['date'], y=daily_data['precipitation_sum'],\n",
    "                         mode='lines+markers',\n",
    "                         name='Precipitation Sum',\n",
    "                         line=dict(color='brown', width=4),\n",
    "                         hoverinfo='x+y',\n",
    "                         hovertemplate='Date: %{x}<br>Precipitation: %{y}mm<extra></extra>'),\n",
    "              row=2, col=1)\n",
    "\n",
    "fig.add_trace(go.Scatter(x=daily_data['date'], y=daily_data['wind_speed_10m_max'].round(2),\n",
    "                         mode='lines+markers',\n",
    "                         name='Wind Speed Max (10m)',\n",
    "                         line=dict(color='green', width=4),\n",
    "                         hoverinfo='x+y',\n",
    "                         hovertemplate='Date: %{x}<br>Wind Speed: %{y}Km/h<extra></extra>'),\n",
    "              row=3, col=1)\n",
    "\n",
    "# Update y-axes titles\n",
    "fig.update_yaxes(tickfont=dict(size=12, weight='bold'), title_text=\"Temperature Min & Max (°C)\", title_font=dict(size=18, weight='bold'), row=1, col=1)\n",
    "fig.update_yaxes(tickfont=dict(size=12, weight='bold'), title_text=\"Precipitations Sum (mm)\", title_font=dict(size=18, weight='bold'), row=2, col=1)\n",
    "fig.update_yaxes(tickfont=dict(size=12, weight='bold'), title_text=\"Max Wind Speed (km/h)\", title_font=dict(size=18, weight='bold'), row=3, col=1)\n",
    "fig.update_xaxes(tickfont=dict(size=12, weight='bold'), row=3, col=1)\n",
    "\n",
    "# Update layout (optional adjustments)\n",
    "fig.update_layout(height=1000, width=1400, title_text=\"Weather Forecast Daily\", title_font=dict(size=30, weight='bold'), title_x=0.5)\n",
    "\n",
    "# Show the plot\n",
    "fig.show()"
   ]
  },
  {
   "cell_type": "code",
   "execution_count": 65,
   "metadata": {},
   "outputs": [],
   "source": [
    "#fig.write_image(\"../images/weather_forecast_daily.png\")"
   ]
  },
  {
   "cell_type": "markdown",
   "metadata": {},
   "source": [
    "#### Query for hourly information "
   ]
  },
  {
   "cell_type": "code",
   "execution_count": 12,
   "metadata": {},
   "outputs": [
    {
     "name": "stdout",
     "output_type": "stream",
     "text": [
      "Coordinates 52.52000045776367°N 13.419998168945312°E\n",
      "Elevation 38.0 m asl\n",
      "Timezone None None\n",
      "Timezone difference to GMT+0 0 s\n"
     ]
    }
   ],
   "source": [
    "params = {\n",
    "\t\"latitude\": 52.52,\n",
    "\t\"longitude\": 13.41,\n",
    "\t\"hourly\": [\"temperature_2m\", \"relative_humidity_2m\", \"precipitation\", \"rain\", \"snowfall\", \"surface_pressure\", \"evapotranspiration\", \"et0_fao_evapotranspiration\", \"wind_speed_10m\", \"soil_temperature_0cm\", \"soil_temperature_6cm\", \"soil_moisture_0_to_1cm\", \"soil_moisture_1_to_3cm\", \"uv_index\"],\n",
    "\t\"start_date\": \"2024-07-01\",\n",
    "\t\"end_date\": \"2024-07-09\"\n",
    "}\n",
    "responses = openmeteo.weather_api(os.environ[\"URL_OPEN-METEO\"], params=params)\n",
    "\n",
    "# Process first location. Add a for-loop for multiple locations or weather models\n",
    "response = responses[0]\n",
    "print(f\"Coordinates {response.Latitude()}°N {response.Longitude()}°E\")\n",
    "print(f\"Elevation {response.Elevation()} m asl\")\n",
    "print(f\"Timezone {response.Timezone()} {response.TimezoneAbbreviation()}\")\n",
    "print(f\"Timezone difference to GMT+0 {response.UtcOffsetSeconds()} s\")\n"
   ]
  },
  {
   "cell_type": "code",
   "execution_count": 13,
   "metadata": {},
   "outputs": [],
   "source": [
    "\n",
    "# Process hourly data. The order of variables needs to be the same as requested.\n",
    "hourly = response.Hourly()\n",
    "hourly_temperature_2m = hourly.Variables(0).ValuesAsNumpy()\n",
    "hourly_relative_humidity_2m = hourly.Variables(1).ValuesAsNumpy()\n",
    "hourly_precipitation = hourly.Variables(2).ValuesAsNumpy()\n",
    "hourly_rain = hourly.Variables(3).ValuesAsNumpy()\n",
    "hourly_snowfall = hourly.Variables(4).ValuesAsNumpy()\n",
    "hourly_surface_pressure = hourly.Variables(5).ValuesAsNumpy()\n",
    "hourly_evapotranspiration = hourly.Variables(6).ValuesAsNumpy()\n",
    "hourly_et0_fao_evapotranspiration = hourly.Variables(7).ValuesAsNumpy()\n",
    "hourly_wind_speed_10m = hourly.Variables(8).ValuesAsNumpy()\n",
    "hourly_soil_temperature_0cm = hourly.Variables(9).ValuesAsNumpy()\n",
    "hourly_soil_temperature_6cm = hourly.Variables(10).ValuesAsNumpy()\n",
    "hourly_soil_moisture_0_to_1cm = hourly.Variables(11).ValuesAsNumpy()\n",
    "hourly_soil_moisture_1_to_3cm = hourly.Variables(12).ValuesAsNumpy()\n",
    "hourly_uv_index = hourly.Variables(13).ValuesAsNumpy()\n",
    "\n",
    "hourly_data = {\"date\": pd.date_range(\n",
    "\tstart = pd.to_datetime(hourly.Time(), unit = \"s\", utc = True),\n",
    "\tend = pd.to_datetime(hourly.TimeEnd(), unit = \"s\", utc = True),\n",
    "\tfreq = pd.Timedelta(seconds = hourly.Interval()),\n",
    "\tinclusive = \"left\"\n",
    ")}\n",
    "\n",
    "hourly_data[\"temperature_2m\"] = hourly_temperature_2m\n",
    "hourly_data[\"relative_humidity_2m\"] = hourly_relative_humidity_2m\n",
    "hourly_data[\"precipitation\"] = hourly_precipitation\n",
    "hourly_data[\"rain\"] = hourly_rain\n",
    "hourly_data[\"snowfall\"] = hourly_snowfall\n",
    "hourly_data[\"surface_pressure\"] = hourly_surface_pressure\n",
    "hourly_data[\"evapotranspiration\"] = hourly_evapotranspiration\n",
    "hourly_data[\"et0_fao_evapotranspiration\"] = hourly_et0_fao_evapotranspiration\n",
    "hourly_data[\"wind_speed_10m\"] = hourly_wind_speed_10m\n",
    "hourly_data[\"soil_temperature_0cm\"] = hourly_soil_temperature_0cm\n",
    "hourly_data[\"soil_temperature_6cm\"] = hourly_soil_temperature_6cm\n",
    "hourly_data[\"soil_moisture_0_to_1cm\"] = hourly_soil_moisture_0_to_1cm\n",
    "hourly_data[\"soil_moisture_1_to_3cm\"] = hourly_soil_moisture_1_to_3cm\n",
    "hourly_data[\"uv_index\"] = hourly_uv_index"
   ]
  },
  {
   "cell_type": "code",
   "execution_count": 14,
   "metadata": {},
   "outputs": [],
   "source": [
    "hourly_dataframe = pd.DataFrame(data = hourly_data)"
   ]
  },
  {
   "cell_type": "code",
   "execution_count": 61,
   "metadata": {},
   "outputs": [
    {
     "data": {
      "application/vnd.plotly.v1+json": {
       "config": {
        "plotlyServerURL": "https://plot.ly"
       },
       "data": [
        {
         "hoverinfo": "x+y",
         "hovertemplate": "Date: %{x}<br>Temperature: %{y}°C<extra></extra>",
         "line": {
          "color": "red",
          "width": 2
         },
         "mode": "lines+markers",
         "name": "Temperature",
         "type": "scatter",
         "x": [
          "2024-07-01T00:00:00+00:00",
          "2024-07-01T01:00:00+00:00",
          "2024-07-01T02:00:00+00:00",
          "2024-07-01T03:00:00+00:00",
          "2024-07-01T04:00:00+00:00",
          "2024-07-01T05:00:00+00:00",
          "2024-07-01T06:00:00+00:00",
          "2024-07-01T07:00:00+00:00",
          "2024-07-01T08:00:00+00:00",
          "2024-07-01T09:00:00+00:00",
          "2024-07-01T10:00:00+00:00",
          "2024-07-01T11:00:00+00:00",
          "2024-07-01T12:00:00+00:00",
          "2024-07-01T13:00:00+00:00",
          "2024-07-01T14:00:00+00:00",
          "2024-07-01T15:00:00+00:00",
          "2024-07-01T16:00:00+00:00",
          "2024-07-01T17:00:00+00:00",
          "2024-07-01T18:00:00+00:00",
          "2024-07-01T19:00:00+00:00",
          "2024-07-01T20:00:00+00:00",
          "2024-07-01T21:00:00+00:00",
          "2024-07-01T22:00:00+00:00",
          "2024-07-01T23:00:00+00:00",
          "2024-07-02T00:00:00+00:00",
          "2024-07-02T01:00:00+00:00",
          "2024-07-02T02:00:00+00:00",
          "2024-07-02T03:00:00+00:00",
          "2024-07-02T04:00:00+00:00",
          "2024-07-02T05:00:00+00:00",
          "2024-07-02T06:00:00+00:00",
          "2024-07-02T07:00:00+00:00",
          "2024-07-02T08:00:00+00:00",
          "2024-07-02T09:00:00+00:00",
          "2024-07-02T10:00:00+00:00",
          "2024-07-02T11:00:00+00:00",
          "2024-07-02T12:00:00+00:00",
          "2024-07-02T13:00:00+00:00",
          "2024-07-02T14:00:00+00:00",
          "2024-07-02T15:00:00+00:00",
          "2024-07-02T16:00:00+00:00",
          "2024-07-02T17:00:00+00:00",
          "2024-07-02T18:00:00+00:00",
          "2024-07-02T19:00:00+00:00",
          "2024-07-02T20:00:00+00:00",
          "2024-07-02T21:00:00+00:00",
          "2024-07-02T22:00:00+00:00",
          "2024-07-02T23:00:00+00:00",
          "2024-07-03T00:00:00+00:00",
          "2024-07-03T01:00:00+00:00",
          "2024-07-03T02:00:00+00:00",
          "2024-07-03T03:00:00+00:00",
          "2024-07-03T04:00:00+00:00",
          "2024-07-03T05:00:00+00:00",
          "2024-07-03T06:00:00+00:00",
          "2024-07-03T07:00:00+00:00",
          "2024-07-03T08:00:00+00:00",
          "2024-07-03T09:00:00+00:00",
          "2024-07-03T10:00:00+00:00",
          "2024-07-03T11:00:00+00:00",
          "2024-07-03T12:00:00+00:00",
          "2024-07-03T13:00:00+00:00",
          "2024-07-03T14:00:00+00:00",
          "2024-07-03T15:00:00+00:00",
          "2024-07-03T16:00:00+00:00",
          "2024-07-03T17:00:00+00:00",
          "2024-07-03T18:00:00+00:00",
          "2024-07-03T19:00:00+00:00",
          "2024-07-03T20:00:00+00:00",
          "2024-07-03T21:00:00+00:00",
          "2024-07-03T22:00:00+00:00",
          "2024-07-03T23:00:00+00:00",
          "2024-07-04T00:00:00+00:00",
          "2024-07-04T01:00:00+00:00",
          "2024-07-04T02:00:00+00:00",
          "2024-07-04T03:00:00+00:00",
          "2024-07-04T04:00:00+00:00",
          "2024-07-04T05:00:00+00:00",
          "2024-07-04T06:00:00+00:00",
          "2024-07-04T07:00:00+00:00",
          "2024-07-04T08:00:00+00:00",
          "2024-07-04T09:00:00+00:00",
          "2024-07-04T10:00:00+00:00",
          "2024-07-04T11:00:00+00:00",
          "2024-07-04T12:00:00+00:00",
          "2024-07-04T13:00:00+00:00",
          "2024-07-04T14:00:00+00:00",
          "2024-07-04T15:00:00+00:00",
          "2024-07-04T16:00:00+00:00",
          "2024-07-04T17:00:00+00:00",
          "2024-07-04T18:00:00+00:00",
          "2024-07-04T19:00:00+00:00",
          "2024-07-04T20:00:00+00:00",
          "2024-07-04T21:00:00+00:00",
          "2024-07-04T22:00:00+00:00",
          "2024-07-04T23:00:00+00:00",
          "2024-07-05T00:00:00+00:00",
          "2024-07-05T01:00:00+00:00",
          "2024-07-05T02:00:00+00:00",
          "2024-07-05T03:00:00+00:00",
          "2024-07-05T04:00:00+00:00",
          "2024-07-05T05:00:00+00:00",
          "2024-07-05T06:00:00+00:00",
          "2024-07-05T07:00:00+00:00",
          "2024-07-05T08:00:00+00:00",
          "2024-07-05T09:00:00+00:00",
          "2024-07-05T10:00:00+00:00",
          "2024-07-05T11:00:00+00:00",
          "2024-07-05T12:00:00+00:00",
          "2024-07-05T13:00:00+00:00",
          "2024-07-05T14:00:00+00:00",
          "2024-07-05T15:00:00+00:00",
          "2024-07-05T16:00:00+00:00",
          "2024-07-05T17:00:00+00:00",
          "2024-07-05T18:00:00+00:00",
          "2024-07-05T19:00:00+00:00",
          "2024-07-05T20:00:00+00:00",
          "2024-07-05T21:00:00+00:00",
          "2024-07-05T22:00:00+00:00",
          "2024-07-05T23:00:00+00:00",
          "2024-07-06T00:00:00+00:00",
          "2024-07-06T01:00:00+00:00",
          "2024-07-06T02:00:00+00:00",
          "2024-07-06T03:00:00+00:00",
          "2024-07-06T04:00:00+00:00",
          "2024-07-06T05:00:00+00:00",
          "2024-07-06T06:00:00+00:00",
          "2024-07-06T07:00:00+00:00",
          "2024-07-06T08:00:00+00:00",
          "2024-07-06T09:00:00+00:00",
          "2024-07-06T10:00:00+00:00",
          "2024-07-06T11:00:00+00:00",
          "2024-07-06T12:00:00+00:00",
          "2024-07-06T13:00:00+00:00",
          "2024-07-06T14:00:00+00:00",
          "2024-07-06T15:00:00+00:00",
          "2024-07-06T16:00:00+00:00",
          "2024-07-06T17:00:00+00:00",
          "2024-07-06T18:00:00+00:00",
          "2024-07-06T19:00:00+00:00",
          "2024-07-06T20:00:00+00:00",
          "2024-07-06T21:00:00+00:00",
          "2024-07-06T22:00:00+00:00",
          "2024-07-06T23:00:00+00:00",
          "2024-07-07T00:00:00+00:00",
          "2024-07-07T01:00:00+00:00",
          "2024-07-07T02:00:00+00:00",
          "2024-07-07T03:00:00+00:00",
          "2024-07-07T04:00:00+00:00",
          "2024-07-07T05:00:00+00:00",
          "2024-07-07T06:00:00+00:00",
          "2024-07-07T07:00:00+00:00",
          "2024-07-07T08:00:00+00:00",
          "2024-07-07T09:00:00+00:00",
          "2024-07-07T10:00:00+00:00",
          "2024-07-07T11:00:00+00:00",
          "2024-07-07T12:00:00+00:00",
          "2024-07-07T13:00:00+00:00",
          "2024-07-07T14:00:00+00:00",
          "2024-07-07T15:00:00+00:00",
          "2024-07-07T16:00:00+00:00",
          "2024-07-07T17:00:00+00:00",
          "2024-07-07T18:00:00+00:00",
          "2024-07-07T19:00:00+00:00",
          "2024-07-07T20:00:00+00:00",
          "2024-07-07T21:00:00+00:00",
          "2024-07-07T22:00:00+00:00",
          "2024-07-07T23:00:00+00:00",
          "2024-07-08T00:00:00+00:00",
          "2024-07-08T01:00:00+00:00",
          "2024-07-08T02:00:00+00:00",
          "2024-07-08T03:00:00+00:00",
          "2024-07-08T04:00:00+00:00",
          "2024-07-08T05:00:00+00:00",
          "2024-07-08T06:00:00+00:00",
          "2024-07-08T07:00:00+00:00",
          "2024-07-08T08:00:00+00:00",
          "2024-07-08T09:00:00+00:00",
          "2024-07-08T10:00:00+00:00",
          "2024-07-08T11:00:00+00:00",
          "2024-07-08T12:00:00+00:00",
          "2024-07-08T13:00:00+00:00",
          "2024-07-08T14:00:00+00:00",
          "2024-07-08T15:00:00+00:00",
          "2024-07-08T16:00:00+00:00",
          "2024-07-08T17:00:00+00:00",
          "2024-07-08T18:00:00+00:00",
          "2024-07-08T19:00:00+00:00",
          "2024-07-08T20:00:00+00:00",
          "2024-07-08T21:00:00+00:00",
          "2024-07-08T22:00:00+00:00",
          "2024-07-08T23:00:00+00:00",
          "2024-07-09T00:00:00+00:00",
          "2024-07-09T01:00:00+00:00",
          "2024-07-09T02:00:00+00:00",
          "2024-07-09T03:00:00+00:00",
          "2024-07-09T04:00:00+00:00",
          "2024-07-09T05:00:00+00:00",
          "2024-07-09T06:00:00+00:00",
          "2024-07-09T07:00:00+00:00",
          "2024-07-09T08:00:00+00:00",
          "2024-07-09T09:00:00+00:00",
          "2024-07-09T10:00:00+00:00",
          "2024-07-09T11:00:00+00:00",
          "2024-07-09T12:00:00+00:00",
          "2024-07-09T13:00:00+00:00",
          "2024-07-09T14:00:00+00:00",
          "2024-07-09T15:00:00+00:00",
          "2024-07-09T16:00:00+00:00",
          "2024-07-09T17:00:00+00:00",
          "2024-07-09T18:00:00+00:00",
          "2024-07-09T19:00:00+00:00",
          "2024-07-09T20:00:00+00:00",
          "2024-07-09T21:00:00+00:00",
          "2024-07-09T22:00:00+00:00",
          "2024-07-09T23:00:00+00:00"
         ],
         "xaxis": "x",
         "y": [
          17.5,
          17.549999237060547,
          17.649999618530273,
          17.399999618530273,
          17.149999618530273,
          17.149999618530273,
          17.5,
          17.850000381469727,
          18.200000762939453,
          18.950000762939453,
          17.600000381469727,
          18.75,
          19.549999237060547,
          20,
          18.399999618530273,
          18.450000762939453,
          19.299999237060547,
          17,
          16.75,
          16.600000381469727,
          16.049999237060547,
          15.25,
          14.550000190734863,
          14.350000381469727,
          13.800000190734863,
          13.399999618530273,
          13.050000190734863,
          13.350000381469727,
          13.350000381469727,
          14,
          15.100000381469727,
          16.350000381469727,
          16.649999618530273,
          16.299999237060547,
          16.049999237060547,
          15.75,
          15.600000381469727,
          15.800000190734863,
          15.649999618530273,
          17.049999237060547,
          17.299999237060547,
          16.799999237060547,
          16.049999237060547,
          15.949999809265137,
          15.800000190734863,
          15.300000190734863,
          14.649999618530273,
          14.199999809265137,
          13.800000190734863,
          13.449999809265137,
          13,
          12.800000190734863,
          12.699999809265137,
          12.649999618530273,
          13.449999809265137,
          14.25,
          15,
          15.300000190734863,
          16.399999618530273,
          16.799999237060547,
          17.049999237060547,
          17.200000762939453,
          17.350000381469727,
          17.299999237060547,
          16.950000762939453,
          17.100000381469727,
          17.049999237060547,
          16.25,
          15.5,
          15.100000381469727,
          14.75,
          14.5,
          14.399999618530273,
          13.699999809265137,
          13.050000190734863,
          12.800000190734863,
          12.449999809265137,
          13.050000190734863,
          14.149999618530273,
          15.350000381469727,
          16.700000762939453,
          18.149999618530273,
          18.549999237060547,
          18.149999618530273,
          18.899999618530273,
          18.299999237060547,
          18.299999237060547,
          17.850000381469727,
          15.699999809265137,
          16.700000762939453,
          16.399999618530273,
          16.25,
          15.5,
          14.949999809265137,
          14.449999809265137,
          13.600000381469727,
          12.649999618530273,
          11.899999618530273,
          11.600000381469727,
          10.800000190734863,
          10.949999809265137,
          12.050000190734863,
          13.600000381469727,
          15.5,
          17.600000381469727,
          19.200000762939453,
          19.25,
          20.700000762939453,
          20.649999618530273,
          21.149999618530273,
          21.399999618530273,
          21.350000381469727,
          20.799999237060547,
          20.299999237060547,
          20.200000762939453,
          19.299999237060547,
          18.200000762939453,
          16.950000762939453,
          16.100000381469727,
          15.350000381469727,
          14.649999618530273,
          14.949999809265137,
          15,
          14.850000381469727,
          15.050000190734863,
          16.100000381469727,
          18.75,
          20.850000381469727,
          22.450000762939453,
          24.899999618530273,
          26.600000381469727,
          28.299999237060547,
          29.450000762939453,
          30.649999618530273,
          31.100000381469727,
          30,
          25.549999237060547,
          21.649999618530273,
          21.049999237060547,
          20.75,
          20.200000762939453,
          20.350000381469727,
          19.5,
          18.950000762939453,
          18,
          16.700000762939453,
          15.699999809265137,
          15.399999618530273,
          15.149999618530273,
          15.600000381469727,
          16.149999618530273,
          17.149999618530273,
          18.350000381469727,
          19.25,
          20.549999237060547,
          21.549999237060547,
          22.299999237060547,
          22.549999237060547,
          22.549999237060547,
          22.600000381469727,
          22.5,
          22.100000381469727,
          21.899999618530273,
          20.450000762939453,
          18.799999237060547,
          16.950000762939453,
          16.25,
          15.5,
          14.350000381469727,
          14.050000190734863,
          13.899999618530273,
          13.25,
          12.899999618530273,
          14.25,
          16.950000762939453,
          19.350000381469727,
          21.649999618530273,
          23.899999618530273,
          24.649999618530273,
          24.5,
          25.450000762939453,
          25.850000381469727,
          26.200000762939453,
          25.700000762939453,
          25.200000762939453,
          25.149999618530273,
          25.049999237060547,
          23.200000762939453,
          21.299999237060547,
          19.600000381469727,
          18.75,
          18.200000762939453,
          18.75,
          18.049999237060547,
          17.600000381469727,
          18.149999618530273,
          18.049999237060547,
          18.799999237060547,
          20.450000762939453,
          22.549999237060547,
          24.649999618530273,
          27.600000381469727,
          28.899999618530273,
          29.850000381469727,
          30.049999237060547,
          30.5,
          30.850000381469727,
          31.100000381469727,
          30.799999237060547,
          30.549999237060547,
          30.049999237060547,
          28.399999618530273,
          26.5,
          24.899999618530273,
          23.75,
          23.049999237060547
         ],
         "yaxis": "y"
        },
        {
         "hoverinfo": "x+y",
         "hovertemplate": "Date: %{x}<br>Humidity: %{y}%<extra></extra>",
         "line": {
          "color": "brown",
          "width": 2
         },
         "mode": "lines+markers",
         "name": "Humidity",
         "type": "scatter",
         "x": [
          "2024-07-01T00:00:00+00:00",
          "2024-07-01T01:00:00+00:00",
          "2024-07-01T02:00:00+00:00",
          "2024-07-01T03:00:00+00:00",
          "2024-07-01T04:00:00+00:00",
          "2024-07-01T05:00:00+00:00",
          "2024-07-01T06:00:00+00:00",
          "2024-07-01T07:00:00+00:00",
          "2024-07-01T08:00:00+00:00",
          "2024-07-01T09:00:00+00:00",
          "2024-07-01T10:00:00+00:00",
          "2024-07-01T11:00:00+00:00",
          "2024-07-01T12:00:00+00:00",
          "2024-07-01T13:00:00+00:00",
          "2024-07-01T14:00:00+00:00",
          "2024-07-01T15:00:00+00:00",
          "2024-07-01T16:00:00+00:00",
          "2024-07-01T17:00:00+00:00",
          "2024-07-01T18:00:00+00:00",
          "2024-07-01T19:00:00+00:00",
          "2024-07-01T20:00:00+00:00",
          "2024-07-01T21:00:00+00:00",
          "2024-07-01T22:00:00+00:00",
          "2024-07-01T23:00:00+00:00",
          "2024-07-02T00:00:00+00:00",
          "2024-07-02T01:00:00+00:00",
          "2024-07-02T02:00:00+00:00",
          "2024-07-02T03:00:00+00:00",
          "2024-07-02T04:00:00+00:00",
          "2024-07-02T05:00:00+00:00",
          "2024-07-02T06:00:00+00:00",
          "2024-07-02T07:00:00+00:00",
          "2024-07-02T08:00:00+00:00",
          "2024-07-02T09:00:00+00:00",
          "2024-07-02T10:00:00+00:00",
          "2024-07-02T11:00:00+00:00",
          "2024-07-02T12:00:00+00:00",
          "2024-07-02T13:00:00+00:00",
          "2024-07-02T14:00:00+00:00",
          "2024-07-02T15:00:00+00:00",
          "2024-07-02T16:00:00+00:00",
          "2024-07-02T17:00:00+00:00",
          "2024-07-02T18:00:00+00:00",
          "2024-07-02T19:00:00+00:00",
          "2024-07-02T20:00:00+00:00",
          "2024-07-02T21:00:00+00:00",
          "2024-07-02T22:00:00+00:00",
          "2024-07-02T23:00:00+00:00",
          "2024-07-03T00:00:00+00:00",
          "2024-07-03T01:00:00+00:00",
          "2024-07-03T02:00:00+00:00",
          "2024-07-03T03:00:00+00:00",
          "2024-07-03T04:00:00+00:00",
          "2024-07-03T05:00:00+00:00",
          "2024-07-03T06:00:00+00:00",
          "2024-07-03T07:00:00+00:00",
          "2024-07-03T08:00:00+00:00",
          "2024-07-03T09:00:00+00:00",
          "2024-07-03T10:00:00+00:00",
          "2024-07-03T11:00:00+00:00",
          "2024-07-03T12:00:00+00:00",
          "2024-07-03T13:00:00+00:00",
          "2024-07-03T14:00:00+00:00",
          "2024-07-03T15:00:00+00:00",
          "2024-07-03T16:00:00+00:00",
          "2024-07-03T17:00:00+00:00",
          "2024-07-03T18:00:00+00:00",
          "2024-07-03T19:00:00+00:00",
          "2024-07-03T20:00:00+00:00",
          "2024-07-03T21:00:00+00:00",
          "2024-07-03T22:00:00+00:00",
          "2024-07-03T23:00:00+00:00",
          "2024-07-04T00:00:00+00:00",
          "2024-07-04T01:00:00+00:00",
          "2024-07-04T02:00:00+00:00",
          "2024-07-04T03:00:00+00:00",
          "2024-07-04T04:00:00+00:00",
          "2024-07-04T05:00:00+00:00",
          "2024-07-04T06:00:00+00:00",
          "2024-07-04T07:00:00+00:00",
          "2024-07-04T08:00:00+00:00",
          "2024-07-04T09:00:00+00:00",
          "2024-07-04T10:00:00+00:00",
          "2024-07-04T11:00:00+00:00",
          "2024-07-04T12:00:00+00:00",
          "2024-07-04T13:00:00+00:00",
          "2024-07-04T14:00:00+00:00",
          "2024-07-04T15:00:00+00:00",
          "2024-07-04T16:00:00+00:00",
          "2024-07-04T17:00:00+00:00",
          "2024-07-04T18:00:00+00:00",
          "2024-07-04T19:00:00+00:00",
          "2024-07-04T20:00:00+00:00",
          "2024-07-04T21:00:00+00:00",
          "2024-07-04T22:00:00+00:00",
          "2024-07-04T23:00:00+00:00",
          "2024-07-05T00:00:00+00:00",
          "2024-07-05T01:00:00+00:00",
          "2024-07-05T02:00:00+00:00",
          "2024-07-05T03:00:00+00:00",
          "2024-07-05T04:00:00+00:00",
          "2024-07-05T05:00:00+00:00",
          "2024-07-05T06:00:00+00:00",
          "2024-07-05T07:00:00+00:00",
          "2024-07-05T08:00:00+00:00",
          "2024-07-05T09:00:00+00:00",
          "2024-07-05T10:00:00+00:00",
          "2024-07-05T11:00:00+00:00",
          "2024-07-05T12:00:00+00:00",
          "2024-07-05T13:00:00+00:00",
          "2024-07-05T14:00:00+00:00",
          "2024-07-05T15:00:00+00:00",
          "2024-07-05T16:00:00+00:00",
          "2024-07-05T17:00:00+00:00",
          "2024-07-05T18:00:00+00:00",
          "2024-07-05T19:00:00+00:00",
          "2024-07-05T20:00:00+00:00",
          "2024-07-05T21:00:00+00:00",
          "2024-07-05T22:00:00+00:00",
          "2024-07-05T23:00:00+00:00",
          "2024-07-06T00:00:00+00:00",
          "2024-07-06T01:00:00+00:00",
          "2024-07-06T02:00:00+00:00",
          "2024-07-06T03:00:00+00:00",
          "2024-07-06T04:00:00+00:00",
          "2024-07-06T05:00:00+00:00",
          "2024-07-06T06:00:00+00:00",
          "2024-07-06T07:00:00+00:00",
          "2024-07-06T08:00:00+00:00",
          "2024-07-06T09:00:00+00:00",
          "2024-07-06T10:00:00+00:00",
          "2024-07-06T11:00:00+00:00",
          "2024-07-06T12:00:00+00:00",
          "2024-07-06T13:00:00+00:00",
          "2024-07-06T14:00:00+00:00",
          "2024-07-06T15:00:00+00:00",
          "2024-07-06T16:00:00+00:00",
          "2024-07-06T17:00:00+00:00",
          "2024-07-06T18:00:00+00:00",
          "2024-07-06T19:00:00+00:00",
          "2024-07-06T20:00:00+00:00",
          "2024-07-06T21:00:00+00:00",
          "2024-07-06T22:00:00+00:00",
          "2024-07-06T23:00:00+00:00",
          "2024-07-07T00:00:00+00:00",
          "2024-07-07T01:00:00+00:00",
          "2024-07-07T02:00:00+00:00",
          "2024-07-07T03:00:00+00:00",
          "2024-07-07T04:00:00+00:00",
          "2024-07-07T05:00:00+00:00",
          "2024-07-07T06:00:00+00:00",
          "2024-07-07T07:00:00+00:00",
          "2024-07-07T08:00:00+00:00",
          "2024-07-07T09:00:00+00:00",
          "2024-07-07T10:00:00+00:00",
          "2024-07-07T11:00:00+00:00",
          "2024-07-07T12:00:00+00:00",
          "2024-07-07T13:00:00+00:00",
          "2024-07-07T14:00:00+00:00",
          "2024-07-07T15:00:00+00:00",
          "2024-07-07T16:00:00+00:00",
          "2024-07-07T17:00:00+00:00",
          "2024-07-07T18:00:00+00:00",
          "2024-07-07T19:00:00+00:00",
          "2024-07-07T20:00:00+00:00",
          "2024-07-07T21:00:00+00:00",
          "2024-07-07T22:00:00+00:00",
          "2024-07-07T23:00:00+00:00",
          "2024-07-08T00:00:00+00:00",
          "2024-07-08T01:00:00+00:00",
          "2024-07-08T02:00:00+00:00",
          "2024-07-08T03:00:00+00:00",
          "2024-07-08T04:00:00+00:00",
          "2024-07-08T05:00:00+00:00",
          "2024-07-08T06:00:00+00:00",
          "2024-07-08T07:00:00+00:00",
          "2024-07-08T08:00:00+00:00",
          "2024-07-08T09:00:00+00:00",
          "2024-07-08T10:00:00+00:00",
          "2024-07-08T11:00:00+00:00",
          "2024-07-08T12:00:00+00:00",
          "2024-07-08T13:00:00+00:00",
          "2024-07-08T14:00:00+00:00",
          "2024-07-08T15:00:00+00:00",
          "2024-07-08T16:00:00+00:00",
          "2024-07-08T17:00:00+00:00",
          "2024-07-08T18:00:00+00:00",
          "2024-07-08T19:00:00+00:00",
          "2024-07-08T20:00:00+00:00",
          "2024-07-08T21:00:00+00:00",
          "2024-07-08T22:00:00+00:00",
          "2024-07-08T23:00:00+00:00",
          "2024-07-09T00:00:00+00:00",
          "2024-07-09T01:00:00+00:00",
          "2024-07-09T02:00:00+00:00",
          "2024-07-09T03:00:00+00:00",
          "2024-07-09T04:00:00+00:00",
          "2024-07-09T05:00:00+00:00",
          "2024-07-09T06:00:00+00:00",
          "2024-07-09T07:00:00+00:00",
          "2024-07-09T08:00:00+00:00",
          "2024-07-09T09:00:00+00:00",
          "2024-07-09T10:00:00+00:00",
          "2024-07-09T11:00:00+00:00",
          "2024-07-09T12:00:00+00:00",
          "2024-07-09T13:00:00+00:00",
          "2024-07-09T14:00:00+00:00",
          "2024-07-09T15:00:00+00:00",
          "2024-07-09T16:00:00+00:00",
          "2024-07-09T17:00:00+00:00",
          "2024-07-09T18:00:00+00:00",
          "2024-07-09T19:00:00+00:00",
          "2024-07-09T20:00:00+00:00",
          "2024-07-09T21:00:00+00:00",
          "2024-07-09T22:00:00+00:00",
          "2024-07-09T23:00:00+00:00"
         ],
         "xaxis": "x2",
         "y": [
          91,
          91,
          92,
          91,
          89,
          86,
          83,
          79,
          77,
          71,
          82,
          77,
          73,
          68,
          82,
          79,
          69,
          77,
          82,
          80,
          80,
          86,
          84,
          85,
          87,
          90,
          90,
          89,
          90,
          87,
          80,
          72,
          70,
          73,
          74,
          77,
          84,
          82,
          81,
          79,
          77,
          75,
          83,
          85,
          86,
          86,
          83,
          87,
          82,
          85,
          86,
          87,
          87,
          87,
          82,
          77,
          72,
          66,
          59,
          56,
          56,
          61,
          59,
          52,
          57,
          58,
          55,
          63,
          70,
          74,
          78,
          77,
          76,
          77,
          81,
          85,
          85,
          82,
          81,
          72,
          67,
          58,
          58,
          61,
          63,
          68,
          70,
          70,
          82,
          77,
          79,
          83,
          89,
          94,
          81,
          79,
          84,
          85,
          86,
          90,
          88,
          81,
          75,
          66,
          55,
          38,
          41,
          36,
          35,
          33,
          33,
          37,
          40,
          44,
          45,
          51,
          58,
          68,
          71,
          73,
          80,
          78,
          79,
          82,
          83,
          80,
          70,
          65,
          57,
          46,
          42,
          39,
          39,
          31,
          30,
          35,
          55,
          80,
          82,
          83,
          85,
          72,
          68,
          60,
          56,
          68,
          61,
          60,
          67,
          63,
          56,
          54,
          52,
          45,
          39,
          36,
          35,
          33,
          32,
          27,
          21,
          28,
          30,
          32,
          44,
          59,
          62,
          64,
          72,
          72,
          73,
          77,
          81,
          76,
          57,
          48,
          44,
          35,
          31,
          30,
          28,
          28,
          28,
          28,
          31,
          32,
          31,
          45,
          50,
          65,
          67,
          67,
          64,
          67,
          69,
          66,
          66,
          63,
          55,
          48,
          43,
          37,
          33,
          31,
          32,
          33,
          27,
          31,
          35,
          34,
          34,
          39,
          43,
          59,
          64,
          67
         ],
         "yaxis": "y2"
        },
        {
         "hoverinfo": "x+y",
         "hovertemplate": "Date: %{x}<br>Wind Speed:%{y} Km/h <extra></extra>",
         "line": {
          "color": "green",
          "width": 2
         },
         "mode": "lines+markers",
         "name": "Wind Speed",
         "type": "scatter",
         "x": [
          "2024-07-01T00:00:00+00:00",
          "2024-07-01T01:00:00+00:00",
          "2024-07-01T02:00:00+00:00",
          "2024-07-01T03:00:00+00:00",
          "2024-07-01T04:00:00+00:00",
          "2024-07-01T05:00:00+00:00",
          "2024-07-01T06:00:00+00:00",
          "2024-07-01T07:00:00+00:00",
          "2024-07-01T08:00:00+00:00",
          "2024-07-01T09:00:00+00:00",
          "2024-07-01T10:00:00+00:00",
          "2024-07-01T11:00:00+00:00",
          "2024-07-01T12:00:00+00:00",
          "2024-07-01T13:00:00+00:00",
          "2024-07-01T14:00:00+00:00",
          "2024-07-01T15:00:00+00:00",
          "2024-07-01T16:00:00+00:00",
          "2024-07-01T17:00:00+00:00",
          "2024-07-01T18:00:00+00:00",
          "2024-07-01T19:00:00+00:00",
          "2024-07-01T20:00:00+00:00",
          "2024-07-01T21:00:00+00:00",
          "2024-07-01T22:00:00+00:00",
          "2024-07-01T23:00:00+00:00",
          "2024-07-02T00:00:00+00:00",
          "2024-07-02T01:00:00+00:00",
          "2024-07-02T02:00:00+00:00",
          "2024-07-02T03:00:00+00:00",
          "2024-07-02T04:00:00+00:00",
          "2024-07-02T05:00:00+00:00",
          "2024-07-02T06:00:00+00:00",
          "2024-07-02T07:00:00+00:00",
          "2024-07-02T08:00:00+00:00",
          "2024-07-02T09:00:00+00:00",
          "2024-07-02T10:00:00+00:00",
          "2024-07-02T11:00:00+00:00",
          "2024-07-02T12:00:00+00:00",
          "2024-07-02T13:00:00+00:00",
          "2024-07-02T14:00:00+00:00",
          "2024-07-02T15:00:00+00:00",
          "2024-07-02T16:00:00+00:00",
          "2024-07-02T17:00:00+00:00",
          "2024-07-02T18:00:00+00:00",
          "2024-07-02T19:00:00+00:00",
          "2024-07-02T20:00:00+00:00",
          "2024-07-02T21:00:00+00:00",
          "2024-07-02T22:00:00+00:00",
          "2024-07-02T23:00:00+00:00",
          "2024-07-03T00:00:00+00:00",
          "2024-07-03T01:00:00+00:00",
          "2024-07-03T02:00:00+00:00",
          "2024-07-03T03:00:00+00:00",
          "2024-07-03T04:00:00+00:00",
          "2024-07-03T05:00:00+00:00",
          "2024-07-03T06:00:00+00:00",
          "2024-07-03T07:00:00+00:00",
          "2024-07-03T08:00:00+00:00",
          "2024-07-03T09:00:00+00:00",
          "2024-07-03T10:00:00+00:00",
          "2024-07-03T11:00:00+00:00",
          "2024-07-03T12:00:00+00:00",
          "2024-07-03T13:00:00+00:00",
          "2024-07-03T14:00:00+00:00",
          "2024-07-03T15:00:00+00:00",
          "2024-07-03T16:00:00+00:00",
          "2024-07-03T17:00:00+00:00",
          "2024-07-03T18:00:00+00:00",
          "2024-07-03T19:00:00+00:00",
          "2024-07-03T20:00:00+00:00",
          "2024-07-03T21:00:00+00:00",
          "2024-07-03T22:00:00+00:00",
          "2024-07-03T23:00:00+00:00",
          "2024-07-04T00:00:00+00:00",
          "2024-07-04T01:00:00+00:00",
          "2024-07-04T02:00:00+00:00",
          "2024-07-04T03:00:00+00:00",
          "2024-07-04T04:00:00+00:00",
          "2024-07-04T05:00:00+00:00",
          "2024-07-04T06:00:00+00:00",
          "2024-07-04T07:00:00+00:00",
          "2024-07-04T08:00:00+00:00",
          "2024-07-04T09:00:00+00:00",
          "2024-07-04T10:00:00+00:00",
          "2024-07-04T11:00:00+00:00",
          "2024-07-04T12:00:00+00:00",
          "2024-07-04T13:00:00+00:00",
          "2024-07-04T14:00:00+00:00",
          "2024-07-04T15:00:00+00:00",
          "2024-07-04T16:00:00+00:00",
          "2024-07-04T17:00:00+00:00",
          "2024-07-04T18:00:00+00:00",
          "2024-07-04T19:00:00+00:00",
          "2024-07-04T20:00:00+00:00",
          "2024-07-04T21:00:00+00:00",
          "2024-07-04T22:00:00+00:00",
          "2024-07-04T23:00:00+00:00",
          "2024-07-05T00:00:00+00:00",
          "2024-07-05T01:00:00+00:00",
          "2024-07-05T02:00:00+00:00",
          "2024-07-05T03:00:00+00:00",
          "2024-07-05T04:00:00+00:00",
          "2024-07-05T05:00:00+00:00",
          "2024-07-05T06:00:00+00:00",
          "2024-07-05T07:00:00+00:00",
          "2024-07-05T08:00:00+00:00",
          "2024-07-05T09:00:00+00:00",
          "2024-07-05T10:00:00+00:00",
          "2024-07-05T11:00:00+00:00",
          "2024-07-05T12:00:00+00:00",
          "2024-07-05T13:00:00+00:00",
          "2024-07-05T14:00:00+00:00",
          "2024-07-05T15:00:00+00:00",
          "2024-07-05T16:00:00+00:00",
          "2024-07-05T17:00:00+00:00",
          "2024-07-05T18:00:00+00:00",
          "2024-07-05T19:00:00+00:00",
          "2024-07-05T20:00:00+00:00",
          "2024-07-05T21:00:00+00:00",
          "2024-07-05T22:00:00+00:00",
          "2024-07-05T23:00:00+00:00",
          "2024-07-06T00:00:00+00:00",
          "2024-07-06T01:00:00+00:00",
          "2024-07-06T02:00:00+00:00",
          "2024-07-06T03:00:00+00:00",
          "2024-07-06T04:00:00+00:00",
          "2024-07-06T05:00:00+00:00",
          "2024-07-06T06:00:00+00:00",
          "2024-07-06T07:00:00+00:00",
          "2024-07-06T08:00:00+00:00",
          "2024-07-06T09:00:00+00:00",
          "2024-07-06T10:00:00+00:00",
          "2024-07-06T11:00:00+00:00",
          "2024-07-06T12:00:00+00:00",
          "2024-07-06T13:00:00+00:00",
          "2024-07-06T14:00:00+00:00",
          "2024-07-06T15:00:00+00:00",
          "2024-07-06T16:00:00+00:00",
          "2024-07-06T17:00:00+00:00",
          "2024-07-06T18:00:00+00:00",
          "2024-07-06T19:00:00+00:00",
          "2024-07-06T20:00:00+00:00",
          "2024-07-06T21:00:00+00:00",
          "2024-07-06T22:00:00+00:00",
          "2024-07-06T23:00:00+00:00",
          "2024-07-07T00:00:00+00:00",
          "2024-07-07T01:00:00+00:00",
          "2024-07-07T02:00:00+00:00",
          "2024-07-07T03:00:00+00:00",
          "2024-07-07T04:00:00+00:00",
          "2024-07-07T05:00:00+00:00",
          "2024-07-07T06:00:00+00:00",
          "2024-07-07T07:00:00+00:00",
          "2024-07-07T08:00:00+00:00",
          "2024-07-07T09:00:00+00:00",
          "2024-07-07T10:00:00+00:00",
          "2024-07-07T11:00:00+00:00",
          "2024-07-07T12:00:00+00:00",
          "2024-07-07T13:00:00+00:00",
          "2024-07-07T14:00:00+00:00",
          "2024-07-07T15:00:00+00:00",
          "2024-07-07T16:00:00+00:00",
          "2024-07-07T17:00:00+00:00",
          "2024-07-07T18:00:00+00:00",
          "2024-07-07T19:00:00+00:00",
          "2024-07-07T20:00:00+00:00",
          "2024-07-07T21:00:00+00:00",
          "2024-07-07T22:00:00+00:00",
          "2024-07-07T23:00:00+00:00",
          "2024-07-08T00:00:00+00:00",
          "2024-07-08T01:00:00+00:00",
          "2024-07-08T02:00:00+00:00",
          "2024-07-08T03:00:00+00:00",
          "2024-07-08T04:00:00+00:00",
          "2024-07-08T05:00:00+00:00",
          "2024-07-08T06:00:00+00:00",
          "2024-07-08T07:00:00+00:00",
          "2024-07-08T08:00:00+00:00",
          "2024-07-08T09:00:00+00:00",
          "2024-07-08T10:00:00+00:00",
          "2024-07-08T11:00:00+00:00",
          "2024-07-08T12:00:00+00:00",
          "2024-07-08T13:00:00+00:00",
          "2024-07-08T14:00:00+00:00",
          "2024-07-08T15:00:00+00:00",
          "2024-07-08T16:00:00+00:00",
          "2024-07-08T17:00:00+00:00",
          "2024-07-08T18:00:00+00:00",
          "2024-07-08T19:00:00+00:00",
          "2024-07-08T20:00:00+00:00",
          "2024-07-08T21:00:00+00:00",
          "2024-07-08T22:00:00+00:00",
          "2024-07-08T23:00:00+00:00",
          "2024-07-09T00:00:00+00:00",
          "2024-07-09T01:00:00+00:00",
          "2024-07-09T02:00:00+00:00",
          "2024-07-09T03:00:00+00:00",
          "2024-07-09T04:00:00+00:00",
          "2024-07-09T05:00:00+00:00",
          "2024-07-09T06:00:00+00:00",
          "2024-07-09T07:00:00+00:00",
          "2024-07-09T08:00:00+00:00",
          "2024-07-09T09:00:00+00:00",
          "2024-07-09T10:00:00+00:00",
          "2024-07-09T11:00:00+00:00",
          "2024-07-09T12:00:00+00:00",
          "2024-07-09T13:00:00+00:00",
          "2024-07-09T14:00:00+00:00",
          "2024-07-09T15:00:00+00:00",
          "2024-07-09T16:00:00+00:00",
          "2024-07-09T17:00:00+00:00",
          "2024-07-09T18:00:00+00:00",
          "2024-07-09T19:00:00+00:00",
          "2024-07-09T20:00:00+00:00",
          "2024-07-09T21:00:00+00:00",
          "2024-07-09T22:00:00+00:00",
          "2024-07-09T23:00:00+00:00"
         ],
         "xaxis": "x3",
         "y": [
          7.929999828338623,
          7.769999980926514,
          9.470000267028809,
          10.460000038146973,
          9.390000343322754,
          9.029999732971191,
          8.760000228881836,
          7.210000038146973,
          7.699999809265137,
          6.489999771118164,
          3.9800000190734863,
          8.3100004196167,
          3.8299999237060547,
          7.929999828338623,
          10.819999694824219,
          9.779999732971191,
          11.65999984741211,
          15.079999923706055,
          10.09000015258789,
          12.260000228881836,
          9.029999732971191,
          10.039999961853027,
          12.300000190734863,
          11.180000305175781,
          11.789999961853027,
          11.010000228881836,
          10.180000305175781,
          10.239999771118164,
          8.670000076293945,
          12.960000038146973,
          13.399999618530273,
          14.350000381469727,
          16.170000076293945,
          15.479999542236328,
          16.040000915527344,
          13.359999656677246,
          13.569999694824219,
          14.800000190734863,
          14.40999984741211,
          14.149999618530273,
          14.5600004196167,
          14.399999618530273,
          9.829999923706055,
          8.760000228881836,
          10.539999961853027,
          12.779999732971191,
          13.010000228881836,
          10.140000343322754,
          11.619999885559082,
          11.369999885559082,
          11.529999732971191,
          10.460000038146973,
          10.5,
          11.569999694824219,
          11.170000076293945,
          11.529999732971191,
          11.880000114440918,
          9.75,
          12.289999961853027,
          11.4399995803833,
          9.420000076293945,
          9.180000305175781,
          10.140000343322754,
          10.039999961853027,
          7.210000038146973,
          5.820000171661377,
          6.110000133514404,
          5.150000095367432,
          5.090000152587891,
          4.389999866485596,
          4.900000095367432,
          5.820000171661377,
          6.849999904632568,
          5.769999980926514,
          4.019999980926514,
          5.050000190734863,
          6.920000076293945,
          7.96999979019165,
          10.239999771118164,
          14.510000228881836,
          14.989999771118164,
          18.790000915527344,
          19.639999389648438,
          20.3799991607666,
          16.799999237060547,
          15.479999542236328,
          13.050000190734863,
          13.079999923706055,
          8.09000015258789,
          7.630000114440918,
          6.619999885559082,
          5.349999904632568,
          5.690000057220459,
          3.319999933242798,
          6.150000095367432,
          6.639999866485596,
          5.940000057220459,
          5.320000171661377,
          5.800000190734863,
          4.099999904632568,
          3.7100000381469727,
          4.610000133514404,
          6.610000133514404,
          6.130000114440918,
          9.6899995803833,
          10.630000114440918,
          15.479999542236328,
          12.220000267028809,
          14.399999618530273,
          17.90999984741211,
          15.680000305175781,
          17.8700008392334,
          14.979999542236328,
          13.630000114440918,
          10.640000343322754,
          8.210000038146973,
          5.119999885559082,
          4.800000190734863,
          5.960000038146973,
          5.769999980926514,
          5.590000152587891,
          5.239999771118164,
          5.050000190734863,
          6.730000019073486,
          6.570000171661377,
          6.949999809265137,
          8.770000457763672,
          12.300000190734863,
          14.489999771118164,
          17.399999618530273,
          18.100000381469727,
          17.649999618530273,
          19.010000228881836,
          17.3700008392334,
          17.3799991607666,
          16.600000381469727,
          31.450000762939453,
          9.15999984741211,
          11.4399995803833,
          14.390000343322754,
          14.079999923706055,
          15.1899995803833,
          13.720000267028809,
          16.559999465942383,
          15.520000457763672,
          9.420000076293945,
          12.619999885559082,
          9.0600004196167,
          9.5,
          11.300000190734863,
          14.329999923706055,
          13.899999618530273,
          13.550000190734863,
          13.180000305175781,
          14.020000457763672,
          12.729999542236328,
          14.1899995803833,
          13.239999771118164,
          15.630000114440918,
          12.390000343322754,
          10.460000038146973,
          9.470000267028809,
          10.829999923706055,
          6.159999847412109,
          5.940000057220459,
          4.739999771118164,
          4.320000171661377,
          5.010000228881836,
          4.389999866485596,
          3.4000000953674316,
          2.5999999046325684,
          3.319999933242798,
          4.579999923706055,
          5.820000171661377,
          5.090000152587891,
          5.630000114440918,
          7.099999904632568,
          9.960000038146973,
          11.59000015258789,
          12.680000305175781,
          9.979999542236328,
          11.8100004196167,
          9.390000343322754,
          2.9000000953674316,
          7.559999942779541,
          3.549999952316284,
          4.739999771118164,
          6.570000171661377,
          5.800000190734863,
          5,
          5.400000095367432,
          6.03000020980835,
          5.480000019073486,
          6.289999961853027,
          6.849999904632568,
          6.880000114440918,
          6.489999771118164,
          7.570000171661377,
          8.09000015258789,
          11.300000190734863,
          12.239999771118164,
          11.210000038146973,
          10.970000267028809,
          9.829999923706055,
          12.960000038146973,
          7.630000114440918,
          9.470000267028809,
          10.3100004196167,
          9.34000015258789,
          9.289999961853027,
          6.989999771118164,
          5.590000152587891,
          6.849999904632568,
          8.470000267028809,
          7.630000114440918,
          8.649999618530273
         ],
         "yaxis": "y3"
        },
        {
         "hoverinfo": "x+y",
         "hovertemplate": "Date: %{x}<br>Precipitation:%{y} mm <extra></extra>",
         "line": {
          "color": "blue",
          "width": 2
         },
         "mode": "lines+markers",
         "name": "Precipitations",
         "type": "scatter",
         "x": [
          "2024-07-01T00:00:00+00:00",
          "2024-07-01T01:00:00+00:00",
          "2024-07-01T02:00:00+00:00",
          "2024-07-01T03:00:00+00:00",
          "2024-07-01T04:00:00+00:00",
          "2024-07-01T05:00:00+00:00",
          "2024-07-01T06:00:00+00:00",
          "2024-07-01T07:00:00+00:00",
          "2024-07-01T08:00:00+00:00",
          "2024-07-01T09:00:00+00:00",
          "2024-07-01T10:00:00+00:00",
          "2024-07-01T11:00:00+00:00",
          "2024-07-01T12:00:00+00:00",
          "2024-07-01T13:00:00+00:00",
          "2024-07-01T14:00:00+00:00",
          "2024-07-01T15:00:00+00:00",
          "2024-07-01T16:00:00+00:00",
          "2024-07-01T17:00:00+00:00",
          "2024-07-01T18:00:00+00:00",
          "2024-07-01T19:00:00+00:00",
          "2024-07-01T20:00:00+00:00",
          "2024-07-01T21:00:00+00:00",
          "2024-07-01T22:00:00+00:00",
          "2024-07-01T23:00:00+00:00",
          "2024-07-02T00:00:00+00:00",
          "2024-07-02T01:00:00+00:00",
          "2024-07-02T02:00:00+00:00",
          "2024-07-02T03:00:00+00:00",
          "2024-07-02T04:00:00+00:00",
          "2024-07-02T05:00:00+00:00",
          "2024-07-02T06:00:00+00:00",
          "2024-07-02T07:00:00+00:00",
          "2024-07-02T08:00:00+00:00",
          "2024-07-02T09:00:00+00:00",
          "2024-07-02T10:00:00+00:00",
          "2024-07-02T11:00:00+00:00",
          "2024-07-02T12:00:00+00:00",
          "2024-07-02T13:00:00+00:00",
          "2024-07-02T14:00:00+00:00",
          "2024-07-02T15:00:00+00:00",
          "2024-07-02T16:00:00+00:00",
          "2024-07-02T17:00:00+00:00",
          "2024-07-02T18:00:00+00:00",
          "2024-07-02T19:00:00+00:00",
          "2024-07-02T20:00:00+00:00",
          "2024-07-02T21:00:00+00:00",
          "2024-07-02T22:00:00+00:00",
          "2024-07-02T23:00:00+00:00",
          "2024-07-03T00:00:00+00:00",
          "2024-07-03T01:00:00+00:00",
          "2024-07-03T02:00:00+00:00",
          "2024-07-03T03:00:00+00:00",
          "2024-07-03T04:00:00+00:00",
          "2024-07-03T05:00:00+00:00",
          "2024-07-03T06:00:00+00:00",
          "2024-07-03T07:00:00+00:00",
          "2024-07-03T08:00:00+00:00",
          "2024-07-03T09:00:00+00:00",
          "2024-07-03T10:00:00+00:00",
          "2024-07-03T11:00:00+00:00",
          "2024-07-03T12:00:00+00:00",
          "2024-07-03T13:00:00+00:00",
          "2024-07-03T14:00:00+00:00",
          "2024-07-03T15:00:00+00:00",
          "2024-07-03T16:00:00+00:00",
          "2024-07-03T17:00:00+00:00",
          "2024-07-03T18:00:00+00:00",
          "2024-07-03T19:00:00+00:00",
          "2024-07-03T20:00:00+00:00",
          "2024-07-03T21:00:00+00:00",
          "2024-07-03T22:00:00+00:00",
          "2024-07-03T23:00:00+00:00",
          "2024-07-04T00:00:00+00:00",
          "2024-07-04T01:00:00+00:00",
          "2024-07-04T02:00:00+00:00",
          "2024-07-04T03:00:00+00:00",
          "2024-07-04T04:00:00+00:00",
          "2024-07-04T05:00:00+00:00",
          "2024-07-04T06:00:00+00:00",
          "2024-07-04T07:00:00+00:00",
          "2024-07-04T08:00:00+00:00",
          "2024-07-04T09:00:00+00:00",
          "2024-07-04T10:00:00+00:00",
          "2024-07-04T11:00:00+00:00",
          "2024-07-04T12:00:00+00:00",
          "2024-07-04T13:00:00+00:00",
          "2024-07-04T14:00:00+00:00",
          "2024-07-04T15:00:00+00:00",
          "2024-07-04T16:00:00+00:00",
          "2024-07-04T17:00:00+00:00",
          "2024-07-04T18:00:00+00:00",
          "2024-07-04T19:00:00+00:00",
          "2024-07-04T20:00:00+00:00",
          "2024-07-04T21:00:00+00:00",
          "2024-07-04T22:00:00+00:00",
          "2024-07-04T23:00:00+00:00",
          "2024-07-05T00:00:00+00:00",
          "2024-07-05T01:00:00+00:00",
          "2024-07-05T02:00:00+00:00",
          "2024-07-05T03:00:00+00:00",
          "2024-07-05T04:00:00+00:00",
          "2024-07-05T05:00:00+00:00",
          "2024-07-05T06:00:00+00:00",
          "2024-07-05T07:00:00+00:00",
          "2024-07-05T08:00:00+00:00",
          "2024-07-05T09:00:00+00:00",
          "2024-07-05T10:00:00+00:00",
          "2024-07-05T11:00:00+00:00",
          "2024-07-05T12:00:00+00:00",
          "2024-07-05T13:00:00+00:00",
          "2024-07-05T14:00:00+00:00",
          "2024-07-05T15:00:00+00:00",
          "2024-07-05T16:00:00+00:00",
          "2024-07-05T17:00:00+00:00",
          "2024-07-05T18:00:00+00:00",
          "2024-07-05T19:00:00+00:00",
          "2024-07-05T20:00:00+00:00",
          "2024-07-05T21:00:00+00:00",
          "2024-07-05T22:00:00+00:00",
          "2024-07-05T23:00:00+00:00",
          "2024-07-06T00:00:00+00:00",
          "2024-07-06T01:00:00+00:00",
          "2024-07-06T02:00:00+00:00",
          "2024-07-06T03:00:00+00:00",
          "2024-07-06T04:00:00+00:00",
          "2024-07-06T05:00:00+00:00",
          "2024-07-06T06:00:00+00:00",
          "2024-07-06T07:00:00+00:00",
          "2024-07-06T08:00:00+00:00",
          "2024-07-06T09:00:00+00:00",
          "2024-07-06T10:00:00+00:00",
          "2024-07-06T11:00:00+00:00",
          "2024-07-06T12:00:00+00:00",
          "2024-07-06T13:00:00+00:00",
          "2024-07-06T14:00:00+00:00",
          "2024-07-06T15:00:00+00:00",
          "2024-07-06T16:00:00+00:00",
          "2024-07-06T17:00:00+00:00",
          "2024-07-06T18:00:00+00:00",
          "2024-07-06T19:00:00+00:00",
          "2024-07-06T20:00:00+00:00",
          "2024-07-06T21:00:00+00:00",
          "2024-07-06T22:00:00+00:00",
          "2024-07-06T23:00:00+00:00",
          "2024-07-07T00:00:00+00:00",
          "2024-07-07T01:00:00+00:00",
          "2024-07-07T02:00:00+00:00",
          "2024-07-07T03:00:00+00:00",
          "2024-07-07T04:00:00+00:00",
          "2024-07-07T05:00:00+00:00",
          "2024-07-07T06:00:00+00:00",
          "2024-07-07T07:00:00+00:00",
          "2024-07-07T08:00:00+00:00",
          "2024-07-07T09:00:00+00:00",
          "2024-07-07T10:00:00+00:00",
          "2024-07-07T11:00:00+00:00",
          "2024-07-07T12:00:00+00:00",
          "2024-07-07T13:00:00+00:00",
          "2024-07-07T14:00:00+00:00",
          "2024-07-07T15:00:00+00:00",
          "2024-07-07T16:00:00+00:00",
          "2024-07-07T17:00:00+00:00",
          "2024-07-07T18:00:00+00:00",
          "2024-07-07T19:00:00+00:00",
          "2024-07-07T20:00:00+00:00",
          "2024-07-07T21:00:00+00:00",
          "2024-07-07T22:00:00+00:00",
          "2024-07-07T23:00:00+00:00",
          "2024-07-08T00:00:00+00:00",
          "2024-07-08T01:00:00+00:00",
          "2024-07-08T02:00:00+00:00",
          "2024-07-08T03:00:00+00:00",
          "2024-07-08T04:00:00+00:00",
          "2024-07-08T05:00:00+00:00",
          "2024-07-08T06:00:00+00:00",
          "2024-07-08T07:00:00+00:00",
          "2024-07-08T08:00:00+00:00",
          "2024-07-08T09:00:00+00:00",
          "2024-07-08T10:00:00+00:00",
          "2024-07-08T11:00:00+00:00",
          "2024-07-08T12:00:00+00:00",
          "2024-07-08T13:00:00+00:00",
          "2024-07-08T14:00:00+00:00",
          "2024-07-08T15:00:00+00:00",
          "2024-07-08T16:00:00+00:00",
          "2024-07-08T17:00:00+00:00",
          "2024-07-08T18:00:00+00:00",
          "2024-07-08T19:00:00+00:00",
          "2024-07-08T20:00:00+00:00",
          "2024-07-08T21:00:00+00:00",
          "2024-07-08T22:00:00+00:00",
          "2024-07-08T23:00:00+00:00",
          "2024-07-09T00:00:00+00:00",
          "2024-07-09T01:00:00+00:00",
          "2024-07-09T02:00:00+00:00",
          "2024-07-09T03:00:00+00:00",
          "2024-07-09T04:00:00+00:00",
          "2024-07-09T05:00:00+00:00",
          "2024-07-09T06:00:00+00:00",
          "2024-07-09T07:00:00+00:00",
          "2024-07-09T08:00:00+00:00",
          "2024-07-09T09:00:00+00:00",
          "2024-07-09T10:00:00+00:00",
          "2024-07-09T11:00:00+00:00",
          "2024-07-09T12:00:00+00:00",
          "2024-07-09T13:00:00+00:00",
          "2024-07-09T14:00:00+00:00",
          "2024-07-09T15:00:00+00:00",
          "2024-07-09T16:00:00+00:00",
          "2024-07-09T17:00:00+00:00",
          "2024-07-09T18:00:00+00:00",
          "2024-07-09T19:00:00+00:00",
          "2024-07-09T20:00:00+00:00",
          "2024-07-09T21:00:00+00:00",
          "2024-07-09T22:00:00+00:00",
          "2024-07-09T23:00:00+00:00"
         ],
         "xaxis": "x4",
         "y": [
          0,
          0,
          0,
          0,
          0,
          0,
          0,
          0,
          0,
          0.8999999761581421,
          3,
          0.10000000149011612,
          0,
          0,
          0.699999988079071,
          0.10000000149011612,
          0,
          0.20000000298023224,
          0,
          0,
          0,
          0,
          0,
          0,
          0,
          0,
          0,
          0,
          0,
          0,
          0,
          0,
          0,
          0.6000000238418579,
          0,
          0.10000000149011612,
          0.30000001192092896,
          0.10000000149011612,
          0,
          0,
          0,
          0,
          0,
          0,
          0,
          0.20000000298023224,
          0.10000000149011612,
          0,
          0,
          0,
          0,
          0,
          0,
          0,
          0,
          0,
          0,
          0,
          0,
          0,
          0,
          0,
          0,
          0,
          0,
          0,
          0,
          0,
          0,
          0,
          0,
          0,
          0.10000000149011612,
          0,
          0,
          0,
          0,
          0,
          0,
          0,
          0,
          0,
          0,
          0.10000000149011612,
          0.5,
          0,
          0.10000000149011612,
          0.30000001192092896,
          1.7000000476837158,
          0,
          0,
          0,
          0,
          0,
          0,
          0,
          0,
          0,
          0,
          0,
          0,
          0,
          0,
          0,
          0,
          0,
          0,
          0,
          0,
          0,
          0,
          0,
          0,
          0,
          0,
          0,
          0,
          0,
          0,
          0,
          0,
          0,
          0,
          0,
          0,
          0,
          0,
          0,
          0,
          0,
          0,
          0,
          0,
          0,
          0,
          0,
          0.10000000149011612,
          0.800000011920929,
          0,
          0,
          0,
          0,
          0,
          0,
          0,
          0,
          0,
          0,
          0,
          0,
          0,
          0,
          0,
          0,
          0,
          0,
          0,
          0,
          0,
          0,
          0,
          0,
          0,
          0,
          0,
          0,
          0,
          0,
          0,
          0,
          0,
          0,
          0,
          0,
          0,
          0,
          0,
          0,
          0,
          0,
          0,
          0,
          0,
          0,
          0,
          0,
          0,
          0,
          0,
          0,
          0,
          0,
          0,
          0,
          0,
          0,
          0,
          0,
          0,
          0,
          0,
          0,
          0,
          0,
          0,
          0,
          0,
          0,
          0,
          0,
          0,
          0,
          0,
          0,
          0,
          0
         ],
         "yaxis": "y4"
        }
       ],
       "layout": {
        "annotations": [
         {
          "font": {
           "size": 10
          },
          "showarrow": false,
          "text": "🌑",
          "x": "2024-07-01T00:00:00+00:00",
          "xref": "x",
          "y": 19.5,
          "yref": "y"
         },
         {
          "font": {
           "size": 10
          },
          "showarrow": false,
          "text": "🌑",
          "x": "2024-07-01T01:00:00+00:00",
          "xref": "x",
          "y": 19.55,
          "yref": "y"
         },
         {
          "font": {
           "size": 10
          },
          "showarrow": false,
          "text": "🌑",
          "x": "2024-07-01T02:00:00+00:00",
          "xref": "x",
          "y": 19.65,
          "yref": "y"
         },
         {
          "font": {
           "size": 10
          },
          "showarrow": false,
          "text": "🌑",
          "x": "2024-07-01T03:00:00+00:00",
          "xref": "x",
          "y": 19.4,
          "yref": "y"
         },
         {
          "font": {
           "size": 10
          },
          "showarrow": false,
          "text": "🌑",
          "x": "2024-07-01T04:00:00+00:00",
          "xref": "x",
          "y": 19.15,
          "yref": "y"
         },
         {
          "font": {
           "size": 10
          },
          "showarrow": false,
          "text": "🌑",
          "x": "2024-07-01T05:00:00+00:00",
          "xref": "x",
          "y": 19.15,
          "yref": "y"
         },
         {
          "font": {
           "size": 10
          },
          "showarrow": false,
          "text": "☀️",
          "x": "2024-07-01T06:00:00+00:00",
          "xref": "x",
          "y": 19.5,
          "yref": "y"
         },
         {
          "font": {
           "size": 10
          },
          "showarrow": false,
          "text": "☀️",
          "x": "2024-07-01T07:00:00+00:00",
          "xref": "x",
          "y": 19.85,
          "yref": "y"
         },
         {
          "font": {
           "size": 10
          },
          "showarrow": false,
          "text": "☀️",
          "x": "2024-07-01T08:00:00+00:00",
          "xref": "x",
          "y": 20.2,
          "yref": "y"
         },
         {
          "font": {
           "size": 10
          },
          "showarrow": false,
          "text": "☀️",
          "x": "2024-07-01T09:00:00+00:00",
          "xref": "x",
          "y": 20.95,
          "yref": "y"
         },
         {
          "font": {
           "size": 10
          },
          "showarrow": false,
          "text": "☀️",
          "x": "2024-07-01T10:00:00+00:00",
          "xref": "x",
          "y": 19.6,
          "yref": "y"
         },
         {
          "font": {
           "size": 10
          },
          "showarrow": false,
          "text": "☀️",
          "x": "2024-07-01T11:00:00+00:00",
          "xref": "x",
          "y": 20.75,
          "yref": "y"
         },
         {
          "font": {
           "size": 10
          },
          "showarrow": false,
          "text": "☀️",
          "x": "2024-07-01T12:00:00+00:00",
          "xref": "x",
          "y": 21.55,
          "yref": "y"
         },
         {
          "font": {
           "size": 10
          },
          "showarrow": false,
          "text": "☀️",
          "x": "2024-07-01T13:00:00+00:00",
          "xref": "x",
          "y": 22,
          "yref": "y"
         },
         {
          "font": {
           "size": 10
          },
          "showarrow": false,
          "text": "☀️",
          "x": "2024-07-01T14:00:00+00:00",
          "xref": "x",
          "y": 20.4,
          "yref": "y"
         },
         {
          "font": {
           "size": 10
          },
          "showarrow": false,
          "text": "☀️",
          "x": "2024-07-01T15:00:00+00:00",
          "xref": "x",
          "y": 20.45,
          "yref": "y"
         },
         {
          "font": {
           "size": 10
          },
          "showarrow": false,
          "text": "☀️",
          "x": "2024-07-01T16:00:00+00:00",
          "xref": "x",
          "y": 21.3,
          "yref": "y"
         },
         {
          "font": {
           "size": 10
          },
          "showarrow": false,
          "text": "☀️",
          "x": "2024-07-01T17:00:00+00:00",
          "xref": "x",
          "y": 19,
          "yref": "y"
         },
         {
          "font": {
           "size": 10
          },
          "showarrow": false,
          "text": "☀️",
          "x": "2024-07-01T18:00:00+00:00",
          "xref": "x",
          "y": 18.75,
          "yref": "y"
         },
         {
          "font": {
           "size": 10
          },
          "showarrow": false,
          "text": "🌑",
          "x": "2024-07-01T19:00:00+00:00",
          "xref": "x",
          "y": 18.6,
          "yref": "y"
         },
         {
          "font": {
           "size": 10
          },
          "showarrow": false,
          "text": "🌑",
          "x": "2024-07-01T20:00:00+00:00",
          "xref": "x",
          "y": 18.05,
          "yref": "y"
         },
         {
          "font": {
           "size": 10
          },
          "showarrow": false,
          "text": "🌑",
          "x": "2024-07-01T21:00:00+00:00",
          "xref": "x",
          "y": 17.25,
          "yref": "y"
         },
         {
          "font": {
           "size": 10
          },
          "showarrow": false,
          "text": "🌑",
          "x": "2024-07-01T22:00:00+00:00",
          "xref": "x",
          "y": 16.55,
          "yref": "y"
         },
         {
          "font": {
           "size": 10
          },
          "showarrow": false,
          "text": "🌑",
          "x": "2024-07-01T23:00:00+00:00",
          "xref": "x",
          "y": 16.35,
          "yref": "y"
         },
         {
          "font": {
           "size": 10
          },
          "showarrow": false,
          "text": "🌑",
          "x": "2024-07-02T00:00:00+00:00",
          "xref": "x",
          "y": 15.8,
          "yref": "y"
         },
         {
          "font": {
           "size": 10
          },
          "showarrow": false,
          "text": "🌑",
          "x": "2024-07-02T01:00:00+00:00",
          "xref": "x",
          "y": 15.4,
          "yref": "y"
         },
         {
          "font": {
           "size": 10
          },
          "showarrow": false,
          "text": "🌑",
          "x": "2024-07-02T02:00:00+00:00",
          "xref": "x",
          "y": 15.05,
          "yref": "y"
         },
         {
          "font": {
           "size": 10
          },
          "showarrow": false,
          "text": "🌑",
          "x": "2024-07-02T03:00:00+00:00",
          "xref": "x",
          "y": 15.35,
          "yref": "y"
         },
         {
          "font": {
           "size": 10
          },
          "showarrow": false,
          "text": "🌑",
          "x": "2024-07-02T04:00:00+00:00",
          "xref": "x",
          "y": 15.35,
          "yref": "y"
         },
         {
          "font": {
           "size": 10
          },
          "showarrow": false,
          "text": "🌑",
          "x": "2024-07-02T05:00:00+00:00",
          "xref": "x",
          "y": 16,
          "yref": "y"
         },
         {
          "font": {
           "size": 10
          },
          "showarrow": false,
          "text": "☀️",
          "x": "2024-07-02T06:00:00+00:00",
          "xref": "x",
          "y": 17.1,
          "yref": "y"
         },
         {
          "font": {
           "size": 10
          },
          "showarrow": false,
          "text": "☀️",
          "x": "2024-07-02T07:00:00+00:00",
          "xref": "x",
          "y": 18.35,
          "yref": "y"
         },
         {
          "font": {
           "size": 10
          },
          "showarrow": false,
          "text": "☀️",
          "x": "2024-07-02T08:00:00+00:00",
          "xref": "x",
          "y": 18.65,
          "yref": "y"
         },
         {
          "font": {
           "size": 10
          },
          "showarrow": false,
          "text": "☀️",
          "x": "2024-07-02T09:00:00+00:00",
          "xref": "x",
          "y": 18.3,
          "yref": "y"
         },
         {
          "font": {
           "size": 10
          },
          "showarrow": false,
          "text": "☀️",
          "x": "2024-07-02T10:00:00+00:00",
          "xref": "x",
          "y": 18.05,
          "yref": "y"
         },
         {
          "font": {
           "size": 10
          },
          "showarrow": false,
          "text": "☀️",
          "x": "2024-07-02T11:00:00+00:00",
          "xref": "x",
          "y": 17.75,
          "yref": "y"
         },
         {
          "font": {
           "size": 10
          },
          "showarrow": false,
          "text": "☀️",
          "x": "2024-07-02T12:00:00+00:00",
          "xref": "x",
          "y": 17.6,
          "yref": "y"
         },
         {
          "font": {
           "size": 10
          },
          "showarrow": false,
          "text": "☀️",
          "x": "2024-07-02T13:00:00+00:00",
          "xref": "x",
          "y": 17.8,
          "yref": "y"
         },
         {
          "font": {
           "size": 10
          },
          "showarrow": false,
          "text": "☀️",
          "x": "2024-07-02T14:00:00+00:00",
          "xref": "x",
          "y": 17.65,
          "yref": "y"
         },
         {
          "font": {
           "size": 10
          },
          "showarrow": false,
          "text": "☀️",
          "x": "2024-07-02T15:00:00+00:00",
          "xref": "x",
          "y": 19.05,
          "yref": "y"
         },
         {
          "font": {
           "size": 10
          },
          "showarrow": false,
          "text": "☀️",
          "x": "2024-07-02T16:00:00+00:00",
          "xref": "x",
          "y": 19.3,
          "yref": "y"
         },
         {
          "font": {
           "size": 10
          },
          "showarrow": false,
          "text": "☀️",
          "x": "2024-07-02T17:00:00+00:00",
          "xref": "x",
          "y": 18.8,
          "yref": "y"
         },
         {
          "font": {
           "size": 10
          },
          "showarrow": false,
          "text": "☀️",
          "x": "2024-07-02T18:00:00+00:00",
          "xref": "x",
          "y": 18.05,
          "yref": "y"
         },
         {
          "font": {
           "size": 10
          },
          "showarrow": false,
          "text": "🌑",
          "x": "2024-07-02T19:00:00+00:00",
          "xref": "x",
          "y": 17.95,
          "yref": "y"
         },
         {
          "font": {
           "size": 10
          },
          "showarrow": false,
          "text": "🌑",
          "x": "2024-07-02T20:00:00+00:00",
          "xref": "x",
          "y": 17.8,
          "yref": "y"
         },
         {
          "font": {
           "size": 10
          },
          "showarrow": false,
          "text": "🌑",
          "x": "2024-07-02T21:00:00+00:00",
          "xref": "x",
          "y": 17.3,
          "yref": "y"
         },
         {
          "font": {
           "size": 10
          },
          "showarrow": false,
          "text": "🌑",
          "x": "2024-07-02T22:00:00+00:00",
          "xref": "x",
          "y": 16.65,
          "yref": "y"
         },
         {
          "font": {
           "size": 10
          },
          "showarrow": false,
          "text": "🌑",
          "x": "2024-07-02T23:00:00+00:00",
          "xref": "x",
          "y": 16.2,
          "yref": "y"
         },
         {
          "font": {
           "size": 10
          },
          "showarrow": false,
          "text": "🌑",
          "x": "2024-07-03T00:00:00+00:00",
          "xref": "x",
          "y": 15.8,
          "yref": "y"
         },
         {
          "font": {
           "size": 10
          },
          "showarrow": false,
          "text": "🌑",
          "x": "2024-07-03T01:00:00+00:00",
          "xref": "x",
          "y": 15.45,
          "yref": "y"
         },
         {
          "font": {
           "size": 10
          },
          "showarrow": false,
          "text": "🌑",
          "x": "2024-07-03T02:00:00+00:00",
          "xref": "x",
          "y": 15,
          "yref": "y"
         },
         {
          "font": {
           "size": 10
          },
          "showarrow": false,
          "text": "🌑",
          "x": "2024-07-03T03:00:00+00:00",
          "xref": "x",
          "y": 14.8,
          "yref": "y"
         },
         {
          "font": {
           "size": 10
          },
          "showarrow": false,
          "text": "🌑",
          "x": "2024-07-03T04:00:00+00:00",
          "xref": "x",
          "y": 14.7,
          "yref": "y"
         },
         {
          "font": {
           "size": 10
          },
          "showarrow": false,
          "text": "🌑",
          "x": "2024-07-03T05:00:00+00:00",
          "xref": "x",
          "y": 14.65,
          "yref": "y"
         },
         {
          "font": {
           "size": 10
          },
          "showarrow": false,
          "text": "☀️",
          "x": "2024-07-03T06:00:00+00:00",
          "xref": "x",
          "y": 15.45,
          "yref": "y"
         },
         {
          "font": {
           "size": 10
          },
          "showarrow": false,
          "text": "☀️",
          "x": "2024-07-03T07:00:00+00:00",
          "xref": "x",
          "y": 16.25,
          "yref": "y"
         },
         {
          "font": {
           "size": 10
          },
          "showarrow": false,
          "text": "☀️",
          "x": "2024-07-03T08:00:00+00:00",
          "xref": "x",
          "y": 17,
          "yref": "y"
         },
         {
          "font": {
           "size": 10
          },
          "showarrow": false,
          "text": "☀️",
          "x": "2024-07-03T09:00:00+00:00",
          "xref": "x",
          "y": 17.3,
          "yref": "y"
         },
         {
          "font": {
           "size": 10
          },
          "showarrow": false,
          "text": "☀️",
          "x": "2024-07-03T10:00:00+00:00",
          "xref": "x",
          "y": 18.4,
          "yref": "y"
         },
         {
          "font": {
           "size": 10
          },
          "showarrow": false,
          "text": "☀️",
          "x": "2024-07-03T11:00:00+00:00",
          "xref": "x",
          "y": 18.8,
          "yref": "y"
         },
         {
          "font": {
           "size": 10
          },
          "showarrow": false,
          "text": "☀️",
          "x": "2024-07-03T12:00:00+00:00",
          "xref": "x",
          "y": 19.05,
          "yref": "y"
         },
         {
          "font": {
           "size": 10
          },
          "showarrow": false,
          "text": "☀️",
          "x": "2024-07-03T13:00:00+00:00",
          "xref": "x",
          "y": 19.2,
          "yref": "y"
         },
         {
          "font": {
           "size": 10
          },
          "showarrow": false,
          "text": "☀️",
          "x": "2024-07-03T14:00:00+00:00",
          "xref": "x",
          "y": 19.35,
          "yref": "y"
         },
         {
          "font": {
           "size": 10
          },
          "showarrow": false,
          "text": "☀️",
          "x": "2024-07-03T15:00:00+00:00",
          "xref": "x",
          "y": 19.3,
          "yref": "y"
         },
         {
          "font": {
           "size": 10
          },
          "showarrow": false,
          "text": "☀️",
          "x": "2024-07-03T16:00:00+00:00",
          "xref": "x",
          "y": 18.95,
          "yref": "y"
         },
         {
          "font": {
           "size": 10
          },
          "showarrow": false,
          "text": "☀️",
          "x": "2024-07-03T17:00:00+00:00",
          "xref": "x",
          "y": 19.1,
          "yref": "y"
         },
         {
          "font": {
           "size": 10
          },
          "showarrow": false,
          "text": "☀️",
          "x": "2024-07-03T18:00:00+00:00",
          "xref": "x",
          "y": 19.05,
          "yref": "y"
         },
         {
          "font": {
           "size": 10
          },
          "showarrow": false,
          "text": "🌑",
          "x": "2024-07-03T19:00:00+00:00",
          "xref": "x",
          "y": 18.25,
          "yref": "y"
         },
         {
          "font": {
           "size": 10
          },
          "showarrow": false,
          "text": "🌑",
          "x": "2024-07-03T20:00:00+00:00",
          "xref": "x",
          "y": 17.5,
          "yref": "y"
         },
         {
          "font": {
           "size": 10
          },
          "showarrow": false,
          "text": "🌑",
          "x": "2024-07-03T21:00:00+00:00",
          "xref": "x",
          "y": 17.1,
          "yref": "y"
         },
         {
          "font": {
           "size": 10
          },
          "showarrow": false,
          "text": "🌑",
          "x": "2024-07-03T22:00:00+00:00",
          "xref": "x",
          "y": 16.75,
          "yref": "y"
         },
         {
          "font": {
           "size": 10
          },
          "showarrow": false,
          "text": "🌑",
          "x": "2024-07-03T23:00:00+00:00",
          "xref": "x",
          "y": 16.5,
          "yref": "y"
         },
         {
          "font": {
           "size": 10
          },
          "showarrow": false,
          "text": "🌑",
          "x": "2024-07-04T00:00:00+00:00",
          "xref": "x",
          "y": 16.4,
          "yref": "y"
         },
         {
          "font": {
           "size": 10
          },
          "showarrow": false,
          "text": "🌑",
          "x": "2024-07-04T01:00:00+00:00",
          "xref": "x",
          "y": 15.7,
          "yref": "y"
         },
         {
          "font": {
           "size": 10
          },
          "showarrow": false,
          "text": "🌑",
          "x": "2024-07-04T02:00:00+00:00",
          "xref": "x",
          "y": 15.05,
          "yref": "y"
         },
         {
          "font": {
           "size": 10
          },
          "showarrow": false,
          "text": "🌑",
          "x": "2024-07-04T03:00:00+00:00",
          "xref": "x",
          "y": 14.8,
          "yref": "y"
         },
         {
          "font": {
           "size": 10
          },
          "showarrow": false,
          "text": "🌑",
          "x": "2024-07-04T04:00:00+00:00",
          "xref": "x",
          "y": 14.45,
          "yref": "y"
         },
         {
          "font": {
           "size": 10
          },
          "showarrow": false,
          "text": "🌑",
          "x": "2024-07-04T05:00:00+00:00",
          "xref": "x",
          "y": 15.05,
          "yref": "y"
         },
         {
          "font": {
           "size": 10
          },
          "showarrow": false,
          "text": "☀️",
          "x": "2024-07-04T06:00:00+00:00",
          "xref": "x",
          "y": 16.15,
          "yref": "y"
         },
         {
          "font": {
           "size": 10
          },
          "showarrow": false,
          "text": "☀️",
          "x": "2024-07-04T07:00:00+00:00",
          "xref": "x",
          "y": 17.35,
          "yref": "y"
         },
         {
          "font": {
           "size": 10
          },
          "showarrow": false,
          "text": "☀️",
          "x": "2024-07-04T08:00:00+00:00",
          "xref": "x",
          "y": 18.7,
          "yref": "y"
         },
         {
          "font": {
           "size": 10
          },
          "showarrow": false,
          "text": "☀️",
          "x": "2024-07-04T09:00:00+00:00",
          "xref": "x",
          "y": 20.15,
          "yref": "y"
         },
         {
          "font": {
           "size": 10
          },
          "showarrow": false,
          "text": "☀️",
          "x": "2024-07-04T10:00:00+00:00",
          "xref": "x",
          "y": 20.55,
          "yref": "y"
         },
         {
          "font": {
           "size": 10
          },
          "showarrow": false,
          "text": "☀️",
          "x": "2024-07-04T11:00:00+00:00",
          "xref": "x",
          "y": 20.15,
          "yref": "y"
         },
         {
          "font": {
           "size": 10
          },
          "showarrow": false,
          "text": "☀️",
          "x": "2024-07-04T12:00:00+00:00",
          "xref": "x",
          "y": 20.9,
          "yref": "y"
         },
         {
          "font": {
           "size": 10
          },
          "showarrow": false,
          "text": "☀️",
          "x": "2024-07-04T13:00:00+00:00",
          "xref": "x",
          "y": 20.3,
          "yref": "y"
         },
         {
          "font": {
           "size": 10
          },
          "showarrow": false,
          "text": "☀️",
          "x": "2024-07-04T14:00:00+00:00",
          "xref": "x",
          "y": 20.3,
          "yref": "y"
         },
         {
          "font": {
           "size": 10
          },
          "showarrow": false,
          "text": "☀️",
          "x": "2024-07-04T15:00:00+00:00",
          "xref": "x",
          "y": 19.85,
          "yref": "y"
         },
         {
          "font": {
           "size": 10
          },
          "showarrow": false,
          "text": "☀️",
          "x": "2024-07-04T16:00:00+00:00",
          "xref": "x",
          "y": 17.7,
          "yref": "y"
         },
         {
          "font": {
           "size": 10
          },
          "showarrow": false,
          "text": "☀️",
          "x": "2024-07-04T17:00:00+00:00",
          "xref": "x",
          "y": 18.7,
          "yref": "y"
         },
         {
          "font": {
           "size": 10
          },
          "showarrow": false,
          "text": "☀️",
          "x": "2024-07-04T18:00:00+00:00",
          "xref": "x",
          "y": 18.4,
          "yref": "y"
         },
         {
          "font": {
           "size": 10
          },
          "showarrow": false,
          "text": "🌑",
          "x": "2024-07-04T19:00:00+00:00",
          "xref": "x",
          "y": 18.25,
          "yref": "y"
         },
         {
          "font": {
           "size": 10
          },
          "showarrow": false,
          "text": "🌑",
          "x": "2024-07-04T20:00:00+00:00",
          "xref": "x",
          "y": 17.5,
          "yref": "y"
         },
         {
          "font": {
           "size": 10
          },
          "showarrow": false,
          "text": "🌑",
          "x": "2024-07-04T21:00:00+00:00",
          "xref": "x",
          "y": 16.95,
          "yref": "y"
         },
         {
          "font": {
           "size": 10
          },
          "showarrow": false,
          "text": "🌑",
          "x": "2024-07-04T22:00:00+00:00",
          "xref": "x",
          "y": 16.45,
          "yref": "y"
         },
         {
          "font": {
           "size": 10
          },
          "showarrow": false,
          "text": "🌑",
          "x": "2024-07-04T23:00:00+00:00",
          "xref": "x",
          "y": 15.6,
          "yref": "y"
         },
         {
          "font": {
           "size": 10
          },
          "showarrow": false,
          "text": "🌑",
          "x": "2024-07-05T00:00:00+00:00",
          "xref": "x",
          "y": 14.65,
          "yref": "y"
         },
         {
          "font": {
           "size": 10
          },
          "showarrow": false,
          "text": "🌑",
          "x": "2024-07-05T01:00:00+00:00",
          "xref": "x",
          "y": 13.9,
          "yref": "y"
         },
         {
          "font": {
           "size": 10
          },
          "showarrow": false,
          "text": "🌑",
          "x": "2024-07-05T02:00:00+00:00",
          "xref": "x",
          "y": 13.6,
          "yref": "y"
         },
         {
          "font": {
           "size": 10
          },
          "showarrow": false,
          "text": "🌑",
          "x": "2024-07-05T03:00:00+00:00",
          "xref": "x",
          "y": 12.8,
          "yref": "y"
         },
         {
          "font": {
           "size": 10
          },
          "showarrow": false,
          "text": "🌑",
          "x": "2024-07-05T04:00:00+00:00",
          "xref": "x",
          "y": 12.95,
          "yref": "y"
         },
         {
          "font": {
           "size": 10
          },
          "showarrow": false,
          "text": "🌑",
          "x": "2024-07-05T05:00:00+00:00",
          "xref": "x",
          "y": 14.05,
          "yref": "y"
         },
         {
          "font": {
           "size": 10
          },
          "showarrow": false,
          "text": "☀️",
          "x": "2024-07-05T06:00:00+00:00",
          "xref": "x",
          "y": 15.6,
          "yref": "y"
         },
         {
          "font": {
           "size": 10
          },
          "showarrow": false,
          "text": "☀️",
          "x": "2024-07-05T07:00:00+00:00",
          "xref": "x",
          "y": 17.5,
          "yref": "y"
         },
         {
          "font": {
           "size": 10
          },
          "showarrow": false,
          "text": "☀️",
          "x": "2024-07-05T08:00:00+00:00",
          "xref": "x",
          "y": 19.6,
          "yref": "y"
         },
         {
          "font": {
           "size": 10
          },
          "showarrow": false,
          "text": "☀️",
          "x": "2024-07-05T09:00:00+00:00",
          "xref": "x",
          "y": 21.2,
          "yref": "y"
         },
         {
          "font": {
           "size": 10
          },
          "showarrow": false,
          "text": "☀️",
          "x": "2024-07-05T10:00:00+00:00",
          "xref": "x",
          "y": 21.25,
          "yref": "y"
         },
         {
          "font": {
           "size": 10
          },
          "showarrow": false,
          "text": "☀️",
          "x": "2024-07-05T11:00:00+00:00",
          "xref": "x",
          "y": 22.7,
          "yref": "y"
         },
         {
          "font": {
           "size": 10
          },
          "showarrow": false,
          "text": "☀️",
          "x": "2024-07-05T12:00:00+00:00",
          "xref": "x",
          "y": 22.65,
          "yref": "y"
         },
         {
          "font": {
           "size": 10
          },
          "showarrow": false,
          "text": "☀️",
          "x": "2024-07-05T13:00:00+00:00",
          "xref": "x",
          "y": 23.15,
          "yref": "y"
         },
         {
          "font": {
           "size": 10
          },
          "showarrow": false,
          "text": "☀️",
          "x": "2024-07-05T14:00:00+00:00",
          "xref": "x",
          "y": 23.4,
          "yref": "y"
         },
         {
          "font": {
           "size": 10
          },
          "showarrow": false,
          "text": "☀️",
          "x": "2024-07-05T15:00:00+00:00",
          "xref": "x",
          "y": 23.35,
          "yref": "y"
         },
         {
          "font": {
           "size": 10
          },
          "showarrow": false,
          "text": "☀️",
          "x": "2024-07-05T16:00:00+00:00",
          "xref": "x",
          "y": 22.8,
          "yref": "y"
         },
         {
          "font": {
           "size": 10
          },
          "showarrow": false,
          "text": "☀️",
          "x": "2024-07-05T17:00:00+00:00",
          "xref": "x",
          "y": 22.3,
          "yref": "y"
         },
         {
          "font": {
           "size": 10
          },
          "showarrow": false,
          "text": "☀️",
          "x": "2024-07-05T18:00:00+00:00",
          "xref": "x",
          "y": 22.2,
          "yref": "y"
         },
         {
          "font": {
           "size": 10
          },
          "showarrow": false,
          "text": "🌑",
          "x": "2024-07-05T19:00:00+00:00",
          "xref": "x",
          "y": 21.3,
          "yref": "y"
         },
         {
          "font": {
           "size": 10
          },
          "showarrow": false,
          "text": "🌑",
          "x": "2024-07-05T20:00:00+00:00",
          "xref": "x",
          "y": 20.2,
          "yref": "y"
         },
         {
          "font": {
           "size": 10
          },
          "showarrow": false,
          "text": "🌑",
          "x": "2024-07-05T21:00:00+00:00",
          "xref": "x",
          "y": 18.95,
          "yref": "y"
         },
         {
          "font": {
           "size": 10
          },
          "showarrow": false,
          "text": "🌑",
          "x": "2024-07-05T22:00:00+00:00",
          "xref": "x",
          "y": 18.1,
          "yref": "y"
         },
         {
          "font": {
           "size": 10
          },
          "showarrow": false,
          "text": "🌑",
          "x": "2024-07-05T23:00:00+00:00",
          "xref": "x",
          "y": 17.35,
          "yref": "y"
         },
         {
          "font": {
           "size": 10
          },
          "showarrow": false,
          "text": "🌑",
          "x": "2024-07-06T00:00:00+00:00",
          "xref": "x",
          "y": 16.65,
          "yref": "y"
         },
         {
          "font": {
           "size": 10
          },
          "showarrow": false,
          "text": "🌑",
          "x": "2024-07-06T01:00:00+00:00",
          "xref": "x",
          "y": 16.95,
          "yref": "y"
         },
         {
          "font": {
           "size": 10
          },
          "showarrow": false,
          "text": "🌑",
          "x": "2024-07-06T02:00:00+00:00",
          "xref": "x",
          "y": 17,
          "yref": "y"
         },
         {
          "font": {
           "size": 10
          },
          "showarrow": false,
          "text": "🌑",
          "x": "2024-07-06T03:00:00+00:00",
          "xref": "x",
          "y": 16.85,
          "yref": "y"
         },
         {
          "font": {
           "size": 10
          },
          "showarrow": false,
          "text": "🌑",
          "x": "2024-07-06T04:00:00+00:00",
          "xref": "x",
          "y": 17.05,
          "yref": "y"
         },
         {
          "font": {
           "size": 10
          },
          "showarrow": false,
          "text": "🌑",
          "x": "2024-07-06T05:00:00+00:00",
          "xref": "x",
          "y": 18.1,
          "yref": "y"
         },
         {
          "font": {
           "size": 10
          },
          "showarrow": false,
          "text": "☀️",
          "x": "2024-07-06T06:00:00+00:00",
          "xref": "x",
          "y": 20.75,
          "yref": "y"
         },
         {
          "font": {
           "size": 10
          },
          "showarrow": false,
          "text": "☀️",
          "x": "2024-07-06T07:00:00+00:00",
          "xref": "x",
          "y": 22.85,
          "yref": "y"
         },
         {
          "font": {
           "size": 10
          },
          "showarrow": false,
          "text": "☀️",
          "x": "2024-07-06T08:00:00+00:00",
          "xref": "x",
          "y": 24.45,
          "yref": "y"
         },
         {
          "font": {
           "size": 10
          },
          "showarrow": false,
          "text": "☀️",
          "x": "2024-07-06T09:00:00+00:00",
          "xref": "x",
          "y": 26.9,
          "yref": "y"
         },
         {
          "font": {
           "size": 10
          },
          "showarrow": false,
          "text": "☀️",
          "x": "2024-07-06T10:00:00+00:00",
          "xref": "x",
          "y": 28.6,
          "yref": "y"
         },
         {
          "font": {
           "size": 10
          },
          "showarrow": false,
          "text": "☀️",
          "x": "2024-07-06T11:00:00+00:00",
          "xref": "x",
          "y": 30.3,
          "yref": "y"
         },
         {
          "font": {
           "size": 10
          },
          "showarrow": false,
          "text": "☀️",
          "x": "2024-07-06T12:00:00+00:00",
          "xref": "x",
          "y": 31.45,
          "yref": "y"
         },
         {
          "font": {
           "size": 10
          },
          "showarrow": false,
          "text": "☀️",
          "x": "2024-07-06T13:00:00+00:00",
          "xref": "x",
          "y": 32.65,
          "yref": "y"
         },
         {
          "font": {
           "size": 10
          },
          "showarrow": false,
          "text": "☀️",
          "x": "2024-07-06T14:00:00+00:00",
          "xref": "x",
          "y": 33.1,
          "yref": "y"
         },
         {
          "font": {
           "size": 10
          },
          "showarrow": false,
          "text": "☀️",
          "x": "2024-07-06T15:00:00+00:00",
          "xref": "x",
          "y": 32,
          "yref": "y"
         },
         {
          "font": {
           "size": 10
          },
          "showarrow": false,
          "text": "☀️",
          "x": "2024-07-06T16:00:00+00:00",
          "xref": "x",
          "y": 27.55,
          "yref": "y"
         },
         {
          "font": {
           "size": 10
          },
          "showarrow": false,
          "text": "☀️",
          "x": "2024-07-06T17:00:00+00:00",
          "xref": "x",
          "y": 23.65,
          "yref": "y"
         },
         {
          "font": {
           "size": 10
          },
          "showarrow": false,
          "text": "☀️",
          "x": "2024-07-06T18:00:00+00:00",
          "xref": "x",
          "y": 23.05,
          "yref": "y"
         },
         {
          "font": {
           "size": 10
          },
          "showarrow": false,
          "text": "🌑",
          "x": "2024-07-06T19:00:00+00:00",
          "xref": "x",
          "y": 22.75,
          "yref": "y"
         },
         {
          "font": {
           "size": 10
          },
          "showarrow": false,
          "text": "🌑",
          "x": "2024-07-06T20:00:00+00:00",
          "xref": "x",
          "y": 22.2,
          "yref": "y"
         },
         {
          "font": {
           "size": 10
          },
          "showarrow": false,
          "text": "🌑",
          "x": "2024-07-06T21:00:00+00:00",
          "xref": "x",
          "y": 22.35,
          "yref": "y"
         },
         {
          "font": {
           "size": 10
          },
          "showarrow": false,
          "text": "🌑",
          "x": "2024-07-06T22:00:00+00:00",
          "xref": "x",
          "y": 21.5,
          "yref": "y"
         },
         {
          "font": {
           "size": 10
          },
          "showarrow": false,
          "text": "🌑",
          "x": "2024-07-06T23:00:00+00:00",
          "xref": "x",
          "y": 20.95,
          "yref": "y"
         },
         {
          "font": {
           "size": 10
          },
          "showarrow": false,
          "text": "🌑",
          "x": "2024-07-07T00:00:00+00:00",
          "xref": "x",
          "y": 20,
          "yref": "y"
         },
         {
          "font": {
           "size": 10
          },
          "showarrow": false,
          "text": "🌑",
          "x": "2024-07-07T01:00:00+00:00",
          "xref": "x",
          "y": 18.7,
          "yref": "y"
         },
         {
          "font": {
           "size": 10
          },
          "showarrow": false,
          "text": "🌑",
          "x": "2024-07-07T02:00:00+00:00",
          "xref": "x",
          "y": 17.7,
          "yref": "y"
         },
         {
          "font": {
           "size": 10
          },
          "showarrow": false,
          "text": "🌑",
          "x": "2024-07-07T03:00:00+00:00",
          "xref": "x",
          "y": 17.4,
          "yref": "y"
         },
         {
          "font": {
           "size": 10
          },
          "showarrow": false,
          "text": "🌑",
          "x": "2024-07-07T04:00:00+00:00",
          "xref": "x",
          "y": 17.15,
          "yref": "y"
         },
         {
          "font": {
           "size": 10
          },
          "showarrow": false,
          "text": "🌑",
          "x": "2024-07-07T05:00:00+00:00",
          "xref": "x",
          "y": 17.6,
          "yref": "y"
         },
         {
          "font": {
           "size": 10
          },
          "showarrow": false,
          "text": "☀️",
          "x": "2024-07-07T06:00:00+00:00",
          "xref": "x",
          "y": 18.15,
          "yref": "y"
         },
         {
          "font": {
           "size": 10
          },
          "showarrow": false,
          "text": "☀️",
          "x": "2024-07-07T07:00:00+00:00",
          "xref": "x",
          "y": 19.15,
          "yref": "y"
         },
         {
          "font": {
           "size": 10
          },
          "showarrow": false,
          "text": "☀️",
          "x": "2024-07-07T08:00:00+00:00",
          "xref": "x",
          "y": 20.35,
          "yref": "y"
         },
         {
          "font": {
           "size": 10
          },
          "showarrow": false,
          "text": "☀️",
          "x": "2024-07-07T09:00:00+00:00",
          "xref": "x",
          "y": 21.25,
          "yref": "y"
         },
         {
          "font": {
           "size": 10
          },
          "showarrow": false,
          "text": "☀️",
          "x": "2024-07-07T10:00:00+00:00",
          "xref": "x",
          "y": 22.55,
          "yref": "y"
         },
         {
          "font": {
           "size": 10
          },
          "showarrow": false,
          "text": "☀️",
          "x": "2024-07-07T11:00:00+00:00",
          "xref": "x",
          "y": 23.55,
          "yref": "y"
         },
         {
          "font": {
           "size": 10
          },
          "showarrow": false,
          "text": "☀️",
          "x": "2024-07-07T12:00:00+00:00",
          "xref": "x",
          "y": 24.3,
          "yref": "y"
         },
         {
          "font": {
           "size": 10
          },
          "showarrow": false,
          "text": "☀️",
          "x": "2024-07-07T13:00:00+00:00",
          "xref": "x",
          "y": 24.55,
          "yref": "y"
         },
         {
          "font": {
           "size": 10
          },
          "showarrow": false,
          "text": "☀️",
          "x": "2024-07-07T14:00:00+00:00",
          "xref": "x",
          "y": 24.55,
          "yref": "y"
         },
         {
          "font": {
           "size": 10
          },
          "showarrow": false,
          "text": "☀️",
          "x": "2024-07-07T15:00:00+00:00",
          "xref": "x",
          "y": 24.6,
          "yref": "y"
         },
         {
          "font": {
           "size": 10
          },
          "showarrow": false,
          "text": "☀️",
          "x": "2024-07-07T16:00:00+00:00",
          "xref": "x",
          "y": 24.5,
          "yref": "y"
         },
         {
          "font": {
           "size": 10
          },
          "showarrow": false,
          "text": "☀️",
          "x": "2024-07-07T17:00:00+00:00",
          "xref": "x",
          "y": 24.1,
          "yref": "y"
         },
         {
          "font": {
           "size": 10
          },
          "showarrow": false,
          "text": "☀️",
          "x": "2024-07-07T18:00:00+00:00",
          "xref": "x",
          "y": 23.9,
          "yref": "y"
         },
         {
          "font": {
           "size": 10
          },
          "showarrow": false,
          "text": "🌑",
          "x": "2024-07-07T19:00:00+00:00",
          "xref": "x",
          "y": 22.45,
          "yref": "y"
         },
         {
          "font": {
           "size": 10
          },
          "showarrow": false,
          "text": "🌑",
          "x": "2024-07-07T20:00:00+00:00",
          "xref": "x",
          "y": 20.8,
          "yref": "y"
         },
         {
          "font": {
           "size": 10
          },
          "showarrow": false,
          "text": "🌑",
          "x": "2024-07-07T21:00:00+00:00",
          "xref": "x",
          "y": 18.95,
          "yref": "y"
         },
         {
          "font": {
           "size": 10
          },
          "showarrow": false,
          "text": "🌑",
          "x": "2024-07-07T22:00:00+00:00",
          "xref": "x",
          "y": 18.25,
          "yref": "y"
         },
         {
          "font": {
           "size": 10
          },
          "showarrow": false,
          "text": "🌑",
          "x": "2024-07-07T23:00:00+00:00",
          "xref": "x",
          "y": 17.5,
          "yref": "y"
         },
         {
          "font": {
           "size": 10
          },
          "showarrow": false,
          "text": "🌑",
          "x": "2024-07-08T00:00:00+00:00",
          "xref": "x",
          "y": 16.35,
          "yref": "y"
         },
         {
          "font": {
           "size": 10
          },
          "showarrow": false,
          "text": "🌑",
          "x": "2024-07-08T01:00:00+00:00",
          "xref": "x",
          "y": 16.05,
          "yref": "y"
         },
         {
          "font": {
           "size": 10
          },
          "showarrow": false,
          "text": "🌑",
          "x": "2024-07-08T02:00:00+00:00",
          "xref": "x",
          "y": 15.9,
          "yref": "y"
         },
         {
          "font": {
           "size": 10
          },
          "showarrow": false,
          "text": "🌑",
          "x": "2024-07-08T03:00:00+00:00",
          "xref": "x",
          "y": 15.25,
          "yref": "y"
         },
         {
          "font": {
           "size": 10
          },
          "showarrow": false,
          "text": "🌑",
          "x": "2024-07-08T04:00:00+00:00",
          "xref": "x",
          "y": 14.9,
          "yref": "y"
         },
         {
          "font": {
           "size": 10
          },
          "showarrow": false,
          "text": "🌑",
          "x": "2024-07-08T05:00:00+00:00",
          "xref": "x",
          "y": 16.25,
          "yref": "y"
         },
         {
          "font": {
           "size": 10
          },
          "showarrow": false,
          "text": "☀️",
          "x": "2024-07-08T06:00:00+00:00",
          "xref": "x",
          "y": 18.95,
          "yref": "y"
         },
         {
          "font": {
           "size": 10
          },
          "showarrow": false,
          "text": "☀️",
          "x": "2024-07-08T07:00:00+00:00",
          "xref": "x",
          "y": 21.35,
          "yref": "y"
         },
         {
          "font": {
           "size": 10
          },
          "showarrow": false,
          "text": "☀️",
          "x": "2024-07-08T08:00:00+00:00",
          "xref": "x",
          "y": 23.65,
          "yref": "y"
         },
         {
          "font": {
           "size": 10
          },
          "showarrow": false,
          "text": "☀️",
          "x": "2024-07-08T09:00:00+00:00",
          "xref": "x",
          "y": 25.9,
          "yref": "y"
         },
         {
          "font": {
           "size": 10
          },
          "showarrow": false,
          "text": "☀️",
          "x": "2024-07-08T10:00:00+00:00",
          "xref": "x",
          "y": 26.65,
          "yref": "y"
         },
         {
          "font": {
           "size": 10
          },
          "showarrow": false,
          "text": "☀️",
          "x": "2024-07-08T11:00:00+00:00",
          "xref": "x",
          "y": 26.5,
          "yref": "y"
         },
         {
          "font": {
           "size": 10
          },
          "showarrow": false,
          "text": "☀️",
          "x": "2024-07-08T12:00:00+00:00",
          "xref": "x",
          "y": 27.45,
          "yref": "y"
         },
         {
          "font": {
           "size": 10
          },
          "showarrow": false,
          "text": "☀️",
          "x": "2024-07-08T13:00:00+00:00",
          "xref": "x",
          "y": 27.85,
          "yref": "y"
         },
         {
          "font": {
           "size": 10
          },
          "showarrow": false,
          "text": "☀️",
          "x": "2024-07-08T14:00:00+00:00",
          "xref": "x",
          "y": 28.2,
          "yref": "y"
         },
         {
          "font": {
           "size": 10
          },
          "showarrow": false,
          "text": "☀️",
          "x": "2024-07-08T15:00:00+00:00",
          "xref": "x",
          "y": 27.7,
          "yref": "y"
         },
         {
          "font": {
           "size": 10
          },
          "showarrow": false,
          "text": "☀️",
          "x": "2024-07-08T16:00:00+00:00",
          "xref": "x",
          "y": 27.2,
          "yref": "y"
         },
         {
          "font": {
           "size": 10
          },
          "showarrow": false,
          "text": "☀️",
          "x": "2024-07-08T17:00:00+00:00",
          "xref": "x",
          "y": 27.15,
          "yref": "y"
         },
         {
          "font": {
           "size": 10
          },
          "showarrow": false,
          "text": "☀️",
          "x": "2024-07-08T18:00:00+00:00",
          "xref": "x",
          "y": 27.05,
          "yref": "y"
         },
         {
          "font": {
           "size": 10
          },
          "showarrow": false,
          "text": "🌑",
          "x": "2024-07-08T19:00:00+00:00",
          "xref": "x",
          "y": 25.2,
          "yref": "y"
         },
         {
          "font": {
           "size": 10
          },
          "showarrow": false,
          "text": "🌑",
          "x": "2024-07-08T20:00:00+00:00",
          "xref": "x",
          "y": 23.3,
          "yref": "y"
         },
         {
          "font": {
           "size": 10
          },
          "showarrow": false,
          "text": "🌑",
          "x": "2024-07-08T21:00:00+00:00",
          "xref": "x",
          "y": 21.6,
          "yref": "y"
         },
         {
          "font": {
           "size": 10
          },
          "showarrow": false,
          "text": "🌑",
          "x": "2024-07-08T22:00:00+00:00",
          "xref": "x",
          "y": 20.75,
          "yref": "y"
         },
         {
          "font": {
           "size": 10
          },
          "showarrow": false,
          "text": "🌑",
          "x": "2024-07-08T23:00:00+00:00",
          "xref": "x",
          "y": 20.2,
          "yref": "y"
         },
         {
          "font": {
           "size": 10
          },
          "showarrow": false,
          "text": "🌑",
          "x": "2024-07-09T00:00:00+00:00",
          "xref": "x",
          "y": 20.75,
          "yref": "y"
         },
         {
          "font": {
           "size": 10
          },
          "showarrow": false,
          "text": "🌑",
          "x": "2024-07-09T01:00:00+00:00",
          "xref": "x",
          "y": 20.05,
          "yref": "y"
         },
         {
          "font": {
           "size": 10
          },
          "showarrow": false,
          "text": "🌑",
          "x": "2024-07-09T02:00:00+00:00",
          "xref": "x",
          "y": 19.6,
          "yref": "y"
         },
         {
          "font": {
           "size": 10
          },
          "showarrow": false,
          "text": "🌑",
          "x": "2024-07-09T03:00:00+00:00",
          "xref": "x",
          "y": 20.15,
          "yref": "y"
         },
         {
          "font": {
           "size": 10
          },
          "showarrow": false,
          "text": "🌑",
          "x": "2024-07-09T04:00:00+00:00",
          "xref": "x",
          "y": 20.05,
          "yref": "y"
         },
         {
          "font": {
           "size": 10
          },
          "showarrow": false,
          "text": "🌑",
          "x": "2024-07-09T05:00:00+00:00",
          "xref": "x",
          "y": 20.8,
          "yref": "y"
         },
         {
          "font": {
           "size": 10
          },
          "showarrow": false,
          "text": "☀️",
          "x": "2024-07-09T06:00:00+00:00",
          "xref": "x",
          "y": 22.45,
          "yref": "y"
         },
         {
          "font": {
           "size": 10
          },
          "showarrow": false,
          "text": "☀️",
          "x": "2024-07-09T07:00:00+00:00",
          "xref": "x",
          "y": 24.55,
          "yref": "y"
         },
         {
          "font": {
           "size": 10
          },
          "showarrow": false,
          "text": "☀️",
          "x": "2024-07-09T08:00:00+00:00",
          "xref": "x",
          "y": 26.65,
          "yref": "y"
         },
         {
          "font": {
           "size": 10
          },
          "showarrow": false,
          "text": "☀️",
          "x": "2024-07-09T09:00:00+00:00",
          "xref": "x",
          "y": 29.6,
          "yref": "y"
         },
         {
          "font": {
           "size": 10
          },
          "showarrow": false,
          "text": "☀️",
          "x": "2024-07-09T10:00:00+00:00",
          "xref": "x",
          "y": 30.9,
          "yref": "y"
         },
         {
          "font": {
           "size": 10
          },
          "showarrow": false,
          "text": "☀️",
          "x": "2024-07-09T11:00:00+00:00",
          "xref": "x",
          "y": 31.85,
          "yref": "y"
         },
         {
          "font": {
           "size": 10
          },
          "showarrow": false,
          "text": "☀️",
          "x": "2024-07-09T12:00:00+00:00",
          "xref": "x",
          "y": 32.05,
          "yref": "y"
         },
         {
          "font": {
           "size": 10
          },
          "showarrow": false,
          "text": "☀️",
          "x": "2024-07-09T13:00:00+00:00",
          "xref": "x",
          "y": 32.5,
          "yref": "y"
         },
         {
          "font": {
           "size": 10
          },
          "showarrow": false,
          "text": "☀️",
          "x": "2024-07-09T14:00:00+00:00",
          "xref": "x",
          "y": 32.85,
          "yref": "y"
         },
         {
          "font": {
           "size": 10
          },
          "showarrow": false,
          "text": "☀️",
          "x": "2024-07-09T15:00:00+00:00",
          "xref": "x",
          "y": 33.1,
          "yref": "y"
         },
         {
          "font": {
           "size": 10
          },
          "showarrow": false,
          "text": "☀️",
          "x": "2024-07-09T16:00:00+00:00",
          "xref": "x",
          "y": 32.8,
          "yref": "y"
         },
         {
          "font": {
           "size": 10
          },
          "showarrow": false,
          "text": "☀️",
          "x": "2024-07-09T17:00:00+00:00",
          "xref": "x",
          "y": 32.55,
          "yref": "y"
         },
         {
          "font": {
           "size": 10
          },
          "showarrow": false,
          "text": "☀️",
          "x": "2024-07-09T18:00:00+00:00",
          "xref": "x",
          "y": 32.05,
          "yref": "y"
         },
         {
          "font": {
           "size": 10
          },
          "showarrow": false,
          "text": "🌑",
          "x": "2024-07-09T19:00:00+00:00",
          "xref": "x",
          "y": 30.4,
          "yref": "y"
         },
         {
          "font": {
           "size": 10
          },
          "showarrow": false,
          "text": "🌑",
          "x": "2024-07-09T20:00:00+00:00",
          "xref": "x",
          "y": 28.5,
          "yref": "y"
         },
         {
          "font": {
           "size": 10
          },
          "showarrow": false,
          "text": "🌑",
          "x": "2024-07-09T21:00:00+00:00",
          "xref": "x",
          "y": 26.9,
          "yref": "y"
         },
         {
          "font": {
           "size": 10
          },
          "showarrow": false,
          "text": "🌑",
          "x": "2024-07-09T22:00:00+00:00",
          "xref": "x",
          "y": 25.75,
          "yref": "y"
         },
         {
          "font": {
           "size": 10
          },
          "showarrow": false,
          "text": "🌑",
          "x": "2024-07-09T23:00:00+00:00",
          "xref": "x",
          "y": 25.05,
          "yref": "y"
         }
        ],
        "height": 800,
        "template": {
         "data": {
          "bar": [
           {
            "error_x": {
             "color": "#2a3f5f"
            },
            "error_y": {
             "color": "#2a3f5f"
            },
            "marker": {
             "line": {
              "color": "#E5ECF6",
              "width": 0.5
             },
             "pattern": {
              "fillmode": "overlay",
              "size": 10,
              "solidity": 0.2
             }
            },
            "type": "bar"
           }
          ],
          "barpolar": [
           {
            "marker": {
             "line": {
              "color": "#E5ECF6",
              "width": 0.5
             },
             "pattern": {
              "fillmode": "overlay",
              "size": 10,
              "solidity": 0.2
             }
            },
            "type": "barpolar"
           }
          ],
          "carpet": [
           {
            "aaxis": {
             "endlinecolor": "#2a3f5f",
             "gridcolor": "white",
             "linecolor": "white",
             "minorgridcolor": "white",
             "startlinecolor": "#2a3f5f"
            },
            "baxis": {
             "endlinecolor": "#2a3f5f",
             "gridcolor": "white",
             "linecolor": "white",
             "minorgridcolor": "white",
             "startlinecolor": "#2a3f5f"
            },
            "type": "carpet"
           }
          ],
          "choropleth": [
           {
            "colorbar": {
             "outlinewidth": 0,
             "ticks": ""
            },
            "type": "choropleth"
           }
          ],
          "contour": [
           {
            "colorbar": {
             "outlinewidth": 0,
             "ticks": ""
            },
            "colorscale": [
             [
              0,
              "#0d0887"
             ],
             [
              0.1111111111111111,
              "#46039f"
             ],
             [
              0.2222222222222222,
              "#7201a8"
             ],
             [
              0.3333333333333333,
              "#9c179e"
             ],
             [
              0.4444444444444444,
              "#bd3786"
             ],
             [
              0.5555555555555556,
              "#d8576b"
             ],
             [
              0.6666666666666666,
              "#ed7953"
             ],
             [
              0.7777777777777778,
              "#fb9f3a"
             ],
             [
              0.8888888888888888,
              "#fdca26"
             ],
             [
              1,
              "#f0f921"
             ]
            ],
            "type": "contour"
           }
          ],
          "contourcarpet": [
           {
            "colorbar": {
             "outlinewidth": 0,
             "ticks": ""
            },
            "type": "contourcarpet"
           }
          ],
          "heatmap": [
           {
            "colorbar": {
             "outlinewidth": 0,
             "ticks": ""
            },
            "colorscale": [
             [
              0,
              "#0d0887"
             ],
             [
              0.1111111111111111,
              "#46039f"
             ],
             [
              0.2222222222222222,
              "#7201a8"
             ],
             [
              0.3333333333333333,
              "#9c179e"
             ],
             [
              0.4444444444444444,
              "#bd3786"
             ],
             [
              0.5555555555555556,
              "#d8576b"
             ],
             [
              0.6666666666666666,
              "#ed7953"
             ],
             [
              0.7777777777777778,
              "#fb9f3a"
             ],
             [
              0.8888888888888888,
              "#fdca26"
             ],
             [
              1,
              "#f0f921"
             ]
            ],
            "type": "heatmap"
           }
          ],
          "heatmapgl": [
           {
            "colorbar": {
             "outlinewidth": 0,
             "ticks": ""
            },
            "colorscale": [
             [
              0,
              "#0d0887"
             ],
             [
              0.1111111111111111,
              "#46039f"
             ],
             [
              0.2222222222222222,
              "#7201a8"
             ],
             [
              0.3333333333333333,
              "#9c179e"
             ],
             [
              0.4444444444444444,
              "#bd3786"
             ],
             [
              0.5555555555555556,
              "#d8576b"
             ],
             [
              0.6666666666666666,
              "#ed7953"
             ],
             [
              0.7777777777777778,
              "#fb9f3a"
             ],
             [
              0.8888888888888888,
              "#fdca26"
             ],
             [
              1,
              "#f0f921"
             ]
            ],
            "type": "heatmapgl"
           }
          ],
          "histogram": [
           {
            "marker": {
             "pattern": {
              "fillmode": "overlay",
              "size": 10,
              "solidity": 0.2
             }
            },
            "type": "histogram"
           }
          ],
          "histogram2d": [
           {
            "colorbar": {
             "outlinewidth": 0,
             "ticks": ""
            },
            "colorscale": [
             [
              0,
              "#0d0887"
             ],
             [
              0.1111111111111111,
              "#46039f"
             ],
             [
              0.2222222222222222,
              "#7201a8"
             ],
             [
              0.3333333333333333,
              "#9c179e"
             ],
             [
              0.4444444444444444,
              "#bd3786"
             ],
             [
              0.5555555555555556,
              "#d8576b"
             ],
             [
              0.6666666666666666,
              "#ed7953"
             ],
             [
              0.7777777777777778,
              "#fb9f3a"
             ],
             [
              0.8888888888888888,
              "#fdca26"
             ],
             [
              1,
              "#f0f921"
             ]
            ],
            "type": "histogram2d"
           }
          ],
          "histogram2dcontour": [
           {
            "colorbar": {
             "outlinewidth": 0,
             "ticks": ""
            },
            "colorscale": [
             [
              0,
              "#0d0887"
             ],
             [
              0.1111111111111111,
              "#46039f"
             ],
             [
              0.2222222222222222,
              "#7201a8"
             ],
             [
              0.3333333333333333,
              "#9c179e"
             ],
             [
              0.4444444444444444,
              "#bd3786"
             ],
             [
              0.5555555555555556,
              "#d8576b"
             ],
             [
              0.6666666666666666,
              "#ed7953"
             ],
             [
              0.7777777777777778,
              "#fb9f3a"
             ],
             [
              0.8888888888888888,
              "#fdca26"
             ],
             [
              1,
              "#f0f921"
             ]
            ],
            "type": "histogram2dcontour"
           }
          ],
          "mesh3d": [
           {
            "colorbar": {
             "outlinewidth": 0,
             "ticks": ""
            },
            "type": "mesh3d"
           }
          ],
          "parcoords": [
           {
            "line": {
             "colorbar": {
              "outlinewidth": 0,
              "ticks": ""
             }
            },
            "type": "parcoords"
           }
          ],
          "pie": [
           {
            "automargin": true,
            "type": "pie"
           }
          ],
          "scatter": [
           {
            "fillpattern": {
             "fillmode": "overlay",
             "size": 10,
             "solidity": 0.2
            },
            "type": "scatter"
           }
          ],
          "scatter3d": [
           {
            "line": {
             "colorbar": {
              "outlinewidth": 0,
              "ticks": ""
             }
            },
            "marker": {
             "colorbar": {
              "outlinewidth": 0,
              "ticks": ""
             }
            },
            "type": "scatter3d"
           }
          ],
          "scattercarpet": [
           {
            "marker": {
             "colorbar": {
              "outlinewidth": 0,
              "ticks": ""
             }
            },
            "type": "scattercarpet"
           }
          ],
          "scattergeo": [
           {
            "marker": {
             "colorbar": {
              "outlinewidth": 0,
              "ticks": ""
             }
            },
            "type": "scattergeo"
           }
          ],
          "scattergl": [
           {
            "marker": {
             "colorbar": {
              "outlinewidth": 0,
              "ticks": ""
             }
            },
            "type": "scattergl"
           }
          ],
          "scattermapbox": [
           {
            "marker": {
             "colorbar": {
              "outlinewidth": 0,
              "ticks": ""
             }
            },
            "type": "scattermapbox"
           }
          ],
          "scatterpolar": [
           {
            "marker": {
             "colorbar": {
              "outlinewidth": 0,
              "ticks": ""
             }
            },
            "type": "scatterpolar"
           }
          ],
          "scatterpolargl": [
           {
            "marker": {
             "colorbar": {
              "outlinewidth": 0,
              "ticks": ""
             }
            },
            "type": "scatterpolargl"
           }
          ],
          "scatterternary": [
           {
            "marker": {
             "colorbar": {
              "outlinewidth": 0,
              "ticks": ""
             }
            },
            "type": "scatterternary"
           }
          ],
          "surface": [
           {
            "colorbar": {
             "outlinewidth": 0,
             "ticks": ""
            },
            "colorscale": [
             [
              0,
              "#0d0887"
             ],
             [
              0.1111111111111111,
              "#46039f"
             ],
             [
              0.2222222222222222,
              "#7201a8"
             ],
             [
              0.3333333333333333,
              "#9c179e"
             ],
             [
              0.4444444444444444,
              "#bd3786"
             ],
             [
              0.5555555555555556,
              "#d8576b"
             ],
             [
              0.6666666666666666,
              "#ed7953"
             ],
             [
              0.7777777777777778,
              "#fb9f3a"
             ],
             [
              0.8888888888888888,
              "#fdca26"
             ],
             [
              1,
              "#f0f921"
             ]
            ],
            "type": "surface"
           }
          ],
          "table": [
           {
            "cells": {
             "fill": {
              "color": "#EBF0F8"
             },
             "line": {
              "color": "white"
             }
            },
            "header": {
             "fill": {
              "color": "#C8D4E3"
             },
             "line": {
              "color": "white"
             }
            },
            "type": "table"
           }
          ]
         },
         "layout": {
          "annotationdefaults": {
           "arrowcolor": "#2a3f5f",
           "arrowhead": 0,
           "arrowwidth": 1
          },
          "autotypenumbers": "strict",
          "coloraxis": {
           "colorbar": {
            "outlinewidth": 0,
            "ticks": ""
           }
          },
          "colorscale": {
           "diverging": [
            [
             0,
             "#8e0152"
            ],
            [
             0.1,
             "#c51b7d"
            ],
            [
             0.2,
             "#de77ae"
            ],
            [
             0.3,
             "#f1b6da"
            ],
            [
             0.4,
             "#fde0ef"
            ],
            [
             0.5,
             "#f7f7f7"
            ],
            [
             0.6,
             "#e6f5d0"
            ],
            [
             0.7,
             "#b8e186"
            ],
            [
             0.8,
             "#7fbc41"
            ],
            [
             0.9,
             "#4d9221"
            ],
            [
             1,
             "#276419"
            ]
           ],
           "sequential": [
            [
             0,
             "#0d0887"
            ],
            [
             0.1111111111111111,
             "#46039f"
            ],
            [
             0.2222222222222222,
             "#7201a8"
            ],
            [
             0.3333333333333333,
             "#9c179e"
            ],
            [
             0.4444444444444444,
             "#bd3786"
            ],
            [
             0.5555555555555556,
             "#d8576b"
            ],
            [
             0.6666666666666666,
             "#ed7953"
            ],
            [
             0.7777777777777778,
             "#fb9f3a"
            ],
            [
             0.8888888888888888,
             "#fdca26"
            ],
            [
             1,
             "#f0f921"
            ]
           ],
           "sequentialminus": [
            [
             0,
             "#0d0887"
            ],
            [
             0.1111111111111111,
             "#46039f"
            ],
            [
             0.2222222222222222,
             "#7201a8"
            ],
            [
             0.3333333333333333,
             "#9c179e"
            ],
            [
             0.4444444444444444,
             "#bd3786"
            ],
            [
             0.5555555555555556,
             "#d8576b"
            ],
            [
             0.6666666666666666,
             "#ed7953"
            ],
            [
             0.7777777777777778,
             "#fb9f3a"
            ],
            [
             0.8888888888888888,
             "#fdca26"
            ],
            [
             1,
             "#f0f921"
            ]
           ]
          },
          "colorway": [
           "#636efa",
           "#EF553B",
           "#00cc96",
           "#ab63fa",
           "#FFA15A",
           "#19d3f3",
           "#FF6692",
           "#B6E880",
           "#FF97FF",
           "#FECB52"
          ],
          "font": {
           "color": "#2a3f5f"
          },
          "geo": {
           "bgcolor": "white",
           "lakecolor": "white",
           "landcolor": "#E5ECF6",
           "showlakes": true,
           "showland": true,
           "subunitcolor": "white"
          },
          "hoverlabel": {
           "align": "left"
          },
          "hovermode": "closest",
          "mapbox": {
           "style": "light"
          },
          "paper_bgcolor": "white",
          "plot_bgcolor": "#E5ECF6",
          "polar": {
           "angularaxis": {
            "gridcolor": "white",
            "linecolor": "white",
            "ticks": ""
           },
           "bgcolor": "#E5ECF6",
           "radialaxis": {
            "gridcolor": "white",
            "linecolor": "white",
            "ticks": ""
           }
          },
          "scene": {
           "xaxis": {
            "backgroundcolor": "#E5ECF6",
            "gridcolor": "white",
            "gridwidth": 2,
            "linecolor": "white",
            "showbackground": true,
            "ticks": "",
            "zerolinecolor": "white"
           },
           "yaxis": {
            "backgroundcolor": "#E5ECF6",
            "gridcolor": "white",
            "gridwidth": 2,
            "linecolor": "white",
            "showbackground": true,
            "ticks": "",
            "zerolinecolor": "white"
           },
           "zaxis": {
            "backgroundcolor": "#E5ECF6",
            "gridcolor": "white",
            "gridwidth": 2,
            "linecolor": "white",
            "showbackground": true,
            "ticks": "",
            "zerolinecolor": "white"
           }
          },
          "shapedefaults": {
           "line": {
            "color": "#2a3f5f"
           }
          },
          "ternary": {
           "aaxis": {
            "gridcolor": "white",
            "linecolor": "white",
            "ticks": ""
           },
           "baxis": {
            "gridcolor": "white",
            "linecolor": "white",
            "ticks": ""
           },
           "bgcolor": "#E5ECF6",
           "caxis": {
            "gridcolor": "white",
            "linecolor": "white",
            "ticks": ""
           }
          },
          "title": {
           "x": 0.05
          },
          "xaxis": {
           "automargin": true,
           "gridcolor": "white",
           "linecolor": "white",
           "ticks": "",
           "title": {
            "standoff": 15
           },
           "zerolinecolor": "white",
           "zerolinewidth": 2
          },
          "yaxis": {
           "automargin": true,
           "gridcolor": "white",
           "linecolor": "white",
           "ticks": "",
           "title": {
            "standoff": 15
           },
           "zerolinecolor": "white",
           "zerolinewidth": 2
          }
         }
        },
        "title": {
         "font": {
          "size": 30,
          "weight": "bold"
         },
         "text": "Weather Forecast Hourly",
         "x": 0.5
        },
        "width": 1200,
        "xaxis": {
         "anchor": "y",
         "domain": [
          0,
          1
         ],
         "matches": "x4",
         "showticklabels": false
        },
        "xaxis2": {
         "anchor": "y2",
         "domain": [
          0,
          1
         ],
         "matches": "x4",
         "showticklabels": false
        },
        "xaxis3": {
         "anchor": "y3",
         "domain": [
          0,
          1
         ],
         "matches": "x4",
         "showticklabels": false
        },
        "xaxis4": {
         "anchor": "y4",
         "domain": [
          0,
          1
         ]
        },
        "yaxis": {
         "anchor": "x",
         "domain": [
          0.7575000000000001,
          1
         ],
         "title": {
          "font": {
           "weight": "bold"
          },
          "text": "Temperature (°C)"
         }
        },
        "yaxis2": {
         "anchor": "x2",
         "domain": [
          0.505,
          0.7475
         ],
         "title": {
          "font": {
           "weight": "bold"
          },
          "text": "Humidity (%)"
         }
        },
        "yaxis3": {
         "anchor": "x3",
         "domain": [
          0.2525,
          0.495
         ],
         "title": {
          "font": {
           "weight": "bold"
          },
          "text": "Wind Speed (Km/h)"
         }
        },
        "yaxis4": {
         "anchor": "x4",
         "domain": [
          0,
          0.2425
         ],
         "title": {
          "font": {
           "weight": "bold"
          },
          "text": "Precipitations (mm)"
         }
        }
       }
      }
     },
     "metadata": {},
     "output_type": "display_data"
    }
   ],
   "source": [
    "fig = go.Figure()\n",
    "\n",
    "# Create a subplot layout: 4 rows, 1 column, shared x-axis\n",
    "fig = make_subplots(rows=4, cols=1, shared_xaxes=True, vertical_spacing=0.01)\n",
    "\n",
    "# Add the temperature trace to the first subplot\n",
    "fig.add_trace(go.Scatter(x=hourly_dataframe['date'], y=hourly_dataframe['temperature_2m'].round(2),\n",
    "                         mode='lines+markers',\n",
    "                         name='Temperature',\n",
    "                         line=dict(color='red', width=2),\n",
    "                         hoverinfo='x+y',\n",
    "                         hovertemplate='Date: %{x}<br>Temperature: %{y}°C<extra></extra>'),\n",
    "              row=1, col=1)\n",
    "\n",
    "# Add the humidity trace to the second subplot\n",
    "fig.add_trace(go.Scatter(x=hourly_dataframe['date'], y=hourly_dataframe['relative_humidity_2m'],\n",
    "                         mode='lines+markers',\n",
    "                         name='Humidity',\n",
    "                         line=dict(color='brown', width=2),\n",
    "                         hoverinfo='x+y',\n",
    "                         hovertemplate='Date: %{x}<br>Humidity: %{y}%<extra></extra>'),\n",
    "              row=2, col=1)\n",
    "\n",
    "# Add the wind speed trace to the third subplot\n",
    "fig.add_trace(go.Scatter(x=hourly_dataframe['date'], y=hourly_dataframe['wind_speed_10m'].round(2),\n",
    "                         mode='lines+markers',\n",
    "                         name='Wind Speed',\n",
    "                         line=dict(color='green', width=2),\n",
    "                         hoverinfo='x+y',\n",
    "                         hovertemplate='Date: %{x}<br>Wind Speed:%{y} Km/h <extra></extra>'),\n",
    "              row=3, col=1)\n",
    "\n",
    "# Add the precipitation trace to the third subplot\n",
    "fig.add_trace(go.Scatter(x=hourly_dataframe['date'], y=hourly_dataframe['precipitation'].round(2),\n",
    "                         mode='lines+markers',\n",
    "                         name='Precipitations',\n",
    "                         line=dict(color='blue', width=2),\n",
    "                         hoverinfo='x+y',\n",
    "                         hovertemplate='Date: %{x}<br>Precipitation:%{y} mm <extra></extra>'),\n",
    "              row=4, col=1)\n",
    "\n",
    "#offset of the figure with respect to the point\n",
    "fixed_offset = 3\n",
    "\n",
    "# Iterate through the dataframe and add annotations\n",
    "for index, row in hourly_dataframe.iterrows():\n",
    "    hour = row['date'].hour\n",
    "    # Determine if it's day (6 AM to 6 PM) or night\n",
    "    if 6 <= hour <= 18:\n",
    "        symbol = '☀️'  # Sun symbol for day\n",
    "    else:\n",
    "        symbol = '🌑'  # Moon symbol for night\n",
    "    \n",
    "    # Add annotation for each point\n",
    "    fig.add_annotation(x=row['date'], y=round(row['temperature_2m'], 2) + 2,  # Adjust Y to place the symbol above the point\n",
    "                       text=symbol,\n",
    "                       showarrow=False,\n",
    "                       font=dict(size=10),  # Adjust font size as needed\n",
    "                       row=1, col=1)\n",
    "\n",
    "# Update y-axes titles\n",
    "fig.update_yaxes(title_text=\"Temperature (°C)\", title_font=dict(weight='bold'), row=1, col=1)\n",
    "fig.update_yaxes(title_text=\"Humidity (%)\", title_font=dict(weight='bold'), row=2, col=1)\n",
    "fig.update_yaxes(title_text=\"Wind Speed (Km/h)\", title_font=dict(weight='bold'), row=3, col=1)\n",
    "fig.update_yaxes(title_text=\"Precipitations (mm)\", title_font=dict(weight='bold'), row=4, col=1)\n",
    "\n",
    "# Update layout (optional adjustments)\n",
    "fig.update_layout(height=800, width=1200, title_text=\"Weather Forecast Hourly\", title_font=dict(size=30, weight='bold'), title_x=0.5)\n",
    "\n",
    "# Show the plot\n",
    "fig.show()"
   ]
  },
  {
   "cell_type": "code",
   "execution_count": 63,
   "metadata": {},
   "outputs": [],
   "source": [
    "#fig.write_html(\"../images/weather_forecast_hourly.html\")"
   ]
  }
 ],
 "metadata": {
  "kernelspec": {
   "display_name": "agro_eye_notebooks",
   "language": "python",
   "name": "python3"
  },
  "language_info": {
   "codemirror_mode": {
    "name": "ipython",
    "version": 3
   },
   "file_extension": ".py",
   "mimetype": "text/x-python",
   "name": "python",
   "nbconvert_exporter": "python",
   "pygments_lexer": "ipython3",
   "version": "3.11.9"
  }
 },
 "nbformat": 4,
 "nbformat_minor": 2
}
