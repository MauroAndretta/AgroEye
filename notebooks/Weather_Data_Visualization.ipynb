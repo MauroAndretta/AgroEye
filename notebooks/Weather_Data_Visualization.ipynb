{
 "cells": [
  {
   "cell_type": "markdown",
   "metadata": {},
   "source": [
    "# Weather Data Visualization Notebook\n",
    "\n",
    "Welcome to the Weather Data Visualization Notebook! This notebook is designed to help you fetch and visualize weather data for the past N (N>0) days.\n",
    "\n",
    "## Setup Instructions\n",
    "\n",
    "Before you start using this notebook, please follow these steps to set up the Conda environment:\n",
    "\n",
    "1. **Create and Activate the Conda Environment**:\n",
    "   \n",
    "   Ensure you have Conda installed. Open a terminal and navigate to the root directory of the repository. Run the following command to create a new Conda environment based on the `agro_eye_notebooks.yaml` file located in the `conda` folder:\n",
    "\n",
    "   ```bash\n",
    "   conda env create -f conda/agro_eye_notebooks.yaml\n",
    "   ```\n",
    "### Install env variable\n",
    "\n",
    "Put the following env variables in your `~/.env`:\n",
    "- \"URL_OPEN-METEO\"\n"
   ]
  },
  {
   "cell_type": "code",
   "execution_count": 41,
   "metadata": {},
   "outputs": [],
   "source": [
    "# Import the necessary libraries\n",
    "import requests\n",
    "import json\n",
    "from dotenv import load_dotenv\n",
    "import os\n",
    "import openmeteo_requests\n",
    "import requests_cache\n",
    "import pandas as pd\n",
    "import numpy as np\n",
    "from retry_requests import retry\n",
    "import matplotlib as mpl\n",
    "from matplotlib import pyplot as plt\n",
    "import plotly.graph_objects as go\n",
    "from plotly.subplots import make_subplots"
   ]
  },
  {
   "cell_type": "code",
   "execution_count": 2,
   "metadata": {},
   "outputs": [
    {
     "data": {
      "text/plain": [
       "True"
      ]
     },
     "execution_count": 2,
     "metadata": {},
     "output_type": "execute_result"
    }
   ],
   "source": [
    "load_dotenv(dotenv_path=os.path.expanduser(\"~/.env\"))"
   ]
  },
  {
   "cell_type": "code",
   "execution_count": 3,
   "metadata": {},
   "outputs": [],
   "source": [
    "default_env = {\n",
    "    \"URL_OPEN-METEO\",\n",
    "}"
   ]
  },
  {
   "cell_type": "code",
   "execution_count": 4,
   "metadata": {},
   "outputs": [],
   "source": [
    "for env in default_env:\n",
    "    if env not in os.environ:\n",
    "        raise Exception(f\"Missing environment variable: {env}. Please add it to your ~/.env file\")"
   ]
  },
  {
   "cell_type": "markdown",
   "metadata": {},
   "source": [
    "Fetch historical Weather Forcast. The information has been fecthed from [here](https://open-meteo.com/en/docs#hourly=&daily=weather_code,temperature_2m_max,temperature_2m_min,apparent_temperature_max,apparent_temperature_min,sunrise,sunset,daylight_duration,uv_index_max,precipitation_sum,rain_sum,snowfall_sum,precipitation_hours,wind_speed_10m_max,shortwave_radiation_sum,et0_fao_evapotranspiration&start_date=2024-07-01&end_date=2024-07-09&time_mode=time_interval)"
   ]
  },
  {
   "cell_type": "code",
   "execution_count": 5,
   "metadata": {},
   "outputs": [],
   "source": [
    "# Setup the Open-Meteo API client with cache and retry on error\n",
    "cache_session = requests_cache.CachedSession('.cache', expire_after = 3600)\n",
    "retry_session = retry(cache_session, retries = 5, backoff_factor = 0.2)\n",
    "openmeteo = openmeteo_requests.Client(session = retry_session)"
   ]
  },
  {
   "cell_type": "markdown",
   "metadata": {},
   "source": [
    "#### Query for daily information"
   ]
  },
  {
   "cell_type": "code",
   "execution_count": 6,
   "metadata": {},
   "outputs": [],
   "source": [
    "\n",
    "# Make sure all required weather variables are listed here\n",
    "# The order of variables in hourly or daily is important to assign them correctly below\n",
    "params = {\n",
    "\t\"latitude\": 52.52,\n",
    "\t\"longitude\": 13.41,\n",
    "\t\"daily\": [\"weather_code\", \"temperature_2m_max\", \"temperature_2m_min\", \"apparent_temperature_max\", \"apparent_temperature_min\", \"sunrise\", \"sunset\", \"daylight_duration\", \"uv_index_max\", \"precipitation_sum\", \"rain_sum\", \"snowfall_sum\", \"precipitation_hours\", \"wind_speed_10m_max\", \"shortwave_radiation_sum\", \"et0_fao_evapotranspiration\"],\n",
    "\t\"start_date\": \"2024-07-01\",\n",
    "\t\"end_date\": \"2024-07-09\"\n",
    "}\n",
    "responses = openmeteo.weather_api(os.environ[\"URL_OPEN-METEO\"], params=params)"
   ]
  },
  {
   "cell_type": "code",
   "execution_count": 7,
   "metadata": {},
   "outputs": [
    {
     "name": "stdout",
     "output_type": "stream",
     "text": [
      "Coordinates 52.52000045776367°N 13.419998168945312°E\n",
      "Elevation 38.0 m asl\n",
      "Timezone None None\n",
      "Timezone difference to GMT+0 0 s\n"
     ]
    }
   ],
   "source": [
    "\n",
    "# Process first location. Add a for-loop for multiple locations or weather models\n",
    "response = responses[0]\n",
    "print(f\"Coordinates {response.Latitude()}°N {response.Longitude()}°E\")\n",
    "print(f\"Elevation {response.Elevation()} m asl\")\n",
    "print(f\"Timezone {response.Timezone()} {response.TimezoneAbbreviation()}\")\n",
    "print(f\"Timezone difference to GMT+0 {response.UtcOffsetSeconds()} s\")"
   ]
  },
  {
   "cell_type": "code",
   "execution_count": 29,
   "metadata": {},
   "outputs": [],
   "source": [
    "# Process daily data. The order of variables needs to be the same as requested.\n",
    "\n",
    "daily = response.Daily()\n",
    "daily_weather_code = daily.Variables(0).ValuesAsNumpy()\n",
    "daily_temperature_2m_max = daily.Variables(1).ValuesAsNumpy()\n",
    "daily_temperature_2m_min = daily.Variables(2).ValuesAsNumpy()\n",
    "#daily_apparent_temperature_max = daily.Variables(3).ValuesAsNumpy()\n",
    "#daily_apparent_temperature_min = daily.Variables(4).ValuesAsNumpy()\n",
    "#daily_sunrise = daily.Variables(5).ValuesAsNumpy()\n",
    "#daily_sunset = daily.Variables(6).ValuesAsNumpy()\n",
    "daily_daylight_duration = daily.Variables(7).ValuesAsNumpy()\n",
    "daily_uv_index_max = daily.Variables(8).ValuesAsNumpy()\n",
    "daily_precipitation_sum = daily.Variables(9).ValuesAsNumpy()\n",
    "daily_rain_sum = daily.Variables(10).ValuesAsNumpy()\n",
    "daily_snowfall_sum = daily.Variables(11).ValuesAsNumpy()\n",
    "daily_precipitation_hours = daily.Variables(12).ValuesAsNumpy()\n",
    "daily_wind_speed_10m_max = daily.Variables(13).ValuesAsNumpy()\n",
    "daily_shortwave_radiation_sum = daily.Variables(14).ValuesAsNumpy()\n",
    "daily_et0_fao_evapotranspiration = daily.Variables(15).ValuesAsNumpy()\n"
   ]
  },
  {
   "cell_type": "code",
   "execution_count": 79,
   "metadata": {},
   "outputs": [],
   "source": [
    "# Create a pandas DataFrame with the daily data\n",
    "daily_data = {\"date\": pd.date_range(\n",
    "\tstart = pd.to_datetime(daily.Time(), unit = \"s\", utc = True),\n",
    "\tend = pd.to_datetime(daily.TimeEnd(), unit = \"s\", utc = True),\n",
    "\tfreq = pd.Timedelta(seconds = daily.Interval()),\n",
    "\tinclusive = \"left\"\n",
    ")}\n",
    "\n",
    "#daily_data[\"weather_code\"] = daily_weather_code\n",
    "daily_data[\"temperature_2m_max\"] = daily_temperature_2m_max\n",
    "daily_data[\"temperature_2m_min\"] = daily_temperature_2m_min\n",
    "#daily_data[\"apparent_temperature_max\"] = daily_apparent_temperature_max\n",
    "#daily_data[\"apparent_temperature_min\"] = daily_apparent_temperature_min\n",
    "#daily_data[\"sunrise\"] = daily_sunrise\n",
    "#daily_data[\"sunset\"] = daily_sunset\n",
    "daily_data[\"daylight_duration\"] = daily_daylight_duration\n",
    "daily_data[\"uv_index_max\"] = daily_uv_index_max\n",
    "daily_data[\"precipitation_sum\"] = daily_precipitation_sum\n",
    "daily_data[\"rain_sum\"] = daily_rain_sum\n",
    "daily_data[\"snowfall_sum\"] = daily_snowfall_sum\n",
    "daily_data[\"precipitation_hours\"] = daily_precipitation_hours\n",
    "daily_data[\"wind_speed_10m_max\"] = daily_wind_speed_10m_max\n",
    "daily_data[\"shortwave_radiation_sum\"] = daily_shortwave_radiation_sum\n",
    "daily_data[\"et0_fao_evapotranspiration\"] = daily_et0_fao_evapotranspiration\n",
    "\n",
    "daily_data = pd.DataFrame(data = daily_data)"
   ]
  },
  {
   "cell_type": "code",
   "execution_count": 80,
   "metadata": {},
   "outputs": [
    {
     "data": {
      "text/html": [
       "<div>\n",
       "<style scoped>\n",
       "    .dataframe tbody tr th:only-of-type {\n",
       "        vertical-align: middle;\n",
       "    }\n",
       "\n",
       "    .dataframe tbody tr th {\n",
       "        vertical-align: top;\n",
       "    }\n",
       "\n",
       "    .dataframe thead th {\n",
       "        text-align: right;\n",
       "    }\n",
       "</style>\n",
       "<table border=\"1\" class=\"dataframe\">\n",
       "  <thead>\n",
       "    <tr style=\"text-align: right;\">\n",
       "      <th></th>\n",
       "      <th>date</th>\n",
       "      <th>temperature_2m_max</th>\n",
       "      <th>temperature_2m_min</th>\n",
       "      <th>daylight_duration</th>\n",
       "      <th>uv_index_max</th>\n",
       "      <th>precipitation_sum</th>\n",
       "      <th>rain_sum</th>\n",
       "      <th>snowfall_sum</th>\n",
       "      <th>precipitation_hours</th>\n",
       "      <th>wind_speed_10m_max</th>\n",
       "      <th>shortwave_radiation_sum</th>\n",
       "      <th>et0_fao_evapotranspiration</th>\n",
       "      <th>date_only</th>\n",
       "    </tr>\n",
       "  </thead>\n",
       "  <tbody>\n",
       "    <tr>\n",
       "      <th>0</th>\n",
       "      <td>2024-07-01 00:00:00+00:00</td>\n",
       "      <td>19.995501</td>\n",
       "      <td>14.345500</td>\n",
       "      <td>60238.945312</td>\n",
       "      <td>5.45</td>\n",
       "      <td>5.0</td>\n",
       "      <td>4.5</td>\n",
       "      <td>0.0</td>\n",
       "      <td>6.0</td>\n",
       "      <td>15.077082</td>\n",
       "      <td>10.270000</td>\n",
       "      <td>2.063751</td>\n",
       "      <td>2024-07-01</td>\n",
       "    </tr>\n",
       "    <tr>\n",
       "      <th>1</th>\n",
       "      <td>2024-07-02 00:00:00+00:00</td>\n",
       "      <td>17.295500</td>\n",
       "      <td>13.045500</td>\n",
       "      <td>60169.015625</td>\n",
       "      <td>3.95</td>\n",
       "      <td>1.4</td>\n",
       "      <td>1.4</td>\n",
       "      <td>0.0</td>\n",
       "      <td>6.0</td>\n",
       "      <td>16.171976</td>\n",
       "      <td>8.470000</td>\n",
       "      <td>1.728294</td>\n",
       "      <td>2024-07-02</td>\n",
       "    </tr>\n",
       "    <tr>\n",
       "      <th>2</th>\n",
       "      <td>2024-07-03 00:00:00+00:00</td>\n",
       "      <td>17.345499</td>\n",
       "      <td>12.645500</td>\n",
       "      <td>60093.476562</td>\n",
       "      <td>5.35</td>\n",
       "      <td>0.0</td>\n",
       "      <td>0.0</td>\n",
       "      <td>0.0</td>\n",
       "      <td>0.0</td>\n",
       "      <td>12.287555</td>\n",
       "      <td>12.530000</td>\n",
       "      <td>2.457802</td>\n",
       "      <td>2024-07-03</td>\n",
       "    </tr>\n",
       "    <tr>\n",
       "      <th>3</th>\n",
       "      <td>2024-07-04 00:00:00+00:00</td>\n",
       "      <td>18.895500</td>\n",
       "      <td>12.445499</td>\n",
       "      <td>60012.460938</td>\n",
       "      <td>4.35</td>\n",
       "      <td>2.8</td>\n",
       "      <td>2.7</td>\n",
       "      <td>0.0</td>\n",
       "      <td>6.0</td>\n",
       "      <td>20.380579</td>\n",
       "      <td>13.180000</td>\n",
       "      <td>2.446703</td>\n",
       "      <td>2024-07-04</td>\n",
       "    </tr>\n",
       "    <tr>\n",
       "      <th>4</th>\n",
       "      <td>2024-07-05 00:00:00+00:00</td>\n",
       "      <td>21.395500</td>\n",
       "      <td>10.795500</td>\n",
       "      <td>59926.093750</td>\n",
       "      <td>5.75</td>\n",
       "      <td>0.0</td>\n",
       "      <td>0.0</td>\n",
       "      <td>0.0</td>\n",
       "      <td>0.0</td>\n",
       "      <td>17.906157</td>\n",
       "      <td>19.959999</td>\n",
       "      <td>4.121593</td>\n",
       "      <td>2024-07-05</td>\n",
       "    </tr>\n",
       "  </tbody>\n",
       "</table>\n",
       "</div>"
      ],
      "text/plain": [
       "                       date  temperature_2m_max  temperature_2m_min  \\\n",
       "0 2024-07-01 00:00:00+00:00           19.995501           14.345500   \n",
       "1 2024-07-02 00:00:00+00:00           17.295500           13.045500   \n",
       "2 2024-07-03 00:00:00+00:00           17.345499           12.645500   \n",
       "3 2024-07-04 00:00:00+00:00           18.895500           12.445499   \n",
       "4 2024-07-05 00:00:00+00:00           21.395500           10.795500   \n",
       "\n",
       "   daylight_duration  uv_index_max  precipitation_sum  rain_sum  snowfall_sum  \\\n",
       "0       60238.945312          5.45                5.0       4.5           0.0   \n",
       "1       60169.015625          3.95                1.4       1.4           0.0   \n",
       "2       60093.476562          5.35                0.0       0.0           0.0   \n",
       "3       60012.460938          4.35                2.8       2.7           0.0   \n",
       "4       59926.093750          5.75                0.0       0.0           0.0   \n",
       "\n",
       "   precipitation_hours  wind_speed_10m_max  shortwave_radiation_sum  \\\n",
       "0                  6.0           15.077082                10.270000   \n",
       "1                  6.0           16.171976                 8.470000   \n",
       "2                  0.0           12.287555                12.530000   \n",
       "3                  6.0           20.380579                13.180000   \n",
       "4                  0.0           17.906157                19.959999   \n",
       "\n",
       "   et0_fao_evapotranspiration   date_only  \n",
       "0                    2.063751  2024-07-01  \n",
       "1                    1.728294  2024-07-02  \n",
       "2                    2.457802  2024-07-03  \n",
       "3                    2.446703  2024-07-04  \n",
       "4                    4.121593  2024-07-05  "
      ]
     },
     "execution_count": 80,
     "metadata": {},
     "output_type": "execute_result"
    }
   ],
   "source": [
    "daily_data.head()"
   ]
  },
  {
   "cell_type": "code",
   "execution_count": 67,
   "metadata": {},
   "outputs": [
    {
     "data": {
      "application/vnd.plotly.v1+json": {
       "config": {
        "plotlyServerURL": "https://plot.ly"
       },
       "data": [
        {
         "hoverinfo": "x+y",
         "hovertemplate": "Date: %{x}<br>MaxTemperature: %{y}°C<extra></extra>",
         "line": {
          "color": "red"
         },
         "mode": "lines+markers",
         "name": "Max Temperature",
         "showlegend": true,
         "type": "scatter",
         "x": [
          "2024-07-01T00:00:00+00:00",
          "2024-07-02T00:00:00+00:00",
          "2024-07-03T00:00:00+00:00",
          "2024-07-04T00:00:00+00:00",
          "2024-07-05T00:00:00+00:00",
          "2024-07-06T00:00:00+00:00",
          "2024-07-07T00:00:00+00:00",
          "2024-07-08T00:00:00+00:00",
          "2024-07-09T00:00:00+00:00"
         ],
         "xaxis": "x",
         "y": [
          20,
          17.299999237060547,
          17.350000381469727,
          18.899999618530273,
          21.399999618530273,
          31.100000381469727,
          22.600000381469727,
          26.200000762939453,
          31.100000381469727
         ],
         "yaxis": "y"
        },
        {
         "hoverinfo": "x+y",
         "hovertemplate": "Date: %{x}<br>Min Temperature: %{y}°C<extra></extra>",
         "line": {
          "color": "blue"
         },
         "mode": "lines+markers",
         "name": "Min Temperature",
         "showlegend": true,
         "type": "scatter",
         "x": [
          "2024-07-01T00:00:00+00:00",
          "2024-07-02T00:00:00+00:00",
          "2024-07-03T00:00:00+00:00",
          "2024-07-04T00:00:00+00:00",
          "2024-07-05T00:00:00+00:00",
          "2024-07-06T00:00:00+00:00",
          "2024-07-07T00:00:00+00:00",
          "2024-07-08T00:00:00+00:00",
          "2024-07-09T00:00:00+00:00"
         ],
         "xaxis": "x",
         "y": [
          14.350000381469727,
          13.050000190734863,
          12.649999618530273,
          12.449999809265137,
          10.800000190734863,
          14.649999618530273,
          15.149999618530273,
          12.899999618530273,
          17.600000381469727
         ],
         "yaxis": "y"
        },
        {
         "hoverinfo": "x+y",
         "hovertemplate": "Date: %{x}<br>Precipitation: %{y}mm<extra></extra>",
         "line": {
          "color": "lightgreen"
         },
         "mode": "lines+markers",
         "name": "Precipitation Sum",
         "type": "scatter",
         "x": [
          "2024-07-01T00:00:00+00:00",
          "2024-07-02T00:00:00+00:00",
          "2024-07-03T00:00:00+00:00",
          "2024-07-04T00:00:00+00:00",
          "2024-07-05T00:00:00+00:00",
          "2024-07-06T00:00:00+00:00",
          "2024-07-07T00:00:00+00:00",
          "2024-07-08T00:00:00+00:00",
          "2024-07-09T00:00:00+00:00"
         ],
         "xaxis": "x2",
         "y": [
          4.999999523162842,
          1.4000000953674316,
          0,
          2.8000001907348633,
          0,
          0.9000000357627869,
          0,
          0,
          0
         ],
         "yaxis": "y2"
        },
        {
         "hoverinfo": "x+y",
         "hovertemplate": "Date: %{x}<br>Wind Speed: %{y}Km/h<extra></extra>",
         "line": {
          "color": "lightblue"
         },
         "mode": "lines+markers",
         "name": "Wind Speed Max (10m)",
         "type": "scatter",
         "x": [
          "2024-07-01T00:00:00+00:00",
          "2024-07-02T00:00:00+00:00",
          "2024-07-03T00:00:00+00:00",
          "2024-07-04T00:00:00+00:00",
          "2024-07-05T00:00:00+00:00",
          "2024-07-06T00:00:00+00:00",
          "2024-07-07T00:00:00+00:00",
          "2024-07-08T00:00:00+00:00",
          "2024-07-09T00:00:00+00:00"
         ],
         "xaxis": "x3",
         "y": [
          15.079999923706055,
          16.170000076293945,
          12.289999961853027,
          20.3799991607666,
          17.90999984741211,
          31.450000762939453,
          15.630000114440918,
          12.680000305175781,
          12.960000038146973
         ],
         "yaxis": "y3"
        }
       ],
       "layout": {
        "height": 1000,
        "template": {
         "data": {
          "bar": [
           {
            "error_x": {
             "color": "#2a3f5f"
            },
            "error_y": {
             "color": "#2a3f5f"
            },
            "marker": {
             "line": {
              "color": "#E5ECF6",
              "width": 0.5
             },
             "pattern": {
              "fillmode": "overlay",
              "size": 10,
              "solidity": 0.2
             }
            },
            "type": "bar"
           }
          ],
          "barpolar": [
           {
            "marker": {
             "line": {
              "color": "#E5ECF6",
              "width": 0.5
             },
             "pattern": {
              "fillmode": "overlay",
              "size": 10,
              "solidity": 0.2
             }
            },
            "type": "barpolar"
           }
          ],
          "carpet": [
           {
            "aaxis": {
             "endlinecolor": "#2a3f5f",
             "gridcolor": "white",
             "linecolor": "white",
             "minorgridcolor": "white",
             "startlinecolor": "#2a3f5f"
            },
            "baxis": {
             "endlinecolor": "#2a3f5f",
             "gridcolor": "white",
             "linecolor": "white",
             "minorgridcolor": "white",
             "startlinecolor": "#2a3f5f"
            },
            "type": "carpet"
           }
          ],
          "choropleth": [
           {
            "colorbar": {
             "outlinewidth": 0,
             "ticks": ""
            },
            "type": "choropleth"
           }
          ],
          "contour": [
           {
            "colorbar": {
             "outlinewidth": 0,
             "ticks": ""
            },
            "colorscale": [
             [
              0,
              "#0d0887"
             ],
             [
              0.1111111111111111,
              "#46039f"
             ],
             [
              0.2222222222222222,
              "#7201a8"
             ],
             [
              0.3333333333333333,
              "#9c179e"
             ],
             [
              0.4444444444444444,
              "#bd3786"
             ],
             [
              0.5555555555555556,
              "#d8576b"
             ],
             [
              0.6666666666666666,
              "#ed7953"
             ],
             [
              0.7777777777777778,
              "#fb9f3a"
             ],
             [
              0.8888888888888888,
              "#fdca26"
             ],
             [
              1,
              "#f0f921"
             ]
            ],
            "type": "contour"
           }
          ],
          "contourcarpet": [
           {
            "colorbar": {
             "outlinewidth": 0,
             "ticks": ""
            },
            "type": "contourcarpet"
           }
          ],
          "heatmap": [
           {
            "colorbar": {
             "outlinewidth": 0,
             "ticks": ""
            },
            "colorscale": [
             [
              0,
              "#0d0887"
             ],
             [
              0.1111111111111111,
              "#46039f"
             ],
             [
              0.2222222222222222,
              "#7201a8"
             ],
             [
              0.3333333333333333,
              "#9c179e"
             ],
             [
              0.4444444444444444,
              "#bd3786"
             ],
             [
              0.5555555555555556,
              "#d8576b"
             ],
             [
              0.6666666666666666,
              "#ed7953"
             ],
             [
              0.7777777777777778,
              "#fb9f3a"
             ],
             [
              0.8888888888888888,
              "#fdca26"
             ],
             [
              1,
              "#f0f921"
             ]
            ],
            "type": "heatmap"
           }
          ],
          "heatmapgl": [
           {
            "colorbar": {
             "outlinewidth": 0,
             "ticks": ""
            },
            "colorscale": [
             [
              0,
              "#0d0887"
             ],
             [
              0.1111111111111111,
              "#46039f"
             ],
             [
              0.2222222222222222,
              "#7201a8"
             ],
             [
              0.3333333333333333,
              "#9c179e"
             ],
             [
              0.4444444444444444,
              "#bd3786"
             ],
             [
              0.5555555555555556,
              "#d8576b"
             ],
             [
              0.6666666666666666,
              "#ed7953"
             ],
             [
              0.7777777777777778,
              "#fb9f3a"
             ],
             [
              0.8888888888888888,
              "#fdca26"
             ],
             [
              1,
              "#f0f921"
             ]
            ],
            "type": "heatmapgl"
           }
          ],
          "histogram": [
           {
            "marker": {
             "pattern": {
              "fillmode": "overlay",
              "size": 10,
              "solidity": 0.2
             }
            },
            "type": "histogram"
           }
          ],
          "histogram2d": [
           {
            "colorbar": {
             "outlinewidth": 0,
             "ticks": ""
            },
            "colorscale": [
             [
              0,
              "#0d0887"
             ],
             [
              0.1111111111111111,
              "#46039f"
             ],
             [
              0.2222222222222222,
              "#7201a8"
             ],
             [
              0.3333333333333333,
              "#9c179e"
             ],
             [
              0.4444444444444444,
              "#bd3786"
             ],
             [
              0.5555555555555556,
              "#d8576b"
             ],
             [
              0.6666666666666666,
              "#ed7953"
             ],
             [
              0.7777777777777778,
              "#fb9f3a"
             ],
             [
              0.8888888888888888,
              "#fdca26"
             ],
             [
              1,
              "#f0f921"
             ]
            ],
            "type": "histogram2d"
           }
          ],
          "histogram2dcontour": [
           {
            "colorbar": {
             "outlinewidth": 0,
             "ticks": ""
            },
            "colorscale": [
             [
              0,
              "#0d0887"
             ],
             [
              0.1111111111111111,
              "#46039f"
             ],
             [
              0.2222222222222222,
              "#7201a8"
             ],
             [
              0.3333333333333333,
              "#9c179e"
             ],
             [
              0.4444444444444444,
              "#bd3786"
             ],
             [
              0.5555555555555556,
              "#d8576b"
             ],
             [
              0.6666666666666666,
              "#ed7953"
             ],
             [
              0.7777777777777778,
              "#fb9f3a"
             ],
             [
              0.8888888888888888,
              "#fdca26"
             ],
             [
              1,
              "#f0f921"
             ]
            ],
            "type": "histogram2dcontour"
           }
          ],
          "mesh3d": [
           {
            "colorbar": {
             "outlinewidth": 0,
             "ticks": ""
            },
            "type": "mesh3d"
           }
          ],
          "parcoords": [
           {
            "line": {
             "colorbar": {
              "outlinewidth": 0,
              "ticks": ""
             }
            },
            "type": "parcoords"
           }
          ],
          "pie": [
           {
            "automargin": true,
            "type": "pie"
           }
          ],
          "scatter": [
           {
            "fillpattern": {
             "fillmode": "overlay",
             "size": 10,
             "solidity": 0.2
            },
            "type": "scatter"
           }
          ],
          "scatter3d": [
           {
            "line": {
             "colorbar": {
              "outlinewidth": 0,
              "ticks": ""
             }
            },
            "marker": {
             "colorbar": {
              "outlinewidth": 0,
              "ticks": ""
             }
            },
            "type": "scatter3d"
           }
          ],
          "scattercarpet": [
           {
            "marker": {
             "colorbar": {
              "outlinewidth": 0,
              "ticks": ""
             }
            },
            "type": "scattercarpet"
           }
          ],
          "scattergeo": [
           {
            "marker": {
             "colorbar": {
              "outlinewidth": 0,
              "ticks": ""
             }
            },
            "type": "scattergeo"
           }
          ],
          "scattergl": [
           {
            "marker": {
             "colorbar": {
              "outlinewidth": 0,
              "ticks": ""
             }
            },
            "type": "scattergl"
           }
          ],
          "scattermapbox": [
           {
            "marker": {
             "colorbar": {
              "outlinewidth": 0,
              "ticks": ""
             }
            },
            "type": "scattermapbox"
           }
          ],
          "scatterpolar": [
           {
            "marker": {
             "colorbar": {
              "outlinewidth": 0,
              "ticks": ""
             }
            },
            "type": "scatterpolar"
           }
          ],
          "scatterpolargl": [
           {
            "marker": {
             "colorbar": {
              "outlinewidth": 0,
              "ticks": ""
             }
            },
            "type": "scatterpolargl"
           }
          ],
          "scatterternary": [
           {
            "marker": {
             "colorbar": {
              "outlinewidth": 0,
              "ticks": ""
             }
            },
            "type": "scatterternary"
           }
          ],
          "surface": [
           {
            "colorbar": {
             "outlinewidth": 0,
             "ticks": ""
            },
            "colorscale": [
             [
              0,
              "#0d0887"
             ],
             [
              0.1111111111111111,
              "#46039f"
             ],
             [
              0.2222222222222222,
              "#7201a8"
             ],
             [
              0.3333333333333333,
              "#9c179e"
             ],
             [
              0.4444444444444444,
              "#bd3786"
             ],
             [
              0.5555555555555556,
              "#d8576b"
             ],
             [
              0.6666666666666666,
              "#ed7953"
             ],
             [
              0.7777777777777778,
              "#fb9f3a"
             ],
             [
              0.8888888888888888,
              "#fdca26"
             ],
             [
              1,
              "#f0f921"
             ]
            ],
            "type": "surface"
           }
          ],
          "table": [
           {
            "cells": {
             "fill": {
              "color": "#EBF0F8"
             },
             "line": {
              "color": "white"
             }
            },
            "header": {
             "fill": {
              "color": "#C8D4E3"
             },
             "line": {
              "color": "white"
             }
            },
            "type": "table"
           }
          ]
         },
         "layout": {
          "annotationdefaults": {
           "arrowcolor": "#2a3f5f",
           "arrowhead": 0,
           "arrowwidth": 1
          },
          "autotypenumbers": "strict",
          "coloraxis": {
           "colorbar": {
            "outlinewidth": 0,
            "ticks": ""
           }
          },
          "colorscale": {
           "diverging": [
            [
             0,
             "#8e0152"
            ],
            [
             0.1,
             "#c51b7d"
            ],
            [
             0.2,
             "#de77ae"
            ],
            [
             0.3,
             "#f1b6da"
            ],
            [
             0.4,
             "#fde0ef"
            ],
            [
             0.5,
             "#f7f7f7"
            ],
            [
             0.6,
             "#e6f5d0"
            ],
            [
             0.7,
             "#b8e186"
            ],
            [
             0.8,
             "#7fbc41"
            ],
            [
             0.9,
             "#4d9221"
            ],
            [
             1,
             "#276419"
            ]
           ],
           "sequential": [
            [
             0,
             "#0d0887"
            ],
            [
             0.1111111111111111,
             "#46039f"
            ],
            [
             0.2222222222222222,
             "#7201a8"
            ],
            [
             0.3333333333333333,
             "#9c179e"
            ],
            [
             0.4444444444444444,
             "#bd3786"
            ],
            [
             0.5555555555555556,
             "#d8576b"
            ],
            [
             0.6666666666666666,
             "#ed7953"
            ],
            [
             0.7777777777777778,
             "#fb9f3a"
            ],
            [
             0.8888888888888888,
             "#fdca26"
            ],
            [
             1,
             "#f0f921"
            ]
           ],
           "sequentialminus": [
            [
             0,
             "#0d0887"
            ],
            [
             0.1111111111111111,
             "#46039f"
            ],
            [
             0.2222222222222222,
             "#7201a8"
            ],
            [
             0.3333333333333333,
             "#9c179e"
            ],
            [
             0.4444444444444444,
             "#bd3786"
            ],
            [
             0.5555555555555556,
             "#d8576b"
            ],
            [
             0.6666666666666666,
             "#ed7953"
            ],
            [
             0.7777777777777778,
             "#fb9f3a"
            ],
            [
             0.8888888888888888,
             "#fdca26"
            ],
            [
             1,
             "#f0f921"
            ]
           ]
          },
          "colorway": [
           "#636efa",
           "#EF553B",
           "#00cc96",
           "#ab63fa",
           "#FFA15A",
           "#19d3f3",
           "#FF6692",
           "#B6E880",
           "#FF97FF",
           "#FECB52"
          ],
          "font": {
           "color": "#2a3f5f"
          },
          "geo": {
           "bgcolor": "white",
           "lakecolor": "white",
           "landcolor": "#E5ECF6",
           "showlakes": true,
           "showland": true,
           "subunitcolor": "white"
          },
          "hoverlabel": {
           "align": "left"
          },
          "hovermode": "closest",
          "mapbox": {
           "style": "light"
          },
          "paper_bgcolor": "white",
          "plot_bgcolor": "#E5ECF6",
          "polar": {
           "angularaxis": {
            "gridcolor": "white",
            "linecolor": "white",
            "ticks": ""
           },
           "bgcolor": "#E5ECF6",
           "radialaxis": {
            "gridcolor": "white",
            "linecolor": "white",
            "ticks": ""
           }
          },
          "scene": {
           "xaxis": {
            "backgroundcolor": "#E5ECF6",
            "gridcolor": "white",
            "gridwidth": 2,
            "linecolor": "white",
            "showbackground": true,
            "ticks": "",
            "zerolinecolor": "white"
           },
           "yaxis": {
            "backgroundcolor": "#E5ECF6",
            "gridcolor": "white",
            "gridwidth": 2,
            "linecolor": "white",
            "showbackground": true,
            "ticks": "",
            "zerolinecolor": "white"
           },
           "zaxis": {
            "backgroundcolor": "#E5ECF6",
            "gridcolor": "white",
            "gridwidth": 2,
            "linecolor": "white",
            "showbackground": true,
            "ticks": "",
            "zerolinecolor": "white"
           }
          },
          "shapedefaults": {
           "line": {
            "color": "#2a3f5f"
           }
          },
          "ternary": {
           "aaxis": {
            "gridcolor": "white",
            "linecolor": "white",
            "ticks": ""
           },
           "baxis": {
            "gridcolor": "white",
            "linecolor": "white",
            "ticks": ""
           },
           "bgcolor": "#E5ECF6",
           "caxis": {
            "gridcolor": "white",
            "linecolor": "white",
            "ticks": ""
           }
          },
          "title": {
           "x": 0.05
          },
          "xaxis": {
           "automargin": true,
           "gridcolor": "white",
           "linecolor": "white",
           "ticks": "",
           "title": {
            "standoff": 15
           },
           "zerolinecolor": "white",
           "zerolinewidth": 2
          },
          "yaxis": {
           "automargin": true,
           "gridcolor": "white",
           "linecolor": "white",
           "ticks": "",
           "title": {
            "standoff": 15
           },
           "zerolinecolor": "white",
           "zerolinewidth": 2
          }
         }
        },
        "title": {
         "text": "Weather Forecast",
         "x": 0.5
        },
        "xaxis": {
         "anchor": "y",
         "domain": [
          0,
          1
         ],
         "matches": "x4",
         "showticklabels": false
        },
        "xaxis2": {
         "anchor": "y2",
         "domain": [
          0,
          1
         ],
         "matches": "x4",
         "showticklabels": false
        },
        "xaxis3": {
         "anchor": "y3",
         "domain": [
          0,
          1
         ],
         "matches": "x4",
         "showticklabels": false
        },
        "xaxis4": {
         "anchor": "y4",
         "domain": [
          0,
          1
         ]
        },
        "yaxis": {
         "anchor": "x",
         "domain": [
          0.7575000000000001,
          1
         ],
         "title": {
          "text": "Temperature (°C)"
         }
        },
        "yaxis2": {
         "anchor": "x2",
         "domain": [
          0.505,
          0.7475
         ],
         "title": {
          "text": "Precipitations (mm))"
         }
        },
        "yaxis3": {
         "anchor": "x3",
         "domain": [
          0.2525,
          0.495
         ],
         "title": {
          "text": "Wind Speed (km/h)"
         }
        },
        "yaxis4": {
         "anchor": "x4",
         "domain": [
          0,
          0.2425
         ]
        }
       }
      }
     },
     "metadata": {},
     "output_type": "display_data"
    }
   ],
   "source": [
    "fig = go.Figure()\n",
    "\n",
    "# Create a subplot layout: 4 rows, 1 column, shared x-axis\n",
    "fig = make_subplots(rows=4, cols=1, shared_xaxes=True, vertical_spacing=0.01)\n",
    "\n",
    "# Add the max temperature line with hover info\n",
    "fig.add_trace(go.Scatter(x=daily_data['date'], y=daily_data['temperature_2m_max'].round(2),\n",
    "                         mode='lines+markers',  # Added markers for better visibility on hover\n",
    "                         name='Max Temperature',\n",
    "                         line=dict(color='red'),\n",
    "                         hoverinfo='x+y',  # Shows both date and temperature on hover\n",
    "                         hovertemplate='Date: %{x}<br>MaxTemperature: %{y}°C<extra></extra>',  # Custom hover text\n",
    "                         showlegend=True  # Show the legend\n",
    "                        ), row=1, col=1)\n",
    "\n",
    "# Add the min temperature line with hover info\n",
    "fig.add_trace(go.Scatter(x=daily_data['date'], y=daily_data['temperature_2m_min'].round(2),\n",
    "                         mode='lines+markers',  # Added markers for better visibility on hover\n",
    "                         name='Min Temperature',\n",
    "                         line=dict(color='blue'),\n",
    "                         hoverinfo='x+y',  # Shows both date and temperature on hover\n",
    "                         hovertemplate='Date: %{x}<br>Min Temperature: %{y}°C<extra></extra>',  # Custom hover text\n",
    "                         showlegend=True  # Show the legend\n",
    "                        ), row=1, col=1)\n",
    "\n",
    "\n",
    "fig.add_trace(go.Scatter(x=daily_data['date'], y=daily_data['precipitation_sum'],\n",
    "                         mode='lines+markers',\n",
    "                         name='Precipitation Sum',\n",
    "                         line=dict(color='lightgreen'),\n",
    "                         hoverinfo='x+y',\n",
    "                         hovertemplate='Date: %{x}<br>Precipitation: %{y}mm<extra></extra>'),\n",
    "              row=2, col=1)\n",
    "\n",
    "fig.add_trace(go.Scatter(x=daily_data['date'], y=daily_data['wind_speed_10m_max'].round(2),\n",
    "                         mode='lines+markers',\n",
    "                         name='Wind Speed Max (10m)',\n",
    "                         line=dict(color='lightblue'),\n",
    "                         hoverinfo='x+y',\n",
    "                         hovertemplate='Date: %{x}<br>Wind Speed: %{y}Km/h<extra></extra>'),\n",
    "              row=3, col=1)\n",
    "\n",
    "# Update y-axes titles\n",
    "fig.update_yaxes(title_text=\"Temperature (°C)\", row=1, col=1)\n",
    "fig.update_yaxes(title_text=\"Precipitations (mm))\", row=2, col=1)\n",
    "fig.update_yaxes(title_text=\"Wind Speed (km/h)\", row=3, col=1)\n",
    "\n",
    "# Update layout (optional adjustments)\n",
    "fig.update_layout(height=1000, title_text=\"Weather Forecast\", title_x=0.5)\n",
    "\n",
    "# Show the plot\n",
    "fig.show()"
   ]
  },
  {
   "cell_type": "markdown",
   "metadata": {},
   "source": [
    "#### Query for hourly information "
   ]
  },
  {
   "cell_type": "code",
   "execution_count": 32,
   "metadata": {},
   "outputs": [
    {
     "name": "stdout",
     "output_type": "stream",
     "text": [
      "Coordinates 52.52000045776367°N 13.419998168945312°E\n",
      "Elevation 38.0 m asl\n",
      "Timezone None None\n",
      "Timezone difference to GMT+0 0 s\n"
     ]
    }
   ],
   "source": [
    "params = {\n",
    "\t\"latitude\": 52.52,\n",
    "\t\"longitude\": 13.41,\n",
    "\t\"hourly\": [\"temperature_2m\", \"relative_humidity_2m\", \"precipitation\", \"rain\", \"snowfall\", \"surface_pressure\", \"evapotranspiration\", \"et0_fao_evapotranspiration\", \"wind_speed_10m\", \"soil_temperature_0cm\", \"soil_temperature_6cm\", \"soil_moisture_0_to_1cm\", \"soil_moisture_1_to_3cm\", \"uv_index\"],\n",
    "\t\"start_date\": \"2024-07-01\",\n",
    "\t\"end_date\": \"2024-07-09\"\n",
    "}\n",
    "responses = openmeteo.weather_api(os.environ[\"URL_OPEN-METEO\"], params=params)\n",
    "\n",
    "# Process first location. Add a for-loop for multiple locations or weather models\n",
    "response = responses[0]\n",
    "print(f\"Coordinates {response.Latitude()}°N {response.Longitude()}°E\")\n",
    "print(f\"Elevation {response.Elevation()} m asl\")\n",
    "print(f\"Timezone {response.Timezone()} {response.TimezoneAbbreviation()}\")\n",
    "print(f\"Timezone difference to GMT+0 {response.UtcOffsetSeconds()} s\")\n"
   ]
  },
  {
   "cell_type": "code",
   "execution_count": 91,
   "metadata": {},
   "outputs": [],
   "source": [
    "\n",
    "# Process hourly data. The order of variables needs to be the same as requested.\n",
    "hourly = response.Hourly()\n",
    "hourly_temperature_2m = hourly.Variables(0).ValuesAsNumpy()\n",
    "hourly_relative_humidity_2m = hourly.Variables(1).ValuesAsNumpy()\n",
    "hourly_precipitation = hourly.Variables(2).ValuesAsNumpy()\n",
    "hourly_rain = hourly.Variables(3).ValuesAsNumpy()\n",
    "hourly_snowfall = hourly.Variables(4).ValuesAsNumpy()\n",
    "hourly_surface_pressure = hourly.Variables(5).ValuesAsNumpy()\n",
    "hourly_evapotranspiration = hourly.Variables(6).ValuesAsNumpy()\n",
    "hourly_et0_fao_evapotranspiration = hourly.Variables(7).ValuesAsNumpy()\n",
    "hourly_wind_speed_10m = hourly.Variables(8).ValuesAsNumpy()\n",
    "hourly_soil_temperature_0cm = hourly.Variables(9).ValuesAsNumpy()\n",
    "hourly_soil_temperature_6cm = hourly.Variables(10).ValuesAsNumpy()\n",
    "hourly_soil_moisture_0_to_1cm = hourly.Variables(11).ValuesAsNumpy()\n",
    "hourly_soil_moisture_1_to_3cm = hourly.Variables(12).ValuesAsNumpy()\n",
    "hourly_uv_index = hourly.Variables(13).ValuesAsNumpy()\n",
    "\n",
    "hourly_data = {\"date\": pd.date_range(\n",
    "\tstart = pd.to_datetime(hourly.Time(), unit = \"s\", utc = True),\n",
    "\tend = pd.to_datetime(hourly.TimeEnd(), unit = \"s\", utc = True),\n",
    "\tfreq = pd.Timedelta(seconds = hourly.Interval()),\n",
    "\tinclusive = \"left\"\n",
    ")}\n",
    "\n",
    "hourly_data[\"temperature_2m\"] = hourly_temperature_2m\n",
    "hourly_data[\"relative_humidity_2m\"] = hourly_relative_humidity_2m\n",
    "hourly_data[\"precipitation\"] = hourly_precipitation\n",
    "hourly_data[\"rain\"] = hourly_rain\n",
    "hourly_data[\"snowfall\"] = hourly_snowfall\n",
    "hourly_data[\"surface_pressure\"] = hourly_surface_pressure\n",
    "hourly_data[\"evapotranspiration\"] = hourly_evapotranspiration\n",
    "hourly_data[\"et0_fao_evapotranspiration\"] = hourly_et0_fao_evapotranspiration\n",
    "hourly_data[\"wind_speed_10m\"] = hourly_wind_speed_10m\n",
    "hourly_data[\"soil_temperature_0cm\"] = hourly_soil_temperature_0cm\n",
    "hourly_data[\"soil_temperature_6cm\"] = hourly_soil_temperature_6cm\n",
    "hourly_data[\"soil_moisture_0_to_1cm\"] = hourly_soil_moisture_0_to_1cm\n",
    "hourly_data[\"soil_moisture_1_to_3cm\"] = hourly_soil_moisture_1_to_3cm\n",
    "hourly_data[\"uv_index\"] = hourly_uv_index"
   ]
  },
  {
   "cell_type": "code",
   "execution_count": 35,
   "metadata": {},
   "outputs": [],
   "source": [
    "hourly_dataframe = pd.DataFrame(data = hourly_data)"
   ]
  },
  {
   "cell_type": "code",
   "execution_count": 36,
   "metadata": {},
   "outputs": [
    {
     "data": {
      "text/html": [
       "<div>\n",
       "<style scoped>\n",
       "    .dataframe tbody tr th:only-of-type {\n",
       "        vertical-align: middle;\n",
       "    }\n",
       "\n",
       "    .dataframe tbody tr th {\n",
       "        vertical-align: top;\n",
       "    }\n",
       "\n",
       "    .dataframe thead th {\n",
       "        text-align: right;\n",
       "    }\n",
       "</style>\n",
       "<table border=\"1\" class=\"dataframe\">\n",
       "  <thead>\n",
       "    <tr style=\"text-align: right;\">\n",
       "      <th></th>\n",
       "      <th>date</th>\n",
       "      <th>temperature_2m</th>\n",
       "      <th>relative_humidity_2m</th>\n",
       "      <th>precipitation</th>\n",
       "      <th>rain</th>\n",
       "      <th>snowfall</th>\n",
       "      <th>surface_pressure</th>\n",
       "      <th>evapotranspiration</th>\n",
       "      <th>et0_fao_evapotranspiration</th>\n",
       "      <th>wind_speed_10m</th>\n",
       "      <th>soil_temperature_0cm</th>\n",
       "      <th>soil_temperature_6cm</th>\n",
       "      <th>soil_moisture_0_to_1cm</th>\n",
       "      <th>soil_moisture_1_to_3cm</th>\n",
       "      <th>uv_index</th>\n",
       "    </tr>\n",
       "  </thead>\n",
       "  <tbody>\n",
       "    <tr>\n",
       "      <th>0</th>\n",
       "      <td>2024-07-01 00:00:00+00:00</td>\n",
       "      <td>17.495501</td>\n",
       "      <td>91.0</td>\n",
       "      <td>0.0</td>\n",
       "      <td>0.0</td>\n",
       "      <td>0.0</td>\n",
       "      <td>1005.799255</td>\n",
       "      <td>0.01</td>\n",
       "      <td>0.000000</td>\n",
       "      <td>7.928178</td>\n",
       "      <td>17.695499</td>\n",
       "      <td>19.045500</td>\n",
       "      <td>0.266</td>\n",
       "      <td>0.267</td>\n",
       "      <td>0.00</td>\n",
       "    </tr>\n",
       "    <tr>\n",
       "      <th>1</th>\n",
       "      <td>2024-07-01 01:00:00+00:00</td>\n",
       "      <td>17.545500</td>\n",
       "      <td>91.0</td>\n",
       "      <td>0.0</td>\n",
       "      <td>0.0</td>\n",
       "      <td>0.0</td>\n",
       "      <td>1005.999329</td>\n",
       "      <td>0.01</td>\n",
       "      <td>0.000000</td>\n",
       "      <td>7.771331</td>\n",
       "      <td>17.645500</td>\n",
       "      <td>18.995501</td>\n",
       "      <td>0.266</td>\n",
       "      <td>0.266</td>\n",
       "      <td>0.00</td>\n",
       "    </tr>\n",
       "    <tr>\n",
       "      <th>2</th>\n",
       "      <td>2024-07-01 02:00:00+00:00</td>\n",
       "      <td>17.645500</td>\n",
       "      <td>92.0</td>\n",
       "      <td>0.0</td>\n",
       "      <td>0.0</td>\n",
       "      <td>0.0</td>\n",
       "      <td>1006.001038</td>\n",
       "      <td>0.01</td>\n",
       "      <td>0.000000</td>\n",
       "      <td>9.470120</td>\n",
       "      <td>17.745501</td>\n",
       "      <td>18.895500</td>\n",
       "      <td>0.266</td>\n",
       "      <td>0.266</td>\n",
       "      <td>0.00</td>\n",
       "    </tr>\n",
       "    <tr>\n",
       "      <th>3</th>\n",
       "      <td>2024-07-01 03:00:00+00:00</td>\n",
       "      <td>17.395500</td>\n",
       "      <td>91.0</td>\n",
       "      <td>0.0</td>\n",
       "      <td>0.0</td>\n",
       "      <td>0.0</td>\n",
       "      <td>1006.295471</td>\n",
       "      <td>0.02</td>\n",
       "      <td>0.000000</td>\n",
       "      <td>10.464798</td>\n",
       "      <td>17.345499</td>\n",
       "      <td>18.795500</td>\n",
       "      <td>0.262</td>\n",
       "      <td>0.262</td>\n",
       "      <td>0.00</td>\n",
       "    </tr>\n",
       "    <tr>\n",
       "      <th>4</th>\n",
       "      <td>2024-07-01 04:00:00+00:00</td>\n",
       "      <td>17.145500</td>\n",
       "      <td>89.0</td>\n",
       "      <td>0.0</td>\n",
       "      <td>0.0</td>\n",
       "      <td>0.0</td>\n",
       "      <td>1006.490906</td>\n",
       "      <td>0.03</td>\n",
       "      <td>0.024795</td>\n",
       "      <td>9.387650</td>\n",
       "      <td>17.545500</td>\n",
       "      <td>18.645500</td>\n",
       "      <td>0.262</td>\n",
       "      <td>0.262</td>\n",
       "      <td>0.15</td>\n",
       "    </tr>\n",
       "  </tbody>\n",
       "</table>\n",
       "</div>"
      ],
      "text/plain": [
       "                       date  temperature_2m  relative_humidity_2m  \\\n",
       "0 2024-07-01 00:00:00+00:00       17.495501                  91.0   \n",
       "1 2024-07-01 01:00:00+00:00       17.545500                  91.0   \n",
       "2 2024-07-01 02:00:00+00:00       17.645500                  92.0   \n",
       "3 2024-07-01 03:00:00+00:00       17.395500                  91.0   \n",
       "4 2024-07-01 04:00:00+00:00       17.145500                  89.0   \n",
       "\n",
       "   precipitation  rain  snowfall  surface_pressure  evapotranspiration  \\\n",
       "0            0.0   0.0       0.0       1005.799255                0.01   \n",
       "1            0.0   0.0       0.0       1005.999329                0.01   \n",
       "2            0.0   0.0       0.0       1006.001038                0.01   \n",
       "3            0.0   0.0       0.0       1006.295471                0.02   \n",
       "4            0.0   0.0       0.0       1006.490906                0.03   \n",
       "\n",
       "   et0_fao_evapotranspiration  wind_speed_10m  soil_temperature_0cm  \\\n",
       "0                    0.000000        7.928178             17.695499   \n",
       "1                    0.000000        7.771331             17.645500   \n",
       "2                    0.000000        9.470120             17.745501   \n",
       "3                    0.000000       10.464798             17.345499   \n",
       "4                    0.024795        9.387650             17.545500   \n",
       "\n",
       "   soil_temperature_6cm  soil_moisture_0_to_1cm  soil_moisture_1_to_3cm  \\\n",
       "0             19.045500                   0.266                   0.267   \n",
       "1             18.995501                   0.266                   0.266   \n",
       "2             18.895500                   0.266                   0.266   \n",
       "3             18.795500                   0.262                   0.262   \n",
       "4             18.645500                   0.262                   0.262   \n",
       "\n",
       "   uv_index  \n",
       "0      0.00  \n",
       "1      0.00  \n",
       "2      0.00  \n",
       "3      0.00  \n",
       "4      0.15  "
      ]
     },
     "execution_count": 36,
     "metadata": {},
     "output_type": "execute_result"
    }
   ],
   "source": [
    "hourly_dataframe.head()"
   ]
  },
  {
   "cell_type": "code",
   "execution_count": 93,
   "metadata": {},
   "outputs": [
    {
     "ename": "KeyError",
     "evalue": "'total light hours'",
     "output_type": "error",
     "traceback": [
      "\u001b[1;31m---------------------------------------------------------------------------\u001b[0m",
      "\u001b[1;31mKeyError\u001b[0m                                  Traceback (most recent call last)",
      "File \u001b[1;32mc:\\Users\\mauro\\miniconda3\\envs\\agro_eye_notebooks\\Lib\\site-packages\\pandas\\core\\indexes\\base.py:3805\u001b[0m, in \u001b[0;36mIndex.get_loc\u001b[1;34m(self, key)\u001b[0m\n\u001b[0;32m   3804\u001b[0m \u001b[38;5;28;01mtry\u001b[39;00m:\n\u001b[1;32m-> 3805\u001b[0m     \u001b[38;5;28;01mreturn\u001b[39;00m \u001b[38;5;28;43mself\u001b[39;49m\u001b[38;5;241;43m.\u001b[39;49m\u001b[43m_engine\u001b[49m\u001b[38;5;241;43m.\u001b[39;49m\u001b[43mget_loc\u001b[49m\u001b[43m(\u001b[49m\u001b[43mcasted_key\u001b[49m\u001b[43m)\u001b[49m\n\u001b[0;32m   3806\u001b[0m \u001b[38;5;28;01mexcept\u001b[39;00m \u001b[38;5;167;01mKeyError\u001b[39;00m \u001b[38;5;28;01mas\u001b[39;00m err:\n",
      "File \u001b[1;32mindex.pyx:167\u001b[0m, in \u001b[0;36mpandas._libs.index.IndexEngine.get_loc\u001b[1;34m()\u001b[0m\n",
      "File \u001b[1;32mindex.pyx:196\u001b[0m, in \u001b[0;36mpandas._libs.index.IndexEngine.get_loc\u001b[1;34m()\u001b[0m\n",
      "File \u001b[1;32mpandas\\\\_libs\\\\hashtable_class_helper.pxi:7081\u001b[0m, in \u001b[0;36mpandas._libs.hashtable.PyObjectHashTable.get_item\u001b[1;34m()\u001b[0m\n",
      "File \u001b[1;32mpandas\\\\_libs\\\\hashtable_class_helper.pxi:7089\u001b[0m, in \u001b[0;36mpandas._libs.hashtable.PyObjectHashTable.get_item\u001b[1;34m()\u001b[0m\n",
      "\u001b[1;31mKeyError\u001b[0m: 'total light hours'",
      "\nThe above exception was the direct cause of the following exception:\n",
      "\u001b[1;31mKeyError\u001b[0m                                  Traceback (most recent call last)",
      "Cell \u001b[1;32mIn[93], line 49\u001b[0m\n\u001b[0;32m     47\u001b[0m hour \u001b[38;5;241m=\u001b[39m row[\u001b[38;5;124m'\u001b[39m\u001b[38;5;124mdate\u001b[39m\u001b[38;5;124m'\u001b[39m]\u001b[38;5;241m.\u001b[39mhour\n\u001b[0;32m     48\u001b[0m \u001b[38;5;66;03m#Take the hours of light for that day\u001b[39;00m\n\u001b[1;32m---> 49\u001b[0m light_hours \u001b[38;5;241m=\u001b[39m \u001b[43mrow\u001b[49m\u001b[43m[\u001b[49m\u001b[38;5;124;43m'\u001b[39;49m\u001b[38;5;124;43mtotal light hours\u001b[39;49m\u001b[38;5;124;43m'\u001b[39;49m\u001b[43m]\u001b[49m\n\u001b[0;32m     50\u001b[0m \u001b[38;5;66;03m# Determine if it's day (6 AM to 6 PM) or night\u001b[39;00m\n\u001b[0;32m     51\u001b[0m \u001b[38;5;28;01mif\u001b[39;00m \u001b[38;5;241m6\u001b[39m \u001b[38;5;241m<\u001b[39m\u001b[38;5;241m=\u001b[39m hour \u001b[38;5;241m<\u001b[39m\u001b[38;5;241m=\u001b[39m light_hours:\n",
      "File \u001b[1;32mc:\\Users\\mauro\\miniconda3\\envs\\agro_eye_notebooks\\Lib\\site-packages\\pandas\\core\\series.py:1121\u001b[0m, in \u001b[0;36mSeries.__getitem__\u001b[1;34m(self, key)\u001b[0m\n\u001b[0;32m   1118\u001b[0m     \u001b[38;5;28;01mreturn\u001b[39;00m \u001b[38;5;28mself\u001b[39m\u001b[38;5;241m.\u001b[39m_values[key]\n\u001b[0;32m   1120\u001b[0m \u001b[38;5;28;01melif\u001b[39;00m key_is_scalar:\n\u001b[1;32m-> 1121\u001b[0m     \u001b[38;5;28;01mreturn\u001b[39;00m \u001b[38;5;28;43mself\u001b[39;49m\u001b[38;5;241;43m.\u001b[39;49m\u001b[43m_get_value\u001b[49m\u001b[43m(\u001b[49m\u001b[43mkey\u001b[49m\u001b[43m)\u001b[49m\n\u001b[0;32m   1123\u001b[0m \u001b[38;5;66;03m# Convert generator to list before going through hashable part\u001b[39;00m\n\u001b[0;32m   1124\u001b[0m \u001b[38;5;66;03m# (We will iterate through the generator there to check for slices)\u001b[39;00m\n\u001b[0;32m   1125\u001b[0m \u001b[38;5;28;01mif\u001b[39;00m is_iterator(key):\n",
      "File \u001b[1;32mc:\\Users\\mauro\\miniconda3\\envs\\agro_eye_notebooks\\Lib\\site-packages\\pandas\\core\\series.py:1237\u001b[0m, in \u001b[0;36mSeries._get_value\u001b[1;34m(self, label, takeable)\u001b[0m\n\u001b[0;32m   1234\u001b[0m     \u001b[38;5;28;01mreturn\u001b[39;00m \u001b[38;5;28mself\u001b[39m\u001b[38;5;241m.\u001b[39m_values[label]\n\u001b[0;32m   1236\u001b[0m \u001b[38;5;66;03m# Similar to Index.get_value, but we do not fall back to positional\u001b[39;00m\n\u001b[1;32m-> 1237\u001b[0m loc \u001b[38;5;241m=\u001b[39m \u001b[38;5;28;43mself\u001b[39;49m\u001b[38;5;241;43m.\u001b[39;49m\u001b[43mindex\u001b[49m\u001b[38;5;241;43m.\u001b[39;49m\u001b[43mget_loc\u001b[49m\u001b[43m(\u001b[49m\u001b[43mlabel\u001b[49m\u001b[43m)\u001b[49m\n\u001b[0;32m   1239\u001b[0m \u001b[38;5;28;01mif\u001b[39;00m is_integer(loc):\n\u001b[0;32m   1240\u001b[0m     \u001b[38;5;28;01mreturn\u001b[39;00m \u001b[38;5;28mself\u001b[39m\u001b[38;5;241m.\u001b[39m_values[loc]\n",
      "File \u001b[1;32mc:\\Users\\mauro\\miniconda3\\envs\\agro_eye_notebooks\\Lib\\site-packages\\pandas\\core\\indexes\\base.py:3812\u001b[0m, in \u001b[0;36mIndex.get_loc\u001b[1;34m(self, key)\u001b[0m\n\u001b[0;32m   3807\u001b[0m     \u001b[38;5;28;01mif\u001b[39;00m \u001b[38;5;28misinstance\u001b[39m(casted_key, \u001b[38;5;28mslice\u001b[39m) \u001b[38;5;129;01mor\u001b[39;00m (\n\u001b[0;32m   3808\u001b[0m         \u001b[38;5;28misinstance\u001b[39m(casted_key, abc\u001b[38;5;241m.\u001b[39mIterable)\n\u001b[0;32m   3809\u001b[0m         \u001b[38;5;129;01mand\u001b[39;00m \u001b[38;5;28many\u001b[39m(\u001b[38;5;28misinstance\u001b[39m(x, \u001b[38;5;28mslice\u001b[39m) \u001b[38;5;28;01mfor\u001b[39;00m x \u001b[38;5;129;01min\u001b[39;00m casted_key)\n\u001b[0;32m   3810\u001b[0m     ):\n\u001b[0;32m   3811\u001b[0m         \u001b[38;5;28;01mraise\u001b[39;00m InvalidIndexError(key)\n\u001b[1;32m-> 3812\u001b[0m     \u001b[38;5;28;01mraise\u001b[39;00m \u001b[38;5;167;01mKeyError\u001b[39;00m(key) \u001b[38;5;28;01mfrom\u001b[39;00m \u001b[38;5;21;01merr\u001b[39;00m\n\u001b[0;32m   3813\u001b[0m \u001b[38;5;28;01mexcept\u001b[39;00m \u001b[38;5;167;01mTypeError\u001b[39;00m:\n\u001b[0;32m   3814\u001b[0m     \u001b[38;5;66;03m# If we have a listlike key, _check_indexing_error will raise\u001b[39;00m\n\u001b[0;32m   3815\u001b[0m     \u001b[38;5;66;03m#  InvalidIndexError. Otherwise we fall through and re-raise\u001b[39;00m\n\u001b[0;32m   3816\u001b[0m     \u001b[38;5;66;03m#  the TypeError.\u001b[39;00m\n\u001b[0;32m   3817\u001b[0m     \u001b[38;5;28mself\u001b[39m\u001b[38;5;241m.\u001b[39m_check_indexing_error(key)\n",
      "\u001b[1;31mKeyError\u001b[0m: 'total light hours'"
     ]
    }
   ],
   "source": [
    "fig = go.Figure()\n",
    "\n",
    "# Create a subplot layout: 4 rows, 1 column, shared x-axis\n",
    "fig = make_subplots(rows=4, cols=1, shared_xaxes=True, vertical_spacing=0.01)\n",
    "\n",
    "# Add the temperature trace to the first subplot\n",
    "fig.add_trace(go.Scatter(x=hourly_dataframe['date'], y=hourly_dataframe['temperature_2m'].round(2),\n",
    "                         mode='lines+markers',\n",
    "                         name='Temperature',\n",
    "                         line=dict(color='red'),\n",
    "                         hoverinfo='x+y',\n",
    "                         hovertemplate='Date: %{x}<br>Temperature: %{y}°C<extra></extra>'),\n",
    "              row=1, col=1)\n",
    "\n",
    "# Add the humidity trace to the second subplot\n",
    "fig.add_trace(go.Scatter(x=hourly_dataframe['date'], y=hourly_dataframe['relative_humidity_2m'],\n",
    "                         mode='lines+markers',\n",
    "                         name='Humidity',\n",
    "                         line=dict(color='lightgreen'),\n",
    "                         hoverinfo='x+y',\n",
    "                         hovertemplate='Date: %{x}<br>Humidity: %{y}%<extra></extra>'),\n",
    "              row=2, col=1)\n",
    "\n",
    "# Add the wind speed trace to the third subplot\n",
    "fig.add_trace(go.Scatter(x=hourly_dataframe['date'], y=hourly_dataframe['wind_speed_10m'].round(2),\n",
    "                         mode='lines+markers',\n",
    "                         name='Wind Speed',\n",
    "                         line=dict(color='lightblue'),\n",
    "                         hoverinfo='x+y',\n",
    "                         hovertemplate='Date: %{x}<br>Wind Speed:%{y} Km/h <extra></extra>'),\n",
    "              row=3, col=1)\n",
    "\n",
    "# Add the precipitation trace to the third subplot\n",
    "fig.add_trace(go.Scatter(x=hourly_dataframe['date'], y=hourly_dataframe['precipitation'].round(2),\n",
    "                         mode='lines+markers',\n",
    "                         name='Precipitations',\n",
    "                         line=dict(color='blue'),\n",
    "                         hoverinfo='x+y',\n",
    "                         hovertemplate='Date: %{x}<br>Precipitation:%{y} mm <extra></extra>'),\n",
    "              row=4, col=1)\n",
    "\n",
    "#offset of the figure with respect to the point\n",
    "fixed_offset = 2\n",
    "\n",
    "# Iterate through the dataframe and add annotations\n",
    "for index, row in hourly_dataframe.iterrows():\n",
    "    hour = row['date'].hour\n",
    "    # Determine if it's day (6 AM to 6 PM) or night\n",
    "    if 6 <= hour < 18:\n",
    "        symbol = '☀️'  # Sun symbol for day\n",
    "    else:\n",
    "        symbol = '🌑'  # Moon symbol for night\n",
    "    \n",
    "    # Add annotation for each point\n",
    "    fig.add_annotation(x=row['date'], y=round(row['temperature_2m'], 2) + 2,  # Adjust Y to place the symbol above the point\n",
    "                       text=symbol,\n",
    "                       showarrow=False,\n",
    "                       font=dict(size=12),  # Adjust font size as needed\n",
    "                       row=1, col=1)\n",
    "\n",
    "# Update y-axes titles\n",
    "fig.update_yaxes(title_text=\"Temperature (°C)\", title_font=dict(weight='bold'), row=1, col=1)\n",
    "fig.update_yaxes(title_text=\"Humidity (%)\", title_font=dict(weight='bold'), row=2, col=1)\n",
    "fig.update_yaxes(title_text=\"Wind Speed (Km/h)\", title_font=dict(weight='bold'), row=3, col=1)\n",
    "fig.update_yaxes(title_text=\"Precipitations (mm)\", title_font=dict(weight='bold'), row=4, col=1)\n",
    "\n",
    "# Update layout (optional adjustments)\n",
    "fig.update_layout(height=1000, title_text=\"Weather Forecast\", title_x=0.5)\n",
    "\n",
    "# Show the plot\n",
    "fig.show()"
   ]
  }
 ],
 "metadata": {
  "kernelspec": {
   "display_name": "agro_eye_notebooks",
   "language": "python",
   "name": "python3"
  },
  "language_info": {
   "codemirror_mode": {
    "name": "ipython",
    "version": 3
   },
   "file_extension": ".py",
   "mimetype": "text/x-python",
   "name": "python",
   "nbconvert_exporter": "python",
   "pygments_lexer": "ipython3",
   "version": "3.11.9"
  }
 },
 "nbformat": 4,
 "nbformat_minor": 2
}
